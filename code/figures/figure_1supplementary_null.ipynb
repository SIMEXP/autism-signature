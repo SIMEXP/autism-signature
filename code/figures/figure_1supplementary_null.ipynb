{
 "cells": [
  {
   "cell_type": "markdown",
   "metadata": {},
   "source": [
    "## AGE + Motion Baseline model"
   ]
  },
  {
   "cell_type": "code",
   "execution_count": 1,
   "metadata": {
    "execution": {
     "iopub.execute_input": "2025-04-13T01:52:00.757181Z",
     "iopub.status.busy": "2025-04-13T01:52:00.756671Z",
     "iopub.status.idle": "2025-04-13T01:52:01.168828Z",
     "shell.execute_reply": "2025-04-13T01:52:01.167960Z"
    }
   },
   "outputs": [],
   "source": [
    "%matplotlib inline"
   ]
  },
  {
   "cell_type": "code",
   "execution_count": 2,
   "metadata": {
    "execution": {
     "iopub.execute_input": "2025-04-13T01:52:01.171936Z",
     "iopub.status.busy": "2025-04-13T01:52:01.171678Z",
     "iopub.status.idle": "2025-04-13T01:52:01.762990Z",
     "shell.execute_reply": "2025-04-13T01:52:01.762077Z"
    }
   },
   "outputs": [],
   "source": [
    "import pandas as pd\n",
    "import numpy as np\n",
    "import pathlib as pal\n",
    "import seaborn as sbn\n",
    "from matplotlib import pyplot as plt"
   ]
  },
  {
   "cell_type": "code",
   "execution_count": 3,
   "metadata": {
    "execution": {
     "iopub.execute_input": "2025-04-13T01:52:01.766246Z",
     "iopub.status.busy": "2025-04-13T01:52:01.765979Z",
     "iopub.status.idle": "2025-04-13T01:52:01.770934Z",
     "shell.execute_reply": "2025-04-13T01:52:01.770243Z"
    }
   },
   "outputs": [],
   "source": [
    "import pathlib as pal\n",
    "\n",
    "# 📁 Base path = where this notebook lives\n",
    "root_p = pal.Path().resolve()\n",
    "\n",
    "# 📂 Input paths\n",
    "pheno_p = root_p / '../../source_data/Data/ABIDE1_Pheno_PSM_matched.tsv'\n",
    "null_p = root_p / '../../output_data/Results/Null'\n",
    "data_t = null_p / 'Results_Instance_{}_NULL_Model_age_fd.csv'\n",
    "\n",
    "split_net_p0_p = str(root_p / '../../output_data/Results/Discovery/split_net_{}_p0.tsv')\n",
    "split_net_p1_p = str(root_p / '../../output_data/Results/Discovery/split_net_{}_p1.tsv')\n",
    "\n",
    "# 📈 Output directory\n",
    "fig_p = root_p / '../../output_data/Figures/figure_1supplementary_null'\n",
    "fig_p.mkdir(parents=True, exist_ok=True)"
   ]
  },
  {
   "cell_type": "markdown",
   "metadata": {},
   "source": [
    "## Load"
   ]
  },
  {
   "cell_type": "code",
   "execution_count": 4,
   "metadata": {
    "execution": {
     "iopub.execute_input": "2025-04-13T01:52:01.773370Z",
     "iopub.status.busy": "2025-04-13T01:52:01.773190Z",
     "iopub.status.idle": "2025-04-13T01:52:01.776574Z",
     "shell.execute_reply": "2025-04-13T01:52:01.775792Z"
    }
   },
   "outputs": [],
   "source": [
    "def mm2in(mm):\n",
    "    return mm/25.4"
   ]
  },
  {
   "cell_type": "code",
   "execution_count": 5,
   "metadata": {
    "execution": {
     "iopub.execute_input": "2025-04-13T01:52:01.778960Z",
     "iopub.status.busy": "2025-04-13T01:52:01.778727Z",
     "iopub.status.idle": "2025-04-13T01:52:01.791241Z",
     "shell.execute_reply": "2025-04-13T01:52:01.790420Z"
    }
   },
   "outputs": [],
   "source": [
    "pheno = pd.read_csv(pheno_p, sep='\\t')"
   ]
  },
  {
   "cell_type": "code",
   "execution_count": 6,
   "metadata": {
    "execution": {
     "iopub.execute_input": "2025-04-13T01:52:01.794198Z",
     "iopub.status.busy": "2025-04-13T01:52:01.793941Z",
     "iopub.status.idle": "2025-04-13T01:52:03.237758Z",
     "shell.execute_reply": "2025-04-13T01:52:03.236588Z"
    }
   },
   "outputs": [],
   "source": [
    "# Get the results and store in array\n",
    "results_array = np.stack([[pd.read_csv(str(data_t).format(instance+1, net+1)).values[:, 1:] \n",
    "                           for instance in range(100)] \n",
    "                          for net in range(18)], -1)"
   ]
  },
  {
   "cell_type": "code",
   "execution_count": 7,
   "metadata": {
    "execution": {
     "iopub.execute_input": "2025-04-13T01:52:03.241285Z",
     "iopub.status.busy": "2025-04-13T01:52:03.241074Z",
     "iopub.status.idle": "2025-04-13T01:52:03.246184Z",
     "shell.execute_reply": "2025-04-13T01:52:03.245386Z"
    }
   },
   "outputs": [],
   "source": [
    "bootstrap_order = results_array[:, :, 1, 0].astype(int) - 1"
   ]
  },
  {
   "cell_type": "code",
   "execution_count": 8,
   "metadata": {
    "execution": {
     "iopub.execute_input": "2025-04-13T01:52:03.248752Z",
     "iopub.status.busy": "2025-04-13T01:52:03.248571Z",
     "iopub.status.idle": "2025-04-13T01:52:03.663501Z",
     "shell.execute_reply": "2025-04-13T01:52:03.662585Z"
    }
   },
   "outputs": [
    {
     "name": "stdout",
     "output_type": "stream",
     "text": [
      "[np.int64(122), np.int64(296), np.int64(303), np.int64(112), np.int64(410), np.int64(85), np.int64(213), np.int64(342), np.int64(250), np.int64(61)]\n"
     ]
    },
    {
     "data": {
      "text/html": [
       "<div>\n",
       "<style scoped>\n",
       "    .dataframe tbody tr th:only-of-type {\n",
       "        vertical-align: middle;\n",
       "    }\n",
       "\n",
       "    .dataframe tbody tr th {\n",
       "        vertical-align: top;\n",
       "    }\n",
       "\n",
       "    .dataframe thead th {\n",
       "        text-align: right;\n",
       "    }\n",
       "</style>\n",
       "<table border=\"1\" class=\"dataframe\">\n",
       "  <thead>\n",
       "    <tr style=\"text-align: right;\">\n",
       "      <th></th>\n",
       "      <th>Unnamed: 0</th>\n",
       "      <th>bootstrap_train</th>\n",
       "      <th>bootstrap_test</th>\n",
       "      <th>p_values</th>\n",
       "      <th>p0_values</th>\n",
       "    </tr>\n",
       "  </thead>\n",
       "  <tbody>\n",
       "    <tr>\n",
       "      <th>18</th>\n",
       "      <td>19</td>\n",
       "      <td>366</td>\n",
       "      <td>212</td>\n",
       "      <td>0.49635</td>\n",
       "      <td>0.70073</td>\n",
       "    </tr>\n",
       "  </tbody>\n",
       "</table>\n",
       "</div>"
      ],
      "text/plain": [
       "    Unnamed: 0  bootstrap_train  bootstrap_test  p_values  p0_values\n",
       "18          19              366             212   0.49635    0.70073"
      ]
     },
     "execution_count": 8,
     "metadata": {},
     "output_type": "execute_result"
    }
   ],
   "source": [
    "# Find individuals that are more than once in a sample\n",
    "tab = pd.read_csv(str(data_t).format(1, 1))\n",
    "print([u for u in tab.bootstrap_test.unique() if tab.query('bootstrap_test == @u').shape[0] > 3])\n",
    "tab.query('bootstrap_test == 212')"
   ]
  },
  {
   "cell_type": "code",
   "execution_count": 9,
   "metadata": {
    "execution": {
     "iopub.execute_input": "2025-04-13T01:52:03.717813Z",
     "iopub.status.busy": "2025-04-13T01:52:03.717325Z",
     "iopub.status.idle": "2025-04-13T01:52:03.853342Z",
     "shell.execute_reply": "2025-04-13T01:52:03.852490Z"
    }
   },
   "outputs": [],
   "source": [
    "handles=precision_split = np.zeros(shape=(100, 7))\n",
    "specificity_split = np.zeros(shape=(100, 7))\n",
    "sensitivity_split = np.zeros(shape=(100, 7))\n",
    "\n",
    "thr = 0.2\n",
    "\n",
    "for net in range(2):\n",
    "    p1 = pd.read_csv(split_net_p1_p.format(net+1), sep='\\t')\n",
    "    p0 = pd.read_csv(split_net_p0_p.format(net+1), sep='\\t')\n",
    "    for iteration in range(100):\n",
    "        # Get the right bootstrap order\n",
    "        bo = bootstrap_order[iteration, :]\n",
    "        labels = (pheno.iloc[bo].DX_GROUP=='Autism').values.astype(int)\n",
    "        prediction_region = (p1.values[:, iteration] > thr) & (p0.values[:, iteration] <= thr)\n",
    "\n",
    "        p = sum(labels==1)\n",
    "        n = sum(labels==0)\n",
    "        tp = sum(labels[prediction_region]==1)\n",
    "        fp = sum(labels[prediction_region]==0)\n",
    "        tn = sum(labels[~prediction_region]==0)\n",
    "        fn = sum(labels[~prediction_region]==1)\n",
    "        # Compute stuff\n",
    "        try:\n",
    "            sens = tp / p\n",
    "            spec = tn / n\n",
    "            ppv = tp / (tp+fp)\n",
    "            npv = tn / (tn + fn)\n",
    "            fpr = fp / n\n",
    "            fdr = fp / (fp + tp)\n",
    "        except ZeroDivisionError:\n",
    "            replace = 0\n",
    "            sens = replace\n",
    "            spec = replace\n",
    "            ppv = replace\n",
    "            npv = replace\n",
    "            fpr = replace\n",
    "            fdr = replace\n",
    "\n",
    "        precision_split[iteration, net] = ppv\n",
    "        specificity_split[iteration, net] = spec\n",
    "        sensitivity_split[iteration, net] = sens\n"
   ]
  },
  {
   "cell_type": "code",
   "execution_count": 10,
   "metadata": {
    "execution": {
     "iopub.execute_input": "2025-04-13T01:52:03.856054Z",
     "iopub.status.busy": "2025-04-13T01:52:03.855755Z",
     "iopub.status.idle": "2025-04-13T01:52:03.861235Z",
     "shell.execute_reply": "2025-04-13T01:52:03.860471Z"
    }
   },
   "outputs": [],
   "source": [
    "table_split = pd.DataFrame([(p, spec, sens, n)  \n",
    "                      for net in range(2) for p, spec, sens, n in \n",
    "                      [(precision_split[i, net], \n",
    "                        specificity_split[i, net],\n",
    "                        sensitivity_split[i, net],\n",
    "                        f'group_{net+1}') for i in range(100)]],\n",
    "                     columns=('precision', 'specificity', 'sensitivity', 'network'))"
   ]
  },
  {
   "cell_type": "code",
   "execution_count": 11,
   "metadata": {
    "execution": {
     "iopub.execute_input": "2025-04-13T01:52:03.863480Z",
     "iopub.status.busy": "2025-04-13T01:52:03.863295Z",
     "iopub.status.idle": "2025-04-13T01:52:03.872153Z",
     "shell.execute_reply": "2025-04-13T01:52:03.871475Z"
    }
   },
   "outputs": [
    {
     "data": {
      "text/html": [
       "<div>\n",
       "<style scoped>\n",
       "    .dataframe tbody tr th:only-of-type {\n",
       "        vertical-align: middle;\n",
       "    }\n",
       "\n",
       "    .dataframe tbody tr th {\n",
       "        vertical-align: top;\n",
       "    }\n",
       "\n",
       "    .dataframe thead th {\n",
       "        text-align: right;\n",
       "    }\n",
       "</style>\n",
       "<table border=\"1\" class=\"dataframe\">\n",
       "  <thead>\n",
       "    <tr style=\"text-align: right;\">\n",
       "      <th></th>\n",
       "      <th>precision</th>\n",
       "      <th>specificity</th>\n",
       "      <th>sensitivity</th>\n",
       "      <th>network</th>\n",
       "    </tr>\n",
       "  </thead>\n",
       "  <tbody>\n",
       "    <tr>\n",
       "      <th>0</th>\n",
       "      <td>1.000000</td>\n",
       "      <td>1.000000</td>\n",
       "      <td>0.014354</td>\n",
       "      <td>group_1</td>\n",
       "    </tr>\n",
       "    <tr>\n",
       "      <th>1</th>\n",
       "      <td>0.857143</td>\n",
       "      <td>0.986047</td>\n",
       "      <td>0.092308</td>\n",
       "      <td>group_1</td>\n",
       "    </tr>\n",
       "    <tr>\n",
       "      <th>2</th>\n",
       "      <td>0.724138</td>\n",
       "      <td>0.960784</td>\n",
       "      <td>0.101942</td>\n",
       "      <td>group_1</td>\n",
       "    </tr>\n",
       "    <tr>\n",
       "      <th>3</th>\n",
       "      <td>0.722222</td>\n",
       "      <td>0.976852</td>\n",
       "      <td>0.067010</td>\n",
       "      <td>group_1</td>\n",
       "    </tr>\n",
       "    <tr>\n",
       "      <th>4</th>\n",
       "      <td>0.642857</td>\n",
       "      <td>0.975728</td>\n",
       "      <td>0.044118</td>\n",
       "      <td>group_1</td>\n",
       "    </tr>\n",
       "    <tr>\n",
       "      <th>...</th>\n",
       "      <td>...</td>\n",
       "      <td>...</td>\n",
       "      <td>...</td>\n",
       "      <td>...</td>\n",
       "    </tr>\n",
       "    <tr>\n",
       "      <th>195</th>\n",
       "      <td>0.500000</td>\n",
       "      <td>0.980861</td>\n",
       "      <td>0.019900</td>\n",
       "      <td>group_2</td>\n",
       "    </tr>\n",
       "    <tr>\n",
       "      <th>196</th>\n",
       "      <td>0.730769</td>\n",
       "      <td>0.963351</td>\n",
       "      <td>0.086758</td>\n",
       "      <td>group_2</td>\n",
       "    </tr>\n",
       "    <tr>\n",
       "      <th>197</th>\n",
       "      <td>0.888889</td>\n",
       "      <td>0.985437</td>\n",
       "      <td>0.117647</td>\n",
       "      <td>group_2</td>\n",
       "    </tr>\n",
       "    <tr>\n",
       "      <th>198</th>\n",
       "      <td>0.772727</td>\n",
       "      <td>0.974359</td>\n",
       "      <td>0.079070</td>\n",
       "      <td>group_2</td>\n",
       "    </tr>\n",
       "    <tr>\n",
       "      <th>199</th>\n",
       "      <td>0.400000</td>\n",
       "      <td>0.970297</td>\n",
       "      <td>0.019231</td>\n",
       "      <td>group_2</td>\n",
       "    </tr>\n",
       "  </tbody>\n",
       "</table>\n",
       "<p>200 rows × 4 columns</p>\n",
       "</div>"
      ],
      "text/plain": [
       "     precision  specificity  sensitivity  network\n",
       "0     1.000000     1.000000     0.014354  group_1\n",
       "1     0.857143     0.986047     0.092308  group_1\n",
       "2     0.724138     0.960784     0.101942  group_1\n",
       "3     0.722222     0.976852     0.067010  group_1\n",
       "4     0.642857     0.975728     0.044118  group_1\n",
       "..         ...          ...          ...      ...\n",
       "195   0.500000     0.980861     0.019900  group_2\n",
       "196   0.730769     0.963351     0.086758  group_2\n",
       "197   0.888889     0.985437     0.117647  group_2\n",
       "198   0.772727     0.974359     0.079070  group_2\n",
       "199   0.400000     0.970297     0.019231  group_2\n",
       "\n",
       "[200 rows x 4 columns]"
      ]
     },
     "execution_count": 11,
     "metadata": {},
     "output_type": "execute_result"
    }
   ],
   "source": [
    "table_split"
   ]
  },
  {
   "cell_type": "code",
   "execution_count": 12,
   "metadata": {
    "execution": {
     "iopub.execute_input": "2025-04-13T01:52:03.874188Z",
     "iopub.status.busy": "2025-04-13T01:52:03.873939Z",
     "iopub.status.idle": "2025-04-13T01:52:03.930580Z",
     "shell.execute_reply": "2025-04-13T01:52:03.930021Z"
    }
   },
   "outputs": [
    {
     "name": "stdout",
     "output_type": "stream",
     "text": [
      "0.0\n",
      "0.0\n"
     ]
    }
   ],
   "source": [
    "precision = np.zeros(shape=(100))\n",
    "specificity = np.zeros(shape=(100))\n",
    "sensitivity = np.zeros(shape=(100))\n",
    "\n",
    "thr = 0.05\n",
    "\n",
    "for idx in range(100):\n",
    "    bo = bootstrap_order[idx, :]\n",
    "\n",
    "    labels = (pheno.iloc[bo].DX_GROUP=='Autism').values.astype(int)\n",
    "    prediction_region = (p1.values[bo, idx] > thr) & (p0.values[bo, idx] <= thr)\n",
    "\n",
    "    p = sum(labels==1)\n",
    "    n = sum(labels==0)\n",
    "    tp = sum(labels[prediction_region]==1)\n",
    "    fp = sum(labels[prediction_region]==0)\n",
    "    tn = sum(labels[~prediction_region]==0)\n",
    "    fn = sum(labels[~prediction_region]==1)\n",
    "    \n",
    "    \n",
    "    if tp+fp==0:\n",
    "        ppv = 0\n",
    "        fdr = 0\n",
    "    else:\n",
    "        ppv = tp / (tp+fp)\n",
    "        fdr = fp / (fp + tp)\n",
    "    # Compute stuff\n",
    "    sens = tp / p\n",
    "    spec = tn / n\n",
    "    npv = tn / (tn + fn)\n",
    "    fpr = fp / n\n",
    "\n",
    "    precision[idx] = ppv\n",
    "    specificity[idx] = spec\n",
    "    sensitivity[idx] = sens\n",
    "\n",
    "print(np.median(precision))\n",
    "print(np.median(sensitivity))"
   ]
  },
  {
   "cell_type": "code",
   "execution_count": 13,
   "metadata": {
    "execution": {
     "iopub.execute_input": "2025-04-13T01:52:03.933076Z",
     "iopub.status.busy": "2025-04-13T01:52:03.932889Z",
     "iopub.status.idle": "2025-04-13T01:52:03.938801Z",
     "shell.execute_reply": "2025-04-13T01:52:03.938018Z"
    }
   },
   "outputs": [],
   "source": [
    "values = np.concatenate((precision, table_split.query('network==\"group_1\"')['precision'].values))\n",
    "names = ['baseline'] * 100 + ['HRS'] * 100\n",
    "\n",
    "comb_table = pd.DataFrame({'PPV': values, 'model': names, 'useless': [1]*200})"
   ]
  },
  {
   "cell_type": "code",
   "execution_count": 14,
   "metadata": {
    "execution": {
     "iopub.execute_input": "2025-04-13T01:52:03.941163Z",
     "iopub.status.busy": "2025-04-13T01:52:03.940963Z",
     "iopub.status.idle": "2025-04-13T01:52:04.283043Z",
     "shell.execute_reply": "2025-04-13T01:52:04.282251Z"
    }
   },
   "outputs": [
    {
     "data": {
      "image/png": "[encoded data removed]",
      "text/plain": [
       "<Figure size 236.22x196.85 with 1 Axes>"
      ]
     },
     "metadata": {},
     "output_type": "display_data"
    }
   ],
   "source": [
    "dpi=300\n",
    "scale_factor = 1\n",
    "height = 50 * scale_factor\n",
    "width = 60 * scale_factor\n",
    "\n",
    "f = plt.figure(figsize=(mm2in(width),mm2in(height)), constrained_layout=True)\n",
    "\n",
    "ax = f.add_subplot(111)\n",
    "g = sbn.violinplot(x='model', y='PPV', hue='model', data=comb_table, ax=ax, \n",
    "                  palette=sbn.color_palette(['grey', '#FE9D08']), legend=False)\n",
    "\n",
    "sbn.despine(f, top=True, right=True)\n",
    "ax.set_ylabel('PPV', fontsize=10)\n",
    "ax.set_xticks([0, 1])\n",
    "ax.set_xticklabels(['baseline\\nmodel', 'HRS\\nmodel'], fontsize=10)\n",
    "\n",
    "f.savefig(fig_p / 'baseline.png', bbox_inches='tight', dpi=dpi, transparent=True, pad_inches=0)\n",
    "f.savefig(fig_p / 'baseline.pdf', bbox_inches='tight', dpi=dpi, transparent=True, pad_inches=0)"
   ]
  }
 ],
 "metadata": {
  "kernelspec": {
   "display_name": "Python 3 (ipykernel)",
   "language": "python",
   "name": "python3"
  },
  "language_info": {
   "codemirror_mode": {
    "name": "ipython",
    "version": 3
   },
   "file_extension": ".py",
   "mimetype": "text/x-python",
   "name": "python",
   "nbconvert_exporter": "python",
   "pygments_lexer": "ipython3",
   "version": "3.10.11"
  }
 },
 "nbformat": 4,
 "nbformat_minor": 4
}
