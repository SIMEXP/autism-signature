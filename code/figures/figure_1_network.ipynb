{
 "cells": [
  {
   "cell_type": "markdown",
   "metadata": {},
   "source": [
    "# Fig 1 sideways\n",
    "- network correlation matrix with left bound names\n",
    "- three tier model precision view\n",
    "- brain networks color coded by ensembles\n",
    "- association between ASD conformal scores and behavioural metrics"
   ]
  },
  {
   "cell_type": "code",
   "execution_count": 1,
   "metadata": {
    "execution": {
     "iopub.execute_input": "2025-04-13T01:51:32.898088Z",
     "iopub.status.busy": "2025-04-13T01:51:32.897605Z",
     "iopub.status.idle": "2025-04-13T01:51:33.530013Z",
     "shell.execute_reply": "2025-04-13T01:51:33.529234Z"
    }
   },
   "outputs": [],
   "source": [
    "%matplotlib inline"
   ]
  },
  {
   "cell_type": "code",
   "execution_count": 2,
   "metadata": {
    "execution": {
     "iopub.execute_input": "2025-04-13T01:51:33.533387Z",
     "iopub.status.busy": "2025-04-13T01:51:33.532979Z",
     "iopub.status.idle": "2025-04-13T01:51:34.474894Z",
     "shell.execute_reply": "2025-04-13T01:51:34.474149Z"
    }
   },
   "outputs": [],
   "source": [
    "import pandas as pd\n",
    "import numpy as np\n",
    "import pathlib as pal\n",
    "import scipy as sp\n",
    "import seaborn as sbn\n",
    "import nibabel as nib\n",
    "import warnings\n",
    "from scipy import cluster as scl\n",
    "from matplotlib import pyplot as plt\n",
    "import matplotlib as mpl\n",
    "from matplotlib import gridspec\n",
    "from nilearn import plotting as nlp\n",
    "import nilearn.input_data as nii\n",
    "from matplotlib.colors import ListedColormap, LinearSegmentedColormap\n",
    "from matplotlib import MatplotlibDeprecationWarning"
   ]
  },
  {
   "cell_type": "code",
   "execution_count": 3,
   "metadata": {
    "execution": {
     "iopub.execute_input": "2025-04-13T01:51:34.478093Z",
     "iopub.status.busy": "2025-04-13T01:51:34.477808Z",
     "iopub.status.idle": "2025-04-13T01:51:34.481516Z",
     "shell.execute_reply": "2025-04-13T01:51:34.480810Z"
    }
   },
   "outputs": [],
   "source": [
    "warnings.filterwarnings(\"ignore\", category=UserWarning)\n",
    "warnings.filterwarnings(\"ignore\", category=MatplotlibDeprecationWarning)"
   ]
  },
  {
   "cell_type": "code",
   "execution_count": 4,
   "metadata": {
    "execution": {
     "iopub.execute_input": "2025-04-13T01:51:34.483969Z",
     "iopub.status.busy": "2025-04-13T01:51:34.483797Z",
     "iopub.status.idle": "2025-04-13T01:51:34.489060Z",
     "shell.execute_reply": "2025-04-13T01:51:34.488427Z"
    }
   },
   "outputs": [],
   "source": [
    "import pathlib as pal\n",
    "\n",
    "# 📁 Base path = where this notebook lives\n",
    "root_p = pal.Path().resolve()\n",
    "\n",
    "# 📂 Input paths\n",
    "pheno_p = root_p / '../../source_data/Data/ABIDE1_Pheno_PSM_matched.tsv'\n",
    "MIST_p = root_p / '../../source_data/ATLAS/MIST'\n",
    "labels_p = MIST_p / 'Parcel_Information/MIST_20_nocereb.csv'\n",
    "atlas_p = MIST_p / 'Parcellations/MIST_20.nii.gz'\n",
    "mask_p = MIST_p / 'Parcellations/MIST_mask.nii.gz'\n",
    "\n",
    "# 📊 Results\n",
    "# Default to precomputed results from Zenodo archive:\n",
    "discovery_p = root_p / '../../output_data/Results/Discovery'\n",
    "\n",
    "# 💡 To use your own reproduced results instead, uncomment this:\n",
    "# discovery_p = root_p / '../../output_data/Discovery'\n",
    "\n",
    "comb_net_p0_p = str(discovery_p / 'combined_networks_{}_p0.tsv')\n",
    "comb_net_p1_p = str(discovery_p / 'combined_networks_{}_p1.tsv')\n",
    "split_net_p0_p = str(discovery_p / 'split_net_{}_p0.tsv')\n",
    "split_net_p1_p = str(discovery_p / 'split_net_{}_p1.tsv')\n",
    "all_net_p0_p = str(discovery_p / 'combined_networks_8_p0.tsv')\n",
    "all_net_p1_p = discovery_p / 'combined_networks_8_p1.tsv'\n",
    "data_t = discovery_p / 'Results_Instance_{}_Network_{}.csv'\n",
    "\n",
    "# 📈 Output\n",
    "fig_p = root_p / '../../output_data/Figures/figure_1_network'\n",
    "fig_p.mkdir(parents=True, exist_ok=True)"
   ]
  },
  {
   "cell_type": "code",
   "execution_count": 5,
   "metadata": {
    "execution": {
     "iopub.execute_input": "2025-04-13T01:51:34.491721Z",
     "iopub.status.busy": "2025-04-13T01:51:34.491550Z",
     "iopub.status.idle": "2025-04-13T01:51:34.583805Z",
     "shell.execute_reply": "2025-04-13T01:51:34.583032Z"
    }
   },
   "outputs": [
    {
     "data": {
      "text/html": [
       "<style>#sk-container-id-1 {\n",
       "  /* Definition of color scheme common for light and dark mode */\n",
       "  --sklearn-color-text: #000;\n",
       "  --sklearn-color-text-muted: #666;\n",
       "  --sklearn-color-line: gray;\n",
       "  /* Definition of color scheme for unfitted estimators */\n",
       "  --sklearn-color-unfitted-level-0: #fff5e6;\n",
       "  --sklearn-color-unfitted-level-1: #f6e4d2;\n",
       "  --sklearn-color-unfitted-level-2: #ffe0b3;\n",
       "  --sklearn-color-unfitted-level-3: chocolate;\n",
       "  /* Definition of color scheme for fitted estimators */\n",
       "  --sklearn-color-fitted-level-0: #f0f8ff;\n",
       "  --sklearn-color-fitted-level-1: #d4ebff;\n",
       "  --sklearn-color-fitted-level-2: #b3dbfd;\n",
       "  --sklearn-color-fitted-level-3: cornflowerblue;\n",
       "\n",
       "  /* Specific color for light theme */\n",
       "  --sklearn-color-text-on-default-background: var(--sg-text-color, var(--theme-code-foreground, var(--jp-content-font-color1, black)));\n",
       "  --sklearn-color-background: var(--sg-background-color, var(--theme-background, var(--jp-layout-color0, white)));\n",
       "  --sklearn-color-border-box: var(--sg-text-color, var(--theme-code-foreground, var(--jp-content-font-color1, black)));\n",
       "  --sklearn-color-icon: #696969;\n",
       "\n",
       "  @media (prefers-color-scheme: dark) {\n",
       "    /* Redefinition of color scheme for dark theme */\n",
       "    --sklearn-color-text-on-default-background: var(--sg-text-color, var(--theme-code-foreground, var(--jp-content-font-color1, white)));\n",
       "    --sklearn-color-background: var(--sg-background-color, var(--theme-background, var(--jp-layout-color0, #111)));\n",
       "    --sklearn-color-border-box: var(--sg-text-color, var(--theme-code-foreground, var(--jp-content-font-color1, white)));\n",
       "    --sklearn-color-icon: #878787;\n",
       "  }\n",
       "}\n",
       "\n",
       "#sk-container-id-1 {\n",
       "  color: var(--sklearn-color-text);\n",
       "}\n",
       "\n",
       "#sk-container-id-1 pre {\n",
       "  padding: 0;\n",
       "}\n",
       "\n",
       "#sk-container-id-1 input.sk-hidden--visually {\n",
       "  border: 0;\n",
       "  clip: rect(1px 1px 1px 1px);\n",
       "  clip: rect(1px, 1px, 1px, 1px);\n",
       "  height: 1px;\n",
       "  margin: -1px;\n",
       "  overflow: hidden;\n",
       "  padding: 0;\n",
       "  position: absolute;\n",
       "  width: 1px;\n",
       "}\n",
       "\n",
       "#sk-container-id-1 div.sk-dashed-wrapped {\n",
       "  border: 1px dashed var(--sklearn-color-line);\n",
       "  margin: 0 0.4em 0.5em 0.4em;\n",
       "  box-sizing: border-box;\n",
       "  padding-bottom: 0.4em;\n",
       "  background-color: var(--sklearn-color-background);\n",
       "}\n",
       "\n",
       "#sk-container-id-1 div.sk-container {\n",
       "  /* jupyter's `normalize.less` sets `[hidden] { display: none; }`\n",
       "     but bootstrap.min.css set `[hidden] { display: none !important; }`\n",
       "     so we also need the `!important` here to be able to override the\n",
       "     default hidden behavior on the sphinx rendered scikit-learn.org.\n",
       "     See: https://github.com/scikit-learn/scikit-learn/issues/21755 */\n",
       "  display: inline-block !important;\n",
       "  position: relative;\n",
       "}\n",
       "\n",
       "#sk-container-id-1 div.sk-text-repr-fallback {\n",
       "  display: none;\n",
       "}\n",
       "\n",
       "div.sk-parallel-item,\n",
       "div.sk-serial,\n",
       "div.sk-item {\n",
       "  /* draw centered vertical line to link estimators */\n",
       "  background-image: linear-gradient(var(--sklearn-color-text-on-default-background), var(--sklearn-color-text-on-default-background));\n",
       "  background-size: 2px 100%;\n",
       "  background-repeat: no-repeat;\n",
       "  background-position: center center;\n",
       "}\n",
       "\n",
       "/* Parallel-specific style estimator block */\n",
       "\n",
       "#sk-container-id-1 div.sk-parallel-item::after {\n",
       "  content: \"\";\n",
       "  width: 100%;\n",
       "  border-bottom: 2px solid var(--sklearn-color-text-on-default-background);\n",
       "  flex-grow: 1;\n",
       "}\n",
       "\n",
       "#sk-container-id-1 div.sk-parallel {\n",
       "  display: flex;\n",
       "  align-items: stretch;\n",
       "  justify-content: center;\n",
       "  background-color: var(--sklearn-color-background);\n",
       "  position: relative;\n",
       "}\n",
       "\n",
       "#sk-container-id-1 div.sk-parallel-item {\n",
       "  display: flex;\n",
       "  flex-direction: column;\n",
       "}\n",
       "\n",
       "#sk-container-id-1 div.sk-parallel-item:first-child::after {\n",
       "  align-self: flex-end;\n",
       "  width: 50%;\n",
       "}\n",
       "\n",
       "#sk-container-id-1 div.sk-parallel-item:last-child::after {\n",
       "  align-self: flex-start;\n",
       "  width: 50%;\n",
       "}\n",
       "\n",
       "#sk-container-id-1 div.sk-parallel-item:only-child::after {\n",
       "  width: 0;\n",
       "}\n",
       "\n",
       "/* Serial-specific style estimator block */\n",
       "\n",
       "#sk-container-id-1 div.sk-serial {\n",
       "  display: flex;\n",
       "  flex-direction: column;\n",
       "  align-items: center;\n",
       "  background-color: var(--sklearn-color-background);\n",
       "  padding-right: 1em;\n",
       "  padding-left: 1em;\n",
       "}\n",
       "\n",
       "\n",
       "/* Toggleable style: style used for estimator/Pipeline/ColumnTransformer box that is\n",
       "clickable and can be expanded/collapsed.\n",
       "- Pipeline and ColumnTransformer use this feature and define the default style\n",
       "- Estimators will overwrite some part of the style using the `sk-estimator` class\n",
       "*/\n",
       "\n",
       "/* Pipeline and ColumnTransformer style (default) */\n",
       "\n",
       "#sk-container-id-1 div.sk-toggleable {\n",
       "  /* Default theme specific background. It is overwritten whether we have a\n",
       "  specific estimator or a Pipeline/ColumnTransformer */\n",
       "  background-color: var(--sklearn-color-background);\n",
       "}\n",
       "\n",
       "/* Toggleable label */\n",
       "#sk-container-id-1 label.sk-toggleable__label {\n",
       "  cursor: pointer;\n",
       "  display: flex;\n",
       "  width: 100%;\n",
       "  margin-bottom: 0;\n",
       "  padding: 0.5em;\n",
       "  box-sizing: border-box;\n",
       "  text-align: center;\n",
       "  align-items: start;\n",
       "  justify-content: space-between;\n",
       "  gap: 0.5em;\n",
       "}\n",
       "\n",
       "#sk-container-id-1 label.sk-toggleable__label .caption {\n",
       "  font-size: 0.6rem;\n",
       "  font-weight: lighter;\n",
       "  color: var(--sklearn-color-text-muted);\n",
       "}\n",
       "\n",
       "#sk-container-id-1 label.sk-toggleable__label-arrow:before {\n",
       "  /* Arrow on the left of the label */\n",
       "  content: \"▸\";\n",
       "  float: left;\n",
       "  margin-right: 0.25em;\n",
       "  color: var(--sklearn-color-icon);\n",
       "}\n",
       "\n",
       "#sk-container-id-1 label.sk-toggleable__label-arrow:hover:before {\n",
       "  color: var(--sklearn-color-text);\n",
       "}\n",
       "\n",
       "/* Toggleable content - dropdown */\n",
       "\n",
       "#sk-container-id-1 div.sk-toggleable__content {\n",
       "  max-height: 0;\n",
       "  max-width: 0;\n",
       "  overflow: hidden;\n",
       "  text-align: left;\n",
       "  /* unfitted */\n",
       "  background-color: var(--sklearn-color-unfitted-level-0);\n",
       "}\n",
       "\n",
       "#sk-container-id-1 div.sk-toggleable__content.fitted {\n",
       "  /* fitted */\n",
       "  background-color: var(--sklearn-color-fitted-level-0);\n",
       "}\n",
       "\n",
       "#sk-container-id-1 div.sk-toggleable__content pre {\n",
       "  margin: 0.2em;\n",
       "  border-radius: 0.25em;\n",
       "  color: var(--sklearn-color-text);\n",
       "  /* unfitted */\n",
       "  background-color: var(--sklearn-color-unfitted-level-0);\n",
       "}\n",
       "\n",
       "#sk-container-id-1 div.sk-toggleable__content.fitted pre {\n",
       "  /* unfitted */\n",
       "  background-color: var(--sklearn-color-fitted-level-0);\n",
       "}\n",
       "\n",
       "#sk-container-id-1 input.sk-toggleable__control:checked~div.sk-toggleable__content {\n",
       "  /* Expand drop-down */\n",
       "  max-height: 200px;\n",
       "  max-width: 100%;\n",
       "  overflow: auto;\n",
       "}\n",
       "\n",
       "#sk-container-id-1 input.sk-toggleable__control:checked~label.sk-toggleable__label-arrow:before {\n",
       "  content: \"▾\";\n",
       "}\n",
       "\n",
       "/* Pipeline/ColumnTransformer-specific style */\n",
       "\n",
       "#sk-container-id-1 div.sk-label input.sk-toggleable__control:checked~label.sk-toggleable__label {\n",
       "  color: var(--sklearn-color-text);\n",
       "  background-color: var(--sklearn-color-unfitted-level-2);\n",
       "}\n",
       "\n",
       "#sk-container-id-1 div.sk-label.fitted input.sk-toggleable__control:checked~label.sk-toggleable__label {\n",
       "  background-color: var(--sklearn-color-fitted-level-2);\n",
       "}\n",
       "\n",
       "/* Estimator-specific style */\n",
       "\n",
       "/* Colorize estimator box */\n",
       "#sk-container-id-1 div.sk-estimator input.sk-toggleable__control:checked~label.sk-toggleable__label {\n",
       "  /* unfitted */\n",
       "  background-color: var(--sklearn-color-unfitted-level-2);\n",
       "}\n",
       "\n",
       "#sk-container-id-1 div.sk-estimator.fitted input.sk-toggleable__control:checked~label.sk-toggleable__label {\n",
       "  /* fitted */\n",
       "  background-color: var(--sklearn-color-fitted-level-2);\n",
       "}\n",
       "\n",
       "#sk-container-id-1 div.sk-label label.sk-toggleable__label,\n",
       "#sk-container-id-1 div.sk-label label {\n",
       "  /* The background is the default theme color */\n",
       "  color: var(--sklearn-color-text-on-default-background);\n",
       "}\n",
       "\n",
       "/* On hover, darken the color of the background */\n",
       "#sk-container-id-1 div.sk-label:hover label.sk-toggleable__label {\n",
       "  color: var(--sklearn-color-text);\n",
       "  background-color: var(--sklearn-color-unfitted-level-2);\n",
       "}\n",
       "\n",
       "/* Label box, darken color on hover, fitted */\n",
       "#sk-container-id-1 div.sk-label.fitted:hover label.sk-toggleable__label.fitted {\n",
       "  color: var(--sklearn-color-text);\n",
       "  background-color: var(--sklearn-color-fitted-level-2);\n",
       "}\n",
       "\n",
       "/* Estimator label */\n",
       "\n",
       "#sk-container-id-1 div.sk-label label {\n",
       "  font-family: monospace;\n",
       "  font-weight: bold;\n",
       "  display: inline-block;\n",
       "  line-height: 1.2em;\n",
       "}\n",
       "\n",
       "#sk-container-id-1 div.sk-label-container {\n",
       "  text-align: center;\n",
       "}\n",
       "\n",
       "/* Estimator-specific */\n",
       "#sk-container-id-1 div.sk-estimator {\n",
       "  font-family: monospace;\n",
       "  border: 1px dotted var(--sklearn-color-border-box);\n",
       "  border-radius: 0.25em;\n",
       "  box-sizing: border-box;\n",
       "  margin-bottom: 0.5em;\n",
       "  /* unfitted */\n",
       "  background-color: var(--sklearn-color-unfitted-level-0);\n",
       "}\n",
       "\n",
       "#sk-container-id-1 div.sk-estimator.fitted {\n",
       "  /* fitted */\n",
       "  background-color: var(--sklearn-color-fitted-level-0);\n",
       "}\n",
       "\n",
       "/* on hover */\n",
       "#sk-container-id-1 div.sk-estimator:hover {\n",
       "  /* unfitted */\n",
       "  background-color: var(--sklearn-color-unfitted-level-2);\n",
       "}\n",
       "\n",
       "#sk-container-id-1 div.sk-estimator.fitted:hover {\n",
       "  /* fitted */\n",
       "  background-color: var(--sklearn-color-fitted-level-2);\n",
       "}\n",
       "\n",
       "/* Specification for estimator info (e.g. \"i\" and \"?\") */\n",
       "\n",
       "/* Common style for \"i\" and \"?\" */\n",
       "\n",
       ".sk-estimator-doc-link,\n",
       "a:link.sk-estimator-doc-link,\n",
       "a:visited.sk-estimator-doc-link {\n",
       "  float: right;\n",
       "  font-size: smaller;\n",
       "  line-height: 1em;\n",
       "  font-family: monospace;\n",
       "  background-color: var(--sklearn-color-background);\n",
       "  border-radius: 1em;\n",
       "  height: 1em;\n",
       "  width: 1em;\n",
       "  text-decoration: none !important;\n",
       "  margin-left: 0.5em;\n",
       "  text-align: center;\n",
       "  /* unfitted */\n",
       "  border: var(--sklearn-color-unfitted-level-1) 1pt solid;\n",
       "  color: var(--sklearn-color-unfitted-level-1);\n",
       "}\n",
       "\n",
       ".sk-estimator-doc-link.fitted,\n",
       "a:link.sk-estimator-doc-link.fitted,\n",
       "a:visited.sk-estimator-doc-link.fitted {\n",
       "  /* fitted */\n",
       "  border: var(--sklearn-color-fitted-level-1) 1pt solid;\n",
       "  color: var(--sklearn-color-fitted-level-1);\n",
       "}\n",
       "\n",
       "/* On hover */\n",
       "div.sk-estimator:hover .sk-estimator-doc-link:hover,\n",
       ".sk-estimator-doc-link:hover,\n",
       "div.sk-label-container:hover .sk-estimator-doc-link:hover,\n",
       ".sk-estimator-doc-link:hover {\n",
       "  /* unfitted */\n",
       "  background-color: var(--sklearn-color-unfitted-level-3);\n",
       "  color: var(--sklearn-color-background);\n",
       "  text-decoration: none;\n",
       "}\n",
       "\n",
       "div.sk-estimator.fitted:hover .sk-estimator-doc-link.fitted:hover,\n",
       ".sk-estimator-doc-link.fitted:hover,\n",
       "div.sk-label-container:hover .sk-estimator-doc-link.fitted:hover,\n",
       ".sk-estimator-doc-link.fitted:hover {\n",
       "  /* fitted */\n",
       "  background-color: var(--sklearn-color-fitted-level-3);\n",
       "  color: var(--sklearn-color-background);\n",
       "  text-decoration: none;\n",
       "}\n",
       "\n",
       "/* Span, style for the box shown on hovering the info icon */\n",
       ".sk-estimator-doc-link span {\n",
       "  display: none;\n",
       "  z-index: 9999;\n",
       "  position: relative;\n",
       "  font-weight: normal;\n",
       "  right: .2ex;\n",
       "  padding: .5ex;\n",
       "  margin: .5ex;\n",
       "  width: min-content;\n",
       "  min-width: 20ex;\n",
       "  max-width: 50ex;\n",
       "  color: var(--sklearn-color-text);\n",
       "  box-shadow: 2pt 2pt 4pt #999;\n",
       "  /* unfitted */\n",
       "  background: var(--sklearn-color-unfitted-level-0);\n",
       "  border: .5pt solid var(--sklearn-color-unfitted-level-3);\n",
       "}\n",
       "\n",
       ".sk-estimator-doc-link.fitted span {\n",
       "  /* fitted */\n",
       "  background: var(--sklearn-color-fitted-level-0);\n",
       "  border: var(--sklearn-color-fitted-level-3);\n",
       "}\n",
       "\n",
       ".sk-estimator-doc-link:hover span {\n",
       "  display: block;\n",
       "}\n",
       "\n",
       "/* \"?\"-specific style due to the `<a>` HTML tag */\n",
       "\n",
       "#sk-container-id-1 a.estimator_doc_link {\n",
       "  float: right;\n",
       "  font-size: 1rem;\n",
       "  line-height: 1em;\n",
       "  font-family: monospace;\n",
       "  background-color: var(--sklearn-color-background);\n",
       "  border-radius: 1rem;\n",
       "  height: 1rem;\n",
       "  width: 1rem;\n",
       "  text-decoration: none;\n",
       "  /* unfitted */\n",
       "  color: var(--sklearn-color-unfitted-level-1);\n",
       "  border: var(--sklearn-color-unfitted-level-1) 1pt solid;\n",
       "}\n",
       "\n",
       "#sk-container-id-1 a.estimator_doc_link.fitted {\n",
       "  /* fitted */\n",
       "  border: var(--sklearn-color-fitted-level-1) 1pt solid;\n",
       "  color: var(--sklearn-color-fitted-level-1);\n",
       "}\n",
       "\n",
       "/* On hover */\n",
       "#sk-container-id-1 a.estimator_doc_link:hover {\n",
       "  /* unfitted */\n",
       "  background-color: var(--sklearn-color-unfitted-level-3);\n",
       "  color: var(--sklearn-color-background);\n",
       "  text-decoration: none;\n",
       "}\n",
       "\n",
       "#sk-container-id-1 a.estimator_doc_link.fitted:hover {\n",
       "  /* fitted */\n",
       "  background-color: var(--sklearn-color-fitted-level-3);\n",
       "}\n",
       "</style><div id=\"sk-container-id-1\" class=\"sk-top-container\"><div class=\"sk-text-repr-fallback\"><pre>NiftiMasker(mask_img=&lt;nibabel.nifti1.Nifti1Image object at 0x79458058f5b0&gt;,\n",
       "            memory=Memory(location=None))</pre><b>In a Jupyter environment, please rerun this cell to show the HTML representation or trust the notebook. <br />On GitHub, the HTML representation is unable to render, please try loading this page with nbviewer.org.</b></div><div class=\"sk-container\" hidden><div class=\"sk-item\"><div class=\"sk-estimator fitted sk-toggleable\"><input class=\"sk-toggleable__control sk-hidden--visually\" id=\"sk-estimator-id-1\" type=\"checkbox\" checked><label for=\"sk-estimator-id-1\" class=\"sk-toggleable__label fitted sk-toggleable__label-arrow\"><div><div>NiftiMasker</div></div><div><span class=\"sk-estimator-doc-link fitted\">i<span>Fitted</span></span></div></label><div class=\"sk-toggleable__content fitted\"><pre>NiftiMasker(mask_img=&lt;nibabel.nifti1.Nifti1Image object at 0x79458058f5b0&gt;,\n",
       "            memory=Memory(location=None))</pre></div> </div></div></div></div>"
      ],
      "text/plain": [
       "NiftiMasker(mask_img=<nibabel.nifti1.Nifti1Image object at 0x79458058f5b0>,\n",
       "            memory=Memory(location=None))"
      ]
     },
     "execution_count": 5,
     "metadata": {},
     "output_type": "execute_result"
    }
   ],
   "source": [
    "pheno = pd.read_csv(pheno_p, sep='\\t')\n",
    "atlas_i = nib.load(atlas_p)\n",
    "mask_i = nib.load(mask_p)\n",
    "has_autism = (pheno.DX_GROUP=='Autism').values.astype(int)\n",
    "network_labels = pd.read_csv(labels_p, sep=';')\n",
    "\n",
    "voxel_masker = nii.NiftiMasker(mask_img=mask_i, standardize=False)\n",
    "voxel_masker.fit()"
   ]
  },
  {
   "cell_type": "code",
   "execution_count": 6,
   "metadata": {
    "execution": {
     "iopub.execute_input": "2025-04-13T01:51:34.635329Z",
     "iopub.status.busy": "2025-04-13T01:51:34.634961Z",
     "iopub.status.idle": "2025-04-13T01:51:36.122131Z",
     "shell.execute_reply": "2025-04-13T01:51:36.121377Z"
    }
   },
   "outputs": [],
   "source": [
    "results_array = np.stack([[pd.read_csv(str(data_t).format(instance+1, net+1)).values[:, 1:] \n",
    "                           for instance in range(100)] \n",
    "                          for net in range(18)], -1)"
   ]
  },
  {
   "cell_type": "code",
   "execution_count": 7,
   "metadata": {
    "execution": {
     "iopub.execute_input": "2025-04-13T01:51:36.125177Z",
     "iopub.status.busy": "2025-04-13T01:51:36.124990Z",
     "iopub.status.idle": "2025-04-13T01:51:36.128442Z",
     "shell.execute_reply": "2025-04-13T01:51:36.127804Z"
    }
   },
   "outputs": [],
   "source": [
    "easy_names = [\"bas. gangl.\",\"vent. soma.mot.\",\"orb.front. ctx\",\n",
    "              \"VMPFC\",\"inf. temp. gyr.\",\"task control\",\n",
    "              \"auditory\",\"med. visual\",\"amygd. hippocamp.\",\n",
    "              \"dors. soma.mot.\",\"vent. att.\",\"ant. DMN\",\"post.med. DMN\",\n",
    "              \"lat. visual\",\"dwnstrm visual\",\"lat. DMN\",\"lat. vent. att.\",\"front.-par.\"]"
   ]
  },
  {
   "cell_type": "code",
   "execution_count": 8,
   "metadata": {
    "execution": {
     "iopub.execute_input": "2025-04-13T01:51:36.130581Z",
     "iopub.status.busy": "2025-04-13T01:51:36.130411Z",
     "iopub.status.idle": "2025-04-13T01:51:36.134184Z",
     "shell.execute_reply": "2025-04-13T01:51:36.133603Z"
    }
   },
   "outputs": [],
   "source": [
    "network_labels['easy'] = easy_names"
   ]
  },
  {
   "cell_type": "code",
   "execution_count": 9,
   "metadata": {
    "execution": {
     "iopub.execute_input": "2025-04-13T01:51:36.136370Z",
     "iopub.status.busy": "2025-04-13T01:51:36.136193Z",
     "iopub.status.idle": "2025-04-13T01:51:36.139038Z",
     "shell.execute_reply": "2025-04-13T01:51:36.138484Z"
    }
   },
   "outputs": [],
   "source": [
    "def mm2in(mm):\n",
    "    return mm/25.4"
   ]
  },
  {
   "cell_type": "markdown",
   "metadata": {},
   "source": [
    "# Remember: those are R-indices -> they start at 1 and go to 410"
   ]
  },
  {
   "cell_type": "code",
   "execution_count": 10,
   "metadata": {
    "execution": {
     "iopub.execute_input": "2025-04-13T01:51:36.141408Z",
     "iopub.status.busy": "2025-04-13T01:51:36.141229Z",
     "iopub.status.idle": "2025-04-13T01:51:36.144986Z",
     "shell.execute_reply": "2025-04-13T01:51:36.144425Z"
    }
   },
   "outputs": [],
   "source": [
    "manual_network_order = [18, \n",
    "                        3, 9, 5, 16, \n",
    "                        1, \n",
    "                        13, 4, 12,\n",
    "                        2, 7, 10,\n",
    "                        11, 6, 17,\n",
    "                        8, 14, 15]\n",
    "data_order = np.array([12, 3, 11, 0, 2, 8, 4, 15, 17, 7, 13, 14, 10, 16, 5, 9, 6, 1])+1\n",
    "man_order = np.array(manual_network_order)\n",
    "#man_order = np.array(data_order)"
   ]
  },
  {
   "cell_type": "code",
   "execution_count": 11,
   "metadata": {
    "execution": {
     "iopub.execute_input": "2025-04-13T01:51:36.147346Z",
     "iopub.status.busy": "2025-04-13T01:51:36.147034Z",
     "iopub.status.idle": "2025-04-13T01:51:36.150647Z",
     "shell.execute_reply": "2025-04-13T01:51:36.150055Z"
    }
   },
   "outputs": [],
   "source": [
    "bootstrap_order = results_array[:, :, 1, 0].astype(int) - 1"
   ]
  },
  {
   "cell_type": "markdown",
   "metadata": {},
   "source": [
    "## Individual networks"
   ]
  },
  {
   "cell_type": "code",
   "execution_count": 12,
   "metadata": {
    "execution": {
     "iopub.execute_input": "2025-04-13T01:51:36.153351Z",
     "iopub.status.busy": "2025-04-13T01:51:36.153174Z",
     "iopub.status.idle": "2025-04-13T01:51:37.010769Z",
     "shell.execute_reply": "2025-04-13T01:51:37.009814Z"
    }
   },
   "outputs": [],
   "source": [
    "precision = np.zeros(shape=(100, 18))\n",
    "specificity = np.zeros(shape=(100, 18))\n",
    "sensitivity = np.zeros(shape=(100, 18))\n",
    "\n",
    "thr = 0.05\n",
    "\n",
    "for iteration in range(100):\n",
    "    for net in range(18):\n",
    "        test = results_array[iteration, ..., net]\n",
    "        \n",
    "        labels = (pheno.iloc[(test[:, 1]-1).astype(int)].DX_GROUP=='Autism').values.astype(int)\n",
    "        prediction_region = (test[:, 2] > thr) & (test[:, 3] <= thr)\n",
    "\n",
    "        p = sum(labels==1)\n",
    "        n = sum(labels==0)\n",
    "        tp = sum(labels[prediction_region]==1)\n",
    "        fp = sum(labels[prediction_region]==0)\n",
    "        tn = sum(labels[~prediction_region]==0)\n",
    "        fn = sum(labels[~prediction_region]==1)\n",
    "        # Compute stuff\n",
    "        sens = tp / p\n",
    "        spec = tn / n\n",
    "        ppv = tp / (tp+fp)\n",
    "        npv = tn / (tn + fn)\n",
    "        fpr = fp / n\n",
    "        fdr = fp / (fp + tp)\n",
    "        \n",
    "        precision[iteration, net] = ppv\n",
    "        specificity[iteration, net] = spec\n",
    "        sensitivity[iteration, net] = sens"
   ]
  },
  {
   "cell_type": "code",
   "execution_count": 13,
   "metadata": {
    "execution": {
     "iopub.execute_input": "2025-04-13T01:51:37.013712Z",
     "iopub.status.busy": "2025-04-13T01:51:37.013511Z",
     "iopub.status.idle": "2025-04-13T01:51:37.264766Z",
     "shell.execute_reply": "2025-04-13T01:51:37.264057Z"
    }
   },
   "outputs": [],
   "source": [
    "table = pd.DataFrame([(p, spec, sens, n)  \n",
    "                      for net in range(18) for p, spec, sens, n in \n",
    "                      [(precision[i, net], \n",
    "                        specificity[i, net],\n",
    "                        sensitivity[i, net],\n",
    "                        network_labels.iloc[net]['label']) for i in range(100)]],\n",
    "                     columns=('precision', 'specificity', 'sensitivity', 'network'))\n",
    "\n",
    "\n",
    "manual_partition = [0, \n",
    "                    1, 1, 1, 1, \n",
    "                    2, \n",
    "                    3, 3, 3, \n",
    "                    4, 4, 4,\n",
    "                    5, 5, 5,\n",
    "                    6, 6, 6]\n",
    "network_names_ordered = [network_labels.loc[o]['label'] for o in man_order-1 ]\n",
    "group_mapping = {n: f'group_{p+1}' for n, p in zip(network_names_ordered, \n",
    "                                 manual_partition)}\n",
    "\n",
    "table['group'] = [group_mapping[row['network']] for rid, row in table.iterrows()]\n",
    "\n",
    "# Get me the table index ordered like the networks\n",
    "\n",
    "table_order = [i for n in network_names_ordered for i in table.query(f'network==\"{n}\"').index]\n",
    "\n",
    "table['group'] = [group_mapping[row['network']] for rid, row in table.iterrows()]"
   ]
  },
  {
   "cell_type": "markdown",
   "metadata": {},
   "source": [
    "## Combined networks"
   ]
  },
  {
   "cell_type": "code",
   "execution_count": 14,
   "metadata": {
    "execution": {
     "iopub.execute_input": "2025-04-13T01:51:37.267873Z",
     "iopub.status.busy": "2025-04-13T01:51:37.267682Z",
     "iopub.status.idle": "2025-04-13T01:51:37.734061Z",
     "shell.execute_reply": "2025-04-13T01:51:37.733360Z"
    }
   },
   "outputs": [],
   "source": [
    "handles=precision_combined = np.zeros(shape=(100, 7))\n",
    "specificity_combined = np.zeros(shape=(100, 7))\n",
    "sensitivity_combined = np.zeros(shape=(100, 7))\n",
    "\n",
    "thr = 0.2\n",
    "\n",
    "for net in range(7):\n",
    "    p1 = pd.read_csv(comb_net_p1_p.format(net+1), sep='\\t')\n",
    "    p0 = pd.read_csv(comb_net_p0_p.format(net+1), sep='\\t')\n",
    "    for iteration in range(100):\n",
    "        # Get the right bootstrap order\n",
    "        bo = bootstrap_order[iteration, :]\n",
    "        labels = (pheno.iloc[bo].DX_GROUP=='Autism').values.astype(int)\n",
    "        prediction_region = (p1.values[:, iteration] > thr) & (p0.values[:, iteration] <= thr)\n",
    "\n",
    "        p = sum(labels==1)\n",
    "        n = sum(labels==0)\n",
    "        tp = sum(labels[prediction_region]==1)\n",
    "        fp = sum(labels[prediction_region]==0)\n",
    "        tn = sum(labels[~prediction_region]==0)\n",
    "        fn = sum(labels[~prediction_region]==1)\n",
    "        # Compute stuff\n",
    "        sens = tp / p\n",
    "        spec = tn / n\n",
    "        ppv = tp / (tp+fp)\n",
    "        npv = tn / (tn + fn)\n",
    "        fpr = fp / n\n",
    "        fdr = fp / (fp + tp)\n",
    "\n",
    "        precision_combined[iteration, net] = ppv\n",
    "        specificity_combined[iteration, net] = spec\n",
    "        sensitivity_combined[iteration, net] = sens"
   ]
  },
  {
   "cell_type": "code",
   "execution_count": 15,
   "metadata": {
    "execution": {
     "iopub.execute_input": "2025-04-13T01:51:37.736953Z",
     "iopub.status.busy": "2025-04-13T01:51:37.736763Z",
     "iopub.status.idle": "2025-04-13T01:51:37.741921Z",
     "shell.execute_reply": "2025-04-13T01:51:37.741323Z"
    }
   },
   "outputs": [],
   "source": [
    "table_combined = pd.DataFrame([(p, spec, sens, n)  \n",
    "                      for net in range(7) for p, spec, sens, n in \n",
    "                      [(precision_combined[i, net], \n",
    "                        specificity_combined[i, net],\n",
    "                        sensitivity_combined[i, net],\n",
    "                        f'group_{net+1}') for i in range(100)]],\n",
    "                     columns=('precision', 'specificity', 'sensitivity', 'network'))"
   ]
  },
  {
   "cell_type": "markdown",
   "metadata": {},
   "source": [
    "## Split networks\n",
    "The two big network groups"
   ]
  },
  {
   "cell_type": "code",
   "execution_count": 16,
   "metadata": {
    "execution": {
     "iopub.execute_input": "2025-04-13T01:51:37.744471Z",
     "iopub.status.busy": "2025-04-13T01:51:37.744291Z",
     "iopub.status.idle": "2025-04-13T01:51:37.880271Z",
     "shell.execute_reply": "2025-04-13T01:51:37.879551Z"
    }
   },
   "outputs": [],
   "source": [
    "handles=precision_split = np.zeros(shape=(100, 7))\n",
    "specificity_split = np.zeros(shape=(100, 7))\n",
    "sensitivity_split = np.zeros(shape=(100, 7))\n",
    "\n",
    "thr = 0.2\n",
    "\n",
    "for net in range(2):\n",
    "    p1 = pd.read_csv(split_net_p1_p.format(net+1), sep='\\t')\n",
    "    p0 = pd.read_csv(split_net_p0_p.format(net+1), sep='\\t')\n",
    "    for iteration in range(100):\n",
    "        # Get the right bootstrap order\n",
    "        bo = bootstrap_order[iteration, :]\n",
    "        labels = (pheno.iloc[bo].DX_GROUP=='Autism').values.astype(int)\n",
    "        prediction_region = (p1.values[:, iteration] > thr) & (p0.values[:, iteration] <= thr)\n",
    "\n",
    "        p = sum(labels==1)\n",
    "        n = sum(labels==0)\n",
    "        tp = sum(labels[prediction_region]==1)\n",
    "        fp = sum(labels[prediction_region]==0)\n",
    "        tn = sum(labels[~prediction_region]==0)\n",
    "        fn = sum(labels[~prediction_region]==1)\n",
    "        # Compute stuff\n",
    "        try:\n",
    "            sens = tp / p\n",
    "            spec = tn / n\n",
    "            ppv = tp / (tp+fp)\n",
    "            npv = tn / (tn + fn)\n",
    "            fpr = fp / n\n",
    "            fdr = fp / (fp + tp)\n",
    "        except ZeroDivisionError:\n",
    "            replace = 0\n",
    "            sens = replace\n",
    "            spec = replace\n",
    "            ppv = replace\n",
    "            npv = replace\n",
    "            fpr = replace\n",
    "            fdr = replace\n",
    "\n",
    "        precision_split[iteration, net] = ppv\n",
    "        specificity_split[iteration, net] = spec\n",
    "        sensitivity_split[iteration, net] = sens"
   ]
  },
  {
   "cell_type": "code",
   "execution_count": 17,
   "metadata": {
    "execution": {
     "iopub.execute_input": "2025-04-13T01:51:37.882672Z",
     "iopub.status.busy": "2025-04-13T01:51:37.882472Z",
     "iopub.status.idle": "2025-04-13T01:51:37.887120Z",
     "shell.execute_reply": "2025-04-13T01:51:37.886447Z"
    }
   },
   "outputs": [],
   "source": [
    "table_split = pd.DataFrame([(p, spec, sens, n)  \n",
    "                      for net in range(2) for p, spec, sens, n in \n",
    "                      [(precision_split[i, net], \n",
    "                        specificity_split[i, net],\n",
    "                        sensitivity_split[i, net],\n",
    "                        f'group_{net+1}') for i in range(100)]],\n",
    "                     columns=('precision', 'specificity', 'sensitivity', 'network'))"
   ]
  },
  {
   "cell_type": "code",
   "execution_count": 18,
   "metadata": {
    "execution": {
     "iopub.execute_input": "2025-04-13T01:51:37.889138Z",
     "iopub.status.busy": "2025-04-13T01:51:37.888924Z",
     "iopub.status.idle": "2025-04-13T01:51:37.904510Z",
     "shell.execute_reply": "2025-04-13T01:51:37.903746Z"
    }
   },
   "outputs": [],
   "source": [
    "# Make a correlation matrix of the asd probabilities for each instance\n",
    "corr_mat = np.stack([np.corrcoef(results_array[instance, :, 2, :].T) for instance in range(100)], -1)"
   ]
  },
  {
   "cell_type": "code",
   "execution_count": 19,
   "metadata": {
    "execution": {
     "iopub.execute_input": "2025-04-13T01:51:37.907050Z",
     "iopub.status.busy": "2025-04-13T01:51:37.906699Z",
     "iopub.status.idle": "2025-04-13T01:51:37.910092Z",
     "shell.execute_reply": "2025-04-13T01:51:37.909405Z"
    }
   },
   "outputs": [],
   "source": [
    "avg_weight_corr = np.average(corr_mat, 2)"
   ]
  },
  {
   "cell_type": "code",
   "execution_count": 20,
   "metadata": {
    "execution": {
     "iopub.execute_input": "2025-04-13T01:51:37.912284Z",
     "iopub.status.busy": "2025-04-13T01:51:37.911924Z",
     "iopub.status.idle": "2025-04-13T01:51:37.917958Z",
     "shell.execute_reply": "2025-04-13T01:51:37.917267Z"
    }
   },
   "outputs": [],
   "source": [
    "#sim = np.corrcoef(data_stack)\n",
    "sim = np.average(corr_mat, 2)\n",
    "dist = 1 - sim[np.triu(np.ones(shape=sim.shape), 1).astype(bool)]\n",
    "link = scl.hierarchy.linkage(dist, method='average', optimal_ordering=True)\n",
    "order = scl.hierarchy.dendrogram(link, no_plot=True)['leaves']"
   ]
  },
  {
   "cell_type": "code",
   "execution_count": 21,
   "metadata": {
    "execution": {
     "iopub.execute_input": "2025-04-13T01:51:37.920340Z",
     "iopub.status.busy": "2025-04-13T01:51:37.919965Z",
     "iopub.status.idle": "2025-04-13T01:51:37.925060Z",
     "shell.execute_reply": "2025-04-13T01:51:37.924369Z"
    }
   },
   "outputs": [],
   "source": [
    "def get_patches(mat, part, c='black'):\n",
    "    tab = pd.DataFrame(data=part, columns=('part',))\n",
    "    val, ind_start, ind_stop = zip(*[(u, \n",
    "                                      tab.query(f'part=={u}').first_valid_index(),\n",
    "                                      tab.query(f'part=={u}').last_valid_index()) for u in tab.part.unique()])\n",
    "    patch_list = list()\n",
    "    for ii in range(0,len(ind_start)):\n",
    "        p = mpl.patches.Rectangle((ind_start[ii]-0.5,)*2,\n",
    "                                  ind_stop[ii]-ind_start[ii]+1,\n",
    "                                  ind_stop[ii]-ind_start[ii]+1,\n",
    "                                                 angle=0, \n",
    "                                                 edgecolor=c,\n",
    "                                                 facecolor='none' ,\n",
    "                                                 linewidth=4)\n",
    "        patch_list.append(p)\n",
    "    return patch_list"
   ]
  },
  {
   "cell_type": "code",
   "execution_count": 22,
   "metadata": {
    "execution": {
     "iopub.execute_input": "2025-04-13T01:51:37.927147Z",
     "iopub.status.busy": "2025-04-13T01:51:37.926916Z",
     "iopub.status.idle": "2025-04-13T01:51:37.932868Z",
     "shell.execute_reply": "2025-04-13T01:51:37.932006Z"
    }
   },
   "outputs": [],
   "source": [
    "def get_better_patches(mat, part, c):\n",
    "    tab = pd.DataFrame(data=part, columns=('part',))\n",
    "    val, ind_start, ind_stop = zip(*[(u, \n",
    "                                      tab.query(f'part=={u}').first_valid_index(),\n",
    "                                      tab.query(f'part=={u}').last_valid_index()) for u in tab.part.unique()])\n",
    "    patch_list = list()\n",
    "    print(list(zip(val, c)))\n",
    "    for ii in range(0,len(ind_start)):\n",
    "        if val[ii]==0:\n",
    "            continue\n",
    "        p = mpl.patches.Rectangle((ind_start[ii]-0.5,)*2,\n",
    "                                  ind_stop[ii]-ind_start[ii]+1,\n",
    "                                  ind_stop[ii]-ind_start[ii]+1,\n",
    "                                                 angle=0, \n",
    "                                                 #edgecolor=sbn.xkcd_rgb[c[ii]],\n",
    "                                                 edgecolor=c[ii],\n",
    "                                                 facecolor='none' ,\n",
    "                                                 linewidth=2)\n",
    "        patch_list.append(p)\n",
    "    return patch_list"
   ]
  },
  {
   "cell_type": "code",
   "execution_count": 23,
   "metadata": {
    "execution": {
     "iopub.execute_input": "2025-04-13T01:51:37.935074Z",
     "iopub.status.busy": "2025-04-13T01:51:37.934861Z",
     "iopub.status.idle": "2025-04-13T01:51:37.938201Z",
     "shell.execute_reply": "2025-04-13T01:51:37.937591Z"
    }
   },
   "outputs": [],
   "source": [
    "colors = [sbn.xkcd_rgb[col] for col in \n",
    "         ['amber', 'heather', 'lemon', 'dark sky blue', 'pale rose', 'easter green', 'khaki']]"
   ]
  },
  {
   "cell_type": "code",
   "execution_count": 24,
   "metadata": {
    "execution": {
     "iopub.execute_input": "2025-04-13T01:51:37.940765Z",
     "iopub.status.busy": "2025-04-13T01:51:37.940549Z",
     "iopub.status.idle": "2025-04-13T01:51:37.944169Z",
     "shell.execute_reply": "2025-04-13T01:51:37.943311Z"
    }
   },
   "outputs": [],
   "source": [
    "order = np.array([18,  3,  9,  5, 16,  1, 13,  4, 12,  2,  7, 10, 11,  6, 17,  8, 14,\n",
    "       15])-1"
   ]
  },
  {
   "cell_type": "code",
   "execution_count": 25,
   "metadata": {
    "execution": {
     "iopub.execute_input": "2025-04-13T01:51:37.946693Z",
     "iopub.status.busy": "2025-04-13T01:51:37.946310Z",
     "iopub.status.idle": "2025-04-13T01:51:37.950616Z",
     "shell.execute_reply": "2025-04-13T01:51:37.949924Z"
    }
   },
   "outputs": [],
   "source": [
    "# Manual partition\n",
    "part_dict = {1: [18],\n",
    "             2: [3, 9, 5, 16],\n",
    "             3: [1],\n",
    "             4: [13, 4, 12],\n",
    "             5: [2, 7, 10],\n",
    "             6: [11, 6, 17],\n",
    "             7: [8, 14, 15]\n",
    "            }\n",
    "manual_part = np.array([p for i in order  for p, v in part_dict.items() if i+1 in v])"
   ]
  },
  {
   "cell_type": "markdown",
   "metadata": {},
   "source": [
    "## Describe the networks"
   ]
  },
  {
   "cell_type": "code",
   "execution_count": 26,
   "metadata": {
    "execution": {
     "iopub.execute_input": "2025-04-13T01:51:37.954986Z",
     "iopub.status.busy": "2025-04-13T01:51:37.954710Z",
     "iopub.status.idle": "2025-04-13T01:51:37.959373Z",
     "shell.execute_reply": "2025-04-13T01:51:37.958284Z"
    }
   },
   "outputs": [],
   "source": [
    "def get_extreme(table, var):\n",
    "    max_net = table.groupby('network')[var].describe()['50%'].idxmax()\n",
    "    print(var, ' max: ', max_net, table.query('network==@max_net')[var].median())\n",
    "    min_net = table.groupby('network')[var].describe()['50%'].idxmin()\n",
    "    print(var, ' min: ', min_net, table.query('network==@min_net')[var].median())"
   ]
  },
  {
   "cell_type": "code",
   "execution_count": 27,
   "metadata": {
    "execution": {
     "iopub.execute_input": "2025-04-13T01:51:37.963354Z",
     "iopub.status.busy": "2025-04-13T01:51:37.962958Z",
     "iopub.status.idle": "2025-04-13T01:51:38.081181Z",
     "shell.execute_reply": "2025-04-13T01:51:38.080519Z"
    }
   },
   "outputs": [
    {
     "name": "stdout",
     "output_type": "stream",
     "text": [
      "precision  max:  DMnet_pm 0.6587346024636058\n",
      "precision  min:  ORBcor_NACC 0.5833333333333334\n",
      "sensitivity  max:  DMnet_pm 0.17688883943473907\n",
      "sensitivity  min:  MVISnet 0.12949714758925285\n",
      "specificity  max:  MOTnet_v 0.9127209360219068\n",
      "specificity  min:  FPTCnet 0.9004543051285566\n"
     ]
    }
   ],
   "source": [
    "get_extreme(table, 'precision')\n",
    "get_extreme(table, 'sensitivity')\n",
    "get_extreme(table, 'specificity')"
   ]
  },
  {
   "cell_type": "code",
   "execution_count": 28,
   "metadata": {
    "execution": {
     "iopub.execute_input": "2025-04-13T01:51:38.083215Z",
     "iopub.status.busy": "2025-04-13T01:51:38.083021Z",
     "iopub.status.idle": "2025-04-13T01:51:38.086001Z",
     "shell.execute_reply": "2025-04-13T01:51:38.085557Z"
    }
   },
   "outputs": [],
   "source": [
    "def get_median(table, var):\n",
    "    stats = table.groupby('network')[var].describe()\n",
    "    avg_val = stats['50%'].median()\n",
    "    print(f\"Average {var} (median across networks): {avg_val}\")"
   ]
  },
  {
   "cell_type": "code",
   "execution_count": 29,
   "metadata": {
    "execution": {
     "iopub.execute_input": "2025-04-13T01:51:38.088098Z",
     "iopub.status.busy": "2025-04-13T01:51:38.087685Z",
     "iopub.status.idle": "2025-04-13T01:51:38.140207Z",
     "shell.execute_reply": "2025-04-13T01:51:38.139563Z"
    }
   },
   "outputs": [
    {
     "name": "stdout",
     "output_type": "stream",
     "text": [
      "Average precision (median across networks): 0.6189410937432902\n",
      "Average sensitivity (median across networks): 0.15430703416204164\n",
      "Average specificity (median across networks): 0.907048234151657\n"
     ]
    }
   ],
   "source": [
    "get_median(table, 'precision')\n",
    "get_median(table, 'sensitivity')\n",
    "get_median(table, 'specificity')"
   ]
  },
  {
   "cell_type": "code",
   "execution_count": 30,
   "metadata": {
    "execution": {
     "iopub.execute_input": "2025-04-13T01:51:38.142150Z",
     "iopub.status.busy": "2025-04-13T01:51:38.141963Z",
     "iopub.status.idle": "2025-04-13T01:51:38.268432Z",
     "shell.execute_reply": "2025-04-13T01:51:38.267556Z"
    }
   },
   "outputs": [
    {
     "name": "stdout",
     "output_type": "stream",
     "text": [
      "\n",
      "precision: group_1: 65.1% vs individual: 64.1%\n",
      "specificity: group_1: 96.6% vs individual: 90.9%\n",
      "sensitivity: group_1: 6.7% vs individual: 15.5%\n",
      "\n",
      "precision: group_2: 70.0% vs individual: 61.5%\n",
      "specificity: group_2: 96.5% vs individual: 90.4%\n",
      "sensitivity: group_2: 7.2% vs individual: 15.0%\n",
      "\n",
      "precision: group_3: 61.4% vs individual: 61.1%\n"
     ]
    },
    {
     "name": "stdout",
     "output_type": "stream",
     "text": [
      "specificity: group_3: 83.2% vs individual: 90.5%\n",
      "sensitivity: group_3: 27.4% vs individual: 14.6%\n",
      "\n",
      "precision: group_4: 67.3% vs individual: 64.3%\n",
      "specificity: group_4: 92.3% vs individual: 90.7%\n",
      "sensitivity: group_4: 16.1% vs individual: 16.6%\n",
      "\n",
      "precision: group_5: 64.4% vs individual: 63.1%\n",
      "specificity: group_5: 89.0% vs individual: 91.1%\n",
      "sensitivity: group_5: 19.7% vs individual: 16.2%\n",
      "\n",
      "precision: group_6: 58.8% vs individual: 61.7%\n",
      "specificity: group_6: 86.9% vs individual: 90.3%\n",
      "sensitivity: group_6: 18.4% vs individual: 15.8%\n",
      "\n",
      "precision: group_7: 62.0% vs individual: 60.9%\n",
      "specificity: group_7: 87.4% vs individual: 90.8%\n",
      "sensitivity: group_7: 20.2% vs individual: 14.5%\n"
     ]
    }
   ],
   "source": [
    "# Show me the group level\n",
    "for group in part_dict.keys():\n",
    "    print()\n",
    "    for val in ['precision', 'specificity', 'sensitivity']:\n",
    "        group_val = table_combined.query(f'network == \"group_{group}\"')[[val]].describe().T['50%'].values[0]\n",
    "        net_val = table.query(f'group == \"group_{group}\"')[[val, 'network']].groupby('network').median().mean().values[0]\n",
    "        print(f'{val}: group_{group}: {group_val*100:.1f}% vs individual: {net_val*100:.1f}%')"
   ]
  },
  {
   "cell_type": "code",
   "execution_count": 31,
   "metadata": {
    "execution": {
     "iopub.execute_input": "2025-04-13T01:51:38.270513Z",
     "iopub.status.busy": "2025-04-13T01:51:38.270330Z",
     "iopub.status.idle": "2025-04-13T01:51:38.288244Z",
     "shell.execute_reply": "2025-04-13T01:51:38.287551Z"
    }
   },
   "outputs": [
    {
     "name": "stdout",
     "output_type": "stream",
     "text": [
      "Median Precision (All Groups): 64.4%\n",
      "Median Specificity (All Groups): 89.0%\n",
      "Median Sensitivity (All Groups): 18.4%\n"
     ]
    }
   ],
   "source": [
    "all_precisions = []\n",
    "all_specificities = []\n",
    "all_sensitivities = []\n",
    "\n",
    "for group in part_dict.keys():\n",
    "    group_data = table_combined.query(f'network == \"group_{group}\"')\n",
    "    \n",
    "    # Append median values for the group\n",
    "    all_precisions.append(group_data['precision'].median())\n",
    "    all_specificities.append(group_data['specificity'].median())\n",
    "    all_sensitivities.append(group_data['sensitivity'].median())\n",
    "\n",
    "# Calculate median across all groups\n",
    "median_precision = np.median(all_precisions) * 100\n",
    "median_specificity = np.median(all_specificities) * 100\n",
    "median_sensitivity = np.median(all_sensitivities) * 100\n",
    "\n",
    "# Print results\n",
    "print(f\"Median Precision (All Groups): {median_precision:.1f}%\")\n",
    "print(f\"Median Specificity (All Groups): {median_specificity:.1f}%\")\n",
    "print(f\"Median Sensitivity (All Groups): {median_sensitivity:.1f}%\")"
   ]
  },
  {
   "cell_type": "code",
   "execution_count": 32,
   "metadata": {
    "execution": {
     "iopub.execute_input": "2025-04-13T01:51:38.290260Z",
     "iopub.status.busy": "2025-04-13T01:51:38.289991Z",
     "iopub.status.idle": "2025-04-13T01:51:38.292936Z",
     "shell.execute_reply": "2025-04-13T01:51:38.292304Z"
    }
   },
   "outputs": [],
   "source": [
    "# ens_colors = ['#FE9D08', '#1258A6'] # Orange, Blue"
   ]
  },
  {
   "cell_type": "code",
   "execution_count": 33,
   "metadata": {
    "execution": {
     "iopub.execute_input": "2025-04-13T01:51:38.294667Z",
     "iopub.status.busy": "2025-04-13T01:51:38.294488Z",
     "iopub.status.idle": "2025-04-13T01:51:38.337304Z",
     "shell.execute_reply": "2025-04-13T01:51:38.336614Z"
    }
   },
   "outputs": [
    {
     "name": "stdout",
     "output_type": "stream",
     "text": [
      "ensemble 1\n",
      "precision: ens1: 83.4% vs individual: 62.7%\n",
      "specificity: ens1: 99.0% vs individual: 90.6%\n",
      "sensitivity: ens1: 5.0% vs individual: 15.5%\n",
      "ensemble 2\n",
      "precision: ens2: 67.2% vs individual: 63.0%\n"
     ]
    },
    {
     "name": "stdout",
     "output_type": "stream",
     "text": [
      "specificity: ens2: 97.0% vs individual: 90.7%\n",
      "sensitivity: ens2: 7.5% vs individual: 16.2%\n"
     ]
    }
   ],
   "source": [
    "# Show me the ensemble\n",
    "print('ensemble 1')\n",
    "for val in ['precision', 'specificity', 'sensitivity']:\n",
    "    group_val = table_split.query(f'network == \"group_1\"')[[val]].describe().T['50%'].values[0]\n",
    "    net_val = table.query(f'group in [\"group_1\", \"group_2\", \"group_3\", \"group_4\"]')[[val, 'network']].groupby('network').median().mean().values[0]\n",
    "    print(f'{val}: ens1: {group_val*100:.1f}% vs individual: {net_val*100:.1f}%')\n",
    "    \n",
    "# Show me the ensemble\n",
    "print('ensemble 2')\n",
    "for val in ['precision', 'specificity', 'sensitivity']:\n",
    "    group_val = table_split.query(f'network == \"group_2\"')[[val]].describe().T['50%'].values[0]\n",
    "    net_val = table.query(f'group in [\"group_4\", \"group_5\", \"group_6\"]')[[val, 'network']].groupby('network').median().mean().values[0]\n",
    "    print(f'{val}: ens2: {group_val*100:.1f}% vs individual: {net_val*100:.1f}%')"
   ]
  },
  {
   "cell_type": "code",
   "execution_count": 34,
   "metadata": {
    "execution": {
     "iopub.execute_input": "2025-04-13T01:51:38.339219Z",
     "iopub.status.busy": "2025-04-13T01:51:38.339018Z",
     "iopub.status.idle": "2025-04-13T01:51:38.345168Z",
     "shell.execute_reply": "2025-04-13T01:51:38.344542Z"
    }
   },
   "outputs": [],
   "source": [
    "# Output the table\n",
    "table_split.to_csv(discovery_p / 'table_split.csv', index=False)  "
   ]
  },
  {
   "cell_type": "markdown",
   "metadata": {},
   "source": [
    "## Horizontal individual"
   ]
  },
  {
   "cell_type": "code",
   "execution_count": 35,
   "metadata": {
    "execution": {
     "iopub.execute_input": "2025-04-13T01:51:38.347277Z",
     "iopub.status.busy": "2025-04-13T01:51:38.347083Z",
     "iopub.status.idle": "2025-04-13T01:51:38.351585Z",
     "shell.execute_reply": "2025-04-13T01:51:38.350917Z"
    }
   },
   "outputs": [],
   "source": [
    "# Manual partition\n",
    "part_dict = {1: [18],\n",
    "             2: [3, 9, 5, 16],\n",
    "             3: [1],\n",
    "             4: [13, 4, 12],\n",
    "             5: [2, 7, 10],\n",
    "             6: [11, 6, 17],\n",
    "             7: [8, 14, 15]\n",
    "            }\n",
    "manual_part = np.array([p for i in order  for p, v in part_dict.items() if i+1 in v])\n",
    "order = np.array([18,  3,  9,  5, 16,  1, 13,  4, 12,  2,  7, 10, 11,  6, 17,  8, 14,\n",
    "       15])-1"
   ]
  },
  {
   "cell_type": "code",
   "execution_count": 36,
   "metadata": {
    "execution": {
     "iopub.execute_input": "2025-04-13T01:51:38.353343Z",
     "iopub.status.busy": "2025-04-13T01:51:38.353165Z",
     "iopub.status.idle": "2025-04-13T01:51:38.356999Z",
     "shell.execute_reply": "2025-04-13T01:51:38.356403Z"
    }
   },
   "outputs": [],
   "source": [
    "# Ensemble colors\n",
    "ens_colors = ['#FE9D08', '#1258A6'] # Orange, Blue\n",
    "group_7_colors = ['#FFB647', # Light Orange\n",
    "                  '#FE2908', # Bright Red\n",
    "                  '#BF7400', # Burnt Orange\n",
    "                  '#FED908', # Bright Yellow\n",
    "                  '#52DD07', # Green\n",
    "                  '#1258A6', # Blue (same color as above)\n",
    "                  '#5E12AC'] # Purple\n",
    "group_18_colors = ['#FFB647', # Light Orange\n",
    "                   '#FF907E', '#FF6047', '#BF1A00', '#881200', # 2nd group, shades of red\n",
    "                  '#BF7400', # Burnt Orange\n",
    "                  '#FFEC7E', '#FFE347', '#BFA200', # 4th group, shades of yellow\n",
    "                  '#9EEB75', '#77E13E', '#3AA600', # 6th group (prot), shades of green\n",
    "                   '#6C98CA', '#3B72B0', '#09407D', # 5th group (prot), shades of blue\n",
    "                  '#9D6ECD', '#783CB5', '#440981'] # 7th group (prot), shades of purple"
   ]
  },
  {
   "cell_type": "markdown",
   "metadata": {},
   "source": [
    "## Matrices"
   ]
  },
  {
   "cell_type": "code",
   "execution_count": 37,
   "metadata": {
    "execution": {
     "iopub.execute_input": "2025-04-13T01:51:38.358930Z",
     "iopub.status.busy": "2025-04-13T01:51:38.358745Z",
     "iopub.status.idle": "2025-04-13T01:51:39.117839Z",
     "shell.execute_reply": "2025-04-13T01:51:39.117014Z"
    }
   },
   "outputs": [
    {
     "name": "stdout",
     "output_type": "stream",
     "text": [
      "[(np.int64(1), '#FFB647'), (np.int64(2), '#FF907E'), (np.int64(3), '#FF6047'), (np.int64(4), '#BF1A00'), (np.int64(5), '#881200'), (np.int64(6), '#BF7400'), (np.int64(7), '#FFEC7E'), (np.int64(8), '#FFE347'), (np.int64(9), '#BFA200'), (np.int64(10), '#9EEB75'), (np.int64(11), '#77E13E'), (np.int64(12), '#3AA600'), (np.int64(13), '#6C98CA'), (np.int64(14), '#3B72B0'), (np.int64(15), '#09407D'), (np.int64(16), '#9D6ECD'), (np.int64(17), '#783CB5'), (np.int64(18), '#440981')]\n"
     ]
    },
    {
     "data": {
      "image/png": "[encoded data removed]",
      "text/plain": [
       "<Figure size 413.386x314.961 with 1 Axes>"
      ]
     },
     "metadata": {},
     "output_type": "display_data"
    }
   ],
   "source": [
    "# Matrix 1 (all networks and annotations)\n",
    "patches = get_better_patches(avg_weight_corr, np.arange(1,19), c=group_18_colors)\n",
    "\n",
    "ylow = 0\n",
    "yhigh = 1\n",
    "\n",
    "dpi=300\n",
    "scale_factor = 1\n",
    "height = 80 * scale_factor\n",
    "width = 105* scale_factor\n",
    "\n",
    "f = plt.figure(figsize=(mm2in(width),mm2in(height)), constrained_layout=True)\n",
    "\n",
    "ax_dist = f.add_subplot(111)\n",
    "g = ax_dist.matshow(avg_weight_corr[order, :][:, order], cmap=plt.cm.Greys, vmin=ylow, vmax=yhigh, aspect='auto')\n",
    "\n",
    "ax_dist.set_xticklabels([])\n",
    "ax_dist.set_yticklabels([])\n",
    "for patch in patches:\n",
    "    ax_dist.add_patch(patch)\n",
    "    \n",
    "ax_dist.set_yticks(range(18))\n",
    "ax_dist.yaxis.set_ticks_position('both')\n",
    "ax_dist.xaxis.set_ticks_position('none')\n",
    "ax_dist.set_yticklabels(network_labels.loc[order]['label'].values, fontsize=10);\n",
    "f.savefig(fig_p / 'corr_network.png', bbox_inches='tight', dpi=dpi, transparent=True, pad_inches=0)\n",
    "f.savefig(fig_p / 'corr_network.pdf', bbox_inches='tight', dpi=dpi, transparent=True, pad_inches=0)"
   ]
  },
  {
   "cell_type": "code",
   "execution_count": 38,
   "metadata": {
    "execution": {
     "iopub.execute_input": "2025-04-13T01:51:39.120238Z",
     "iopub.status.busy": "2025-04-13T01:51:39.119848Z",
     "iopub.status.idle": "2025-04-13T01:51:39.431381Z",
     "shell.execute_reply": "2025-04-13T01:51:39.430706Z"
    }
   },
   "outputs": [
    {
     "name": "stdout",
     "output_type": "stream",
     "text": [
      "[(np.int64(1), '#FFB647'), (np.int64(2), '#FF907E'), (np.int64(3), '#FF6047'), (np.int64(4), '#BF1A00'), (np.int64(5), '#881200'), (np.int64(6), '#BF7400'), (np.int64(7), '#FFEC7E'), (np.int64(8), '#FFE347'), (np.int64(9), '#BFA200'), (np.int64(10), '#9EEB75'), (np.int64(11), '#77E13E'), (np.int64(12), '#3AA600'), (np.int64(13), '#6C98CA'), (np.int64(14), '#3B72B0'), (np.int64(15), '#09407D'), (np.int64(16), '#9D6ECD'), (np.int64(17), '#783CB5'), (np.int64(18), '#440981')]\n"
     ]
    },
    {
     "data": {
      "image/png": "[encoded data removed]",
      "text/plain": [
       "<Figure size 157.48x177.165 with 1 Axes>"
      ]
     },
     "metadata": {},
     "output_type": "display_data"
    }
   ],
   "source": [
    "# Matrix 1 (all networks and annotations)\n",
    "patches = get_better_patches(avg_weight_corr, np.arange(1,19), c=group_18_colors)\n",
    "\n",
    "ylow = 0\n",
    "yhigh = 1\n",
    "\n",
    "dpi=300\n",
    "scale_factor = 1\n",
    "height = 45 * scale_factor\n",
    "width = 40 * scale_factor\n",
    "\n",
    "f = plt.figure(figsize=(mm2in(width),mm2in(height)), constrained_layout=True)\n",
    "\n",
    "ax_dist = f.add_subplot(111)\n",
    "g = ax_dist.matshow(avg_weight_corr[order, :][:, order], cmap=plt.cm.Greys, vmin=ylow, vmax=yhigh, aspect='auto')\n",
    "\n",
    "ax_dist.set_xticklabels([])\n",
    "ax_dist.set_yticklabels([])\n",
    "for patch in patches:\n",
    "    ax_dist.add_patch(patch)\n",
    "    \n",
    "ax_dist.set_yticks(range(18))\n",
    "ax_dist.yaxis.set_ticks_position('both')\n",
    "ax_dist.xaxis.set_ticks_position('none')\n",
    "\n",
    "f.savefig(fig_p / 'corr_network.png', bbox_inches='tight', dpi=dpi, transparent=True, pad_inches=0)\n",
    "f.savefig(fig_p / 'corr_network.pdf', bbox_inches='tight', dpi=dpi, transparent=True, pad_inches=0)"
   ]
  },
  {
   "cell_type": "code",
   "execution_count": 39,
   "metadata": {
    "execution": {
     "iopub.execute_input": "2025-04-13T01:51:39.433906Z",
     "iopub.status.busy": "2025-04-13T01:51:39.433715Z",
     "iopub.status.idle": "2025-04-13T01:51:39.715820Z",
     "shell.execute_reply": "2025-04-13T01:51:39.715049Z"
    }
   },
   "outputs": [
    {
     "name": "stdout",
     "output_type": "stream",
     "text": [
      "[(np.int64(1), '#FFB647'), (np.int64(2), '#FE2908'), (np.int64(3), '#BF7400'), (np.int64(4), '#FED908'), (np.int64(5), '#52DD07'), (np.int64(6), '#1258A6'), (np.int64(7), '#5E12AC')]\n"
     ]
    },
    {
     "data": {
      "image/png": "[encoded data removed]",
      "text/plain": [
       "<Figure size 157.48x177.165 with 1 Axes>"
      ]
     },
     "metadata": {},
     "output_type": "display_data"
    }
   ],
   "source": [
    "# Matrix 2 (Group 7, no annotations)\n",
    "patches = get_better_patches(avg_weight_corr, manual_part, c=group_7_colors)\n",
    "\n",
    "ylow = 0\n",
    "yhigh = 1\n",
    "\n",
    "dpi=300\n",
    "scale_factor = 1\n",
    "height = 45 * scale_factor\n",
    "width = 40 * scale_factor\n",
    "\n",
    "f = plt.figure(figsize=(mm2in(width),mm2in(height)), constrained_layout=True)\n",
    "\n",
    "ax_dist = f.add_subplot(111)\n",
    "g = ax_dist.matshow(avg_weight_corr[order, :][:, order], cmap=plt.cm.Greys, vmin=ylow, vmax=yhigh, aspect='auto')\n",
    "\n",
    "ax_dist.set_xticklabels([])\n",
    "ax_dist.set_yticklabels([])\n",
    "for patch in patches:\n",
    "    ax_dist.add_patch(patch)\n",
    "    \n",
    "ax_dist.set_yticks(range(18))\n",
    "ax_dist.yaxis.set_ticks_position('both')\n",
    "ax_dist.xaxis.set_ticks_position('none')\n",
    "ax_dist.set_yticklabels('');\n",
    "f.savefig(fig_p / 'corr_group.png', bbox_inches='tight', dpi=dpi, transparent=True, pad_inches=0)\n",
    "f.savefig(fig_p / 'corr_group.pdf', bbox_inches='tight', dpi=dpi, transparent=True, pad_inches=0)"
   ]
  },
  {
   "cell_type": "code",
   "execution_count": 40,
   "metadata": {
    "execution": {
     "iopub.execute_input": "2025-04-13T01:51:39.718329Z",
     "iopub.status.busy": "2025-04-13T01:51:39.718127Z",
     "iopub.status.idle": "2025-04-13T01:51:40.158395Z",
     "shell.execute_reply": "2025-04-13T01:51:40.157714Z"
    }
   },
   "outputs": [
    {
     "name": "stdout",
     "output_type": "stream",
     "text": [
      "[(np.float64(1.0), '#FE9D08'), (np.float64(2.0), '#1258A6')]\n"
     ]
    },
    {
     "data": {
      "image/png": "[encoded data removed]",
      "text/plain": [
       "<Figure size 314.961x314.961 with 2 Axes>"
      ]
     },
     "metadata": {},
     "output_type": "display_data"
    }
   ],
   "source": [
    "# Matrix 3 (Ensemble 2, no annotations)\n",
    "patches = get_better_patches(avg_weight_corr, list(np.ones(9)) + list(np.ones(9)*2), c=ens_colors)\n",
    "\n",
    "ylow = 0\n",
    "yhigh = 1\n",
    "\n",
    "dpi=300\n",
    "scale_factor = 1\n",
    "height = 80 * scale_factor\n",
    "width = 80 * scale_factor\n",
    "\n",
    "f = plt.figure(figsize=(mm2in(width),mm2in(height)), constrained_layout=True)\n",
    "#gs = gridspec.GridSpec(ncols=1, nrows=10, right=0.9)\n",
    "gs = gridspec.GridSpec(ncols=1, nrows=10)\n",
    "\n",
    "ax_dist = f.add_subplot(gs[:, :])\n",
    "cbaxes = f.add_axes([0.95, 0.2, 0.02, 0.3]) \n",
    "\n",
    "#f = plt.figure(figsize=(mm2in(width),mm2in(height)), constrained_layout=True)\n",
    "g = ax_dist.matshow(avg_weight_corr[order, :][:, order], cmap=plt.cm.Greys, vmin=ylow, vmax=yhigh, aspect='auto')\n",
    "\n",
    "for patch in patches:\n",
    "    ax_dist.add_patch(patch)\n",
    "    \n",
    "ax_dist.set_yticks(range(18))\n",
    "ax_dist.yaxis.set_ticks_position('both')\n",
    "ax_dist.xaxis.set_ticks_position('none')\n",
    "ax_dist.set_yticklabels('');\n",
    "\n",
    "cbar = f.colorbar(g, cax=cbaxes)\n",
    "cbaxes.set_ylabel('Pearson R')\n",
    "ax_dist.set_xticklabels([])\n",
    "ax_dist.set_yticklabels([])\n",
    "\n",
    "f.savefig(fig_p / 'corr_ensemble.png', bbox_inches='tight', dpi=dpi, transparent=True, pad_inches=0)\n",
    "f.savefig(fig_p / 'corr_ensemble.pdf', bbox_inches='tight', dpi=dpi, transparent=True, pad_inches=0)"
   ]
  },
  {
   "cell_type": "code",
   "execution_count": 41,
   "metadata": {
    "execution": {
     "iopub.execute_input": "2025-04-13T01:51:40.160832Z",
     "iopub.status.busy": "2025-04-13T01:51:40.160641Z",
     "iopub.status.idle": "2025-04-13T01:51:40.245103Z",
     "shell.execute_reply": "2025-04-13T01:51:40.244280Z"
    }
   },
   "outputs": [
    {
     "data": {
      "image/png": "[encoded data removed]",
      "text/plain": [
       "<Figure size 7.87402x157.48 with 2 Axes>"
      ]
     },
     "metadata": {},
     "output_type": "display_data"
    }
   ],
   "source": [
    "dpi=300\n",
    "scale_factor = 1\n",
    "height = 40 * scale_factor\n",
    "width = 2 * scale_factor\n",
    "\n",
    "a = np.array([[0,1]])\n",
    "plt.figure(figsize=(mm2in(width),mm2in(height)))\n",
    "img = plt.imshow(a, cmap=\"Greys\")\n",
    "plt.gca().set_visible(False)\n",
    "cax = plt.axes([0.1, 0.2, 0.8, 0.6])\n",
    "plt.colorbar(cax=cax)\n",
    "cax.set_ylabel('Pearson R', fontsize=10)\n",
    "cax.set_axis_on()\n",
    "plt.savefig(fig_p / \"colorbar.pdf\", bbox_inches='tight', dpi=dpi, transparent=True, pad_inches=0)"
   ]
  },
  {
   "cell_type": "code",
   "execution_count": 42,
   "metadata": {
    "execution": {
     "iopub.execute_input": "2025-04-13T01:51:40.247445Z",
     "iopub.status.busy": "2025-04-13T01:51:40.247262Z",
     "iopub.status.idle": "2025-04-13T01:51:40.541479Z",
     "shell.execute_reply": "2025-04-13T01:51:40.540596Z"
    }
   },
   "outputs": [
    {
     "name": "stdout",
     "output_type": "stream",
     "text": [
      "[(np.float64(1.0), '#FE9D08'), (np.float64(2.0), '#1258A6')]\n"
     ]
    },
    {
     "data": {
      "image/png": "[encoded data removed]",
      "text/plain": [
       "<Figure size 157.48x177.165 with 1 Axes>"
      ]
     },
     "metadata": {},
     "output_type": "display_data"
    }
   ],
   "source": [
    "# Matrix 3 (Ensemble 2, no annotations)\n",
    "patches = get_better_patches(avg_weight_corr, list(np.ones(9)) + list(np.ones(9)*2), c=ens_colors)\n",
    "\n",
    "ylow = 0\n",
    "yhigh = 1\n",
    "\n",
    "dpi=300\n",
    "scale_factor = 1\n",
    "height = 45 * scale_factor\n",
    "width = 40 * scale_factor\n",
    "\n",
    "f = plt.figure(figsize=(mm2in(width),mm2in(height)), constrained_layout=True)\n",
    "\n",
    "ax_dist = f.add_subplot(111)\n",
    "g = ax_dist.matshow(avg_weight_corr[order, :][:, order], cmap=plt.cm.Greys, vmin=ylow, vmax=yhigh, aspect='auto')\n",
    "for patch in patches:\n",
    "    ax_dist.add_patch(patch)\n",
    "    \n",
    "ax_dist.set_yticks(range(18))\n",
    "ax_dist.yaxis.set_ticks_position('both')\n",
    "ax_dist.xaxis.set_ticks_position('none')\n",
    "ax_dist.set_yticklabels('');\n",
    "\n",
    "ax_dist.set_xticklabels([])\n",
    "ax_dist.set_yticklabels([])\n",
    "\n",
    "f.savefig(fig_p / 'corr_ensemble.png', bbox_inches='tight', dpi=dpi, transparent=True, pad_inches=0)\n",
    "f.savefig(fig_p / 'corr_ensemble.pdf', bbox_inches='tight', dpi=dpi, transparent=True, pad_inches=0)"
   ]
  },
  {
   "cell_type": "markdown",
   "metadata": {},
   "source": [
    "## Violin Plots"
   ]
  },
  {
   "cell_type": "code",
   "execution_count": 43,
   "metadata": {
    "execution": {
     "iopub.execute_input": "2025-04-13T01:51:40.544705Z",
     "iopub.status.busy": "2025-04-13T01:51:40.544304Z",
     "iopub.status.idle": "2025-04-13T01:51:41.486655Z",
     "shell.execute_reply": "2025-04-13T01:51:41.485837Z"
    }
   },
   "outputs": [
    {
     "data": {
      "image/png": "[encoded data removed]",
      "text/plain": [
       "<Figure size 177.165x393.701 with 1 Axes>"
      ]
     },
     "metadata": {},
     "output_type": "display_data"
    }
   ],
   "source": [
    "# Violin Plot 1 (all networks, with annotations)\n",
    "\n",
    "# Network precision\n",
    "xlow = -0.1\n",
    "xhigh = 1.1\n",
    "x_value = 'precision'\n",
    "lw = 1\n",
    "\n",
    "fs_xtick = 12\n",
    "fs_ytick = 18\n",
    "fs_label = 22\n",
    "\n",
    "dpi=300\n",
    "scale_factor = 1\n",
    "height = 100 * scale_factor\n",
    "width = 45 * scale_factor\n",
    "\n",
    "f = plt.figure(figsize=(mm2in(width),mm2in(height)), constrained_layout=True)\n",
    "gs = gridspec.GridSpec(ncols=1, nrows=18, hspace=0)\n",
    "\n",
    "ax_individual = f.add_subplot(gs[:, 0])\n",
    "\n",
    "sbn.set_palette(group_18_colors)\n",
    "#sbn.violinplot(x=x_value, y='network', data=table.iloc[table_order], hue='group', ax=ax_individual, dodge=False, linewidth=lw)\n",
    "sbn.violinplot(x=x_value, y='network', data=table.iloc[table_order], hue='network', ax=ax_individual, dodge=False, linewidth=lw, legend=False)\n",
    "\n",
    "ylim = ax_individual.get_ylim()\n",
    "ax_individual.vlines(0.5, *ylim, linewidth=lw, color='grey', zorder=0)\n",
    "ax_individual.set_ylim(ylim)\n",
    "\n",
    "ax_individual.set_xlim([xlow, xhigh]);\n",
    "ax_individual.set_ylabel('')\n",
    "ax_individual.set_xlabel('')\n",
    "ax_individual.set_xlabel('PPV', labelpad=5, fontsize=10)\n",
    "\n",
    "ax_individual.tick_params(axis='x', which='major', labelsize=10)\n",
    "ax_individual.set_xticks((0, 0.5, 1))\n",
    "ax_individual.set_xticklabels((0, 0.5, 1))\n",
    "\n",
    "ax_individual.set_yticklabels(())\n",
    "ax_individual.set_title('network models', fontsize=10);\n",
    "ax_individual.set_yticklabels(network_labels.loc[order]['easy'].values, fontsize=10);\n",
    "\n",
    "f.savefig(fig_p / 'violin_network_easy_names.png', bbox_inches='tight', dpi=dpi, transparent=True, pad_inches=0)\n",
    "f.savefig(fig_p / 'violin_network_easy_names.pdf', bbox_inches='tight', dpi=dpi, transparent=True, pad_inches=0)"
   ]
  },
  {
   "cell_type": "code",
   "execution_count": 44,
   "metadata": {
    "execution": {
     "iopub.execute_input": "2025-04-13T01:51:41.489734Z",
     "iopub.status.busy": "2025-04-13T01:51:41.489386Z",
     "iopub.status.idle": "2025-04-13T01:51:42.187940Z",
     "shell.execute_reply": "2025-04-13T01:51:42.187303Z"
    }
   },
   "outputs": [
    {
     "data": {
      "image/png": "[encoded data removed]",
      "text/plain": [
       "<Figure size 196.85x393.701 with 1 Axes>"
      ]
     },
     "metadata": {},
     "output_type": "display_data"
    }
   ],
   "source": [
    "# Violin Plot 1 (all networks, with annotations)\n",
    "\n",
    "# Network precision\n",
    "xlow = -0.1\n",
    "xhigh = 1.1\n",
    "x_value = 'precision'\n",
    "lw = 1\n",
    "\n",
    "fs_xtick = 12\n",
    "fs_ytick = 18\n",
    "fs_label = 22\n",
    "\n",
    "dpi=300\n",
    "scale_factor = 1\n",
    "height = 100 * scale_factor\n",
    "width = 50 * scale_factor\n",
    "\n",
    "f = plt.figure(figsize=(mm2in(width),mm2in(height)), constrained_layout=True)\n",
    "gs = gridspec.GridSpec(ncols=1, nrows=18, hspace=0)\n",
    "\n",
    "ax_individual = f.add_subplot(gs[:, 0])\n",
    "\n",
    "sbn.set_palette(group_18_colors)\n",
    "#sbn.violinplot(x=x_value, y='network', data=table.iloc[table_order], hue='group', ax=ax_individual, dodge=False, linewidth=lw)\n",
    "sbn.violinplot(x=x_value, y='network', data=table.iloc[table_order], hue='network', ax=ax_individual, dodge=False, linewidth=lw, legend=False)\n",
    "\n",
    "ylim = ax_individual.get_ylim()\n",
    "ax_individual.vlines(0.5, *ylim, linewidth=lw, color='grey', zorder=0)\n",
    "ax_individual.set_ylim(ylim)\n",
    "\n",
    "ax_individual.set_xlim([xlow, xhigh]);\n",
    "ax_individual.set_ylabel('')\n",
    "ax_individual.set_xlabel('')\n",
    "ax_individual.set_xlabel('PPV', labelpad=5, fontsize=10)\n",
    "\n",
    "ax_individual.tick_params(axis='x', which='major', labelsize=10)\n",
    "ax_individual.set_xticks((0, 0.5, 1))\n",
    "ax_individual.set_xticklabels((0, 0.5, 1))\n",
    "\n",
    "ax_individual.set_yticklabels(())\n",
    "ax_individual.set_title('network models', fontsize=10);\n",
    "ax_individual.set_yticklabels(network_labels.loc[order]['label'].values, fontsize=10);\n",
    "\n",
    "f.savefig(fig_p / 'violin_network.png', bbox_inches='tight', dpi=dpi, transparent=True, pad_inches=0)\n",
    "f.savefig(fig_p / 'violin_network.pdf', bbox_inches='tight', dpi=dpi, transparent=True, pad_inches=0)"
   ]
  },
  {
   "cell_type": "code",
   "execution_count": 45,
   "metadata": {
    "execution": {
     "iopub.execute_input": "2025-04-13T01:51:42.190086Z",
     "iopub.status.busy": "2025-04-13T01:51:42.189895Z",
     "iopub.status.idle": "2025-04-13T01:51:42.848527Z",
     "shell.execute_reply": "2025-04-13T01:51:42.847959Z"
    }
   },
   "outputs": [
    {
     "data": {
      "image/png": "[encoded data removed]",
      "text/plain": [
       "<Figure size 177.165x393.701 with 7 Axes>"
      ]
     },
     "metadata": {},
     "output_type": "display_data"
    }
   ],
   "source": [
    "# Violin 2 (group 7, no names)\n",
    "xlow = -0.1\n",
    "xhigh = 1.1\n",
    "x_value = 'precision'\n",
    "lw = 1\n",
    "\n",
    "fs_xtick = 12\n",
    "fs_ytick = 18\n",
    "fs_label = 22\n",
    "\n",
    "colors = group_7_colors\n",
    "\n",
    "dpi=300\n",
    "scale_factor = 1\n",
    "height = 100 * scale_factor\n",
    "width = 45 * scale_factor\n",
    "\n",
    "f = plt.figure(figsize=(mm2in(width),mm2in(height)), constrained_layout=True)\n",
    "gs = gridspec.GridSpec(ncols=1, nrows=18, hspace=0)\n",
    "\n",
    "ax_group1 = f.add_subplot(gs[0, 0])\n",
    "ax_group2 = f.add_subplot(gs[1:5, 0])\n",
    "ax_group3 = f.add_subplot(gs[5:6, 0])\n",
    "ax_group4 = f.add_subplot(gs[6:9, 0])\n",
    "ax_group5 = f.add_subplot(gs[9:12, 0])\n",
    "ax_group6 = f.add_subplot(gs[12:15, 0])\n",
    "ax_group7 = f.add_subplot(gs[15:18, 0])\n",
    "\n",
    "ax_group1.tick_params(axis='both', bottom=False, top=False, right=False, left=False, labelbottom=False, labelleft=False)\n",
    "ax_group2.tick_params(axis='both', bottom=False, top=False, right=False, left=False, labelbottom=False, labelleft=False)\n",
    "ax_group3.tick_params(axis='both', bottom=False, top=False, right=False, left=False, labelbottom=False, labelleft=False)\n",
    "ax_group4.tick_params(axis='both', bottom=False, top=False, right=False, left=False, labelbottom=False, labelleft=False)\n",
    "ax_group5.tick_params(axis='both', bottom=False, top=False, right=False, left=False, labelbottom=False, labelleft=False)\n",
    "ax_group6.tick_params(axis='both', bottom=False, top=False, right=False, left=False, labelbottom=False, labelleft=False)\n",
    "ax_group7.tick_params(axis='both', bottom=True, top=False, right=False, left=False, labelbottom=True, labelleft=False)\n",
    "\n",
    "sbn.violinplot(x=x_value, y='network', data=table_combined.query('network==\"group_1\"'), color=colors[0], ax=ax_group1, linewidth=lw);\n",
    "ax_group1.set_ylabel('')\n",
    "ax_group1.set_yticks([])\n",
    "\n",
    "ylim = ax_group1.get_ylim()\n",
    "ax_group1.vlines(0.5, *ylim, linewidth=lw, color='grey', zorder=0)\n",
    "ax_group1.set_ylim(ylim)\n",
    "\n",
    "ax_group1.set_xlabel('')\n",
    "ax_group1.set_xlim([xlow, xhigh]);\n",
    "ax_group1.set_title('combined models', fontsize=10);\n",
    "\n",
    "sbn.violinplot(x=x_value, y='network', data=table_combined.query('network==\"group_2\"'), color=colors[1], ax=ax_group2, linewidth=lw);\n",
    "ax_group2.set_xlabel('')\n",
    "ax_group2.vlines(0.5, *[-1.8, 1.8], linewidth=lw, color='grey', zorder=0)\n",
    "ax_group2.set_ylim([-1.8, 1.8])\n",
    "ax_group2.set_ylabel('')\n",
    "ax_group2.set_xlim([xlow, xhigh]);\n",
    "\n",
    "sbn.violinplot(x=x_value, y='network', data=table_combined.query('network==\"group_3\"'), color=colors[2], ax=ax_group3, linewidth=lw);\n",
    "ax_group3.set_xlabel('')\n",
    "ax_group3.set_ylabel('')\n",
    "\n",
    "ylim = ax_group3.get_ylim()\n",
    "ax_group3.vlines(0.5, *ylim, linewidth=lw, color='grey', zorder=0)\n",
    "ax_group3.set_ylim(ylim)\n",
    "\n",
    "ax_group3.set_xlim([xlow, xhigh]);\n",
    "\n",
    "sbn.violinplot(x=x_value, y='network', data=table_combined.query('network==\"group_4\"'), color=colors[3], ax=ax_group4, linewidth=lw);\n",
    "ax_group4.set_xlabel('')\n",
    "ax_group4.vlines(0.5, *[-1.5, 1.5], linewidth=lw, color='grey', zorder=0)\n",
    "ax_group4.set_ylim([-1.5, 1.5])\n",
    "ax_group4.set_ylabel('')\n",
    "ax_group4.set_xlim([xlow, xhigh]);\n",
    "\n",
    "sbn.violinplot(x=x_value, y='network', data=table_combined.query('network==\"group_5\"'), color=colors[4], ax=ax_group5, linewidth=lw);\n",
    "ax_group5.set_xlabel('')\n",
    "ax_group5.vlines(0.5, *[-1.5, 1.5], linewidth=lw, color='grey', zorder=0)\n",
    "ax_group5.set_ylim([-1.5, 1.5])\n",
    "ax_group5.set_ylabel('')\n",
    "ax_group5.set_xlim([xlow, xhigh]);\n",
    "\n",
    "sbn.violinplot(x=x_value, y='network', data=table_combined.query('network==\"group_6\"'), color=colors[5], ax=ax_group6, linewidth=lw);\n",
    "ax_group6.set_xlabel('')\n",
    "ax_group6.vlines(0.5, *[-1.5, 1.5], linewidth=lw, color='grey', zorder=0)\n",
    "ax_group6.set_ylim([-1.5, 1.5])\n",
    "ax_group6.set_ylabel('')\n",
    "ax_group6.set_xlim([xlow, xhigh]);\n",
    "\n",
    "sbn.violinplot(x=x_value, y='network', data=table_combined.query('network==\"group_7\"'), color=colors[6], ax=ax_group7, linewidth=lw);\n",
    "ax_group7.vlines(0.5, *[-1.5, 1.5], linewidth=lw, color='grey', zorder=0)\n",
    "ax_group7.set_ylim([-1.5, 1.5])\n",
    "ax_group7.set_ylabel('')\n",
    "ax_group7.set_xlabel('')\n",
    "ax_group7.set_xlabel('PPV', labelpad=5, fontsize=10)\n",
    "\n",
    "ax_group7.tick_params(axis='x', which='major', labelsize=10)\n",
    "ax_group7.set_xticks((0, 0.5, 1))\n",
    "ax_group7.set_xticklabels((0, 0.5, 1))\n",
    "\n",
    "ax_group7.set_xlim([xlow, xhigh]);\n",
    "\n",
    "f.savefig(fig_p / 'violin_group.png', bbox_inches='tight', dpi=dpi, transparent=True, pad_inches=0)\n",
    "f.savefig(fig_p / 'violin_group.pdf', bbox_inches='tight', dpi=dpi, transparent=True, pad_inches=0)"
   ]
  },
  {
   "cell_type": "code",
   "execution_count": 46,
   "metadata": {
    "execution": {
     "iopub.execute_input": "2025-04-13T01:51:42.851927Z",
     "iopub.status.busy": "2025-04-13T01:51:42.851627Z",
     "iopub.status.idle": "2025-04-13T01:51:43.134877Z",
     "shell.execute_reply": "2025-04-13T01:51:43.134135Z"
    }
   },
   "outputs": [
    {
     "data": {
      "image/png": "[encoded data removed]",
      "text/plain": [
       "<Figure size 177.165x393.701 with 2 Axes>"
      ]
     },
     "metadata": {},
     "output_type": "display_data"
    }
   ],
   "source": [
    "# Violin 2 (ensemble, no names)\n",
    "xlow = -0.1\n",
    "xhigh = 1.1\n",
    "x_value = 'precision'\n",
    "lw = 1\n",
    "\n",
    "fs_xtick = 12\n",
    "fs_ytick = 18\n",
    "fs_label = 22\n",
    "\n",
    "split_colors = ens_colors\n",
    "\n",
    "dpi=300\n",
    "scale_factor = 1\n",
    "height = 100 * scale_factor\n",
    "width = 45 * scale_factor\n",
    "\n",
    "f = plt.figure(figsize=(mm2in(width),mm2in(height)), constrained_layout=True)\n",
    "gs = gridspec.GridSpec(ncols=1, nrows=18, hspace=0)\n",
    "\n",
    "ax_split1 = f.add_subplot(gs[:9, 0])\n",
    "ax_split2 = f.add_subplot(gs[9:, 0])\n",
    "ax_split1.tick_params(axis='both', bottom=False, top=False, right=False, left=False, labelbottom=False, labelleft=False)\n",
    "ax_split2.tick_params(axis='both', bottom=True, top=False, right=False, left=False, labelbottom=True, labelleft=False)\n",
    "\n",
    "\n",
    "sbn.violinplot(x=x_value, y='network', data=table_split.query('network==\"group_1\"'), color=split_colors[0], \n",
    "            ax=ax_split1, linewidth=lw);\n",
    "ax_split1.set_ylabel('')\n",
    "ax_split1.vlines(0.5, *[-1.5, 1.5], linewidth=lw, color='grey', zorder=0)\n",
    "ax_split1.set_ylim([-1.5, 1.5])\n",
    "ax_split1.set_yticks([])\n",
    "ax_split1.set_xlabel('')\n",
    "ax_split1.set_xlim([xlow, xhigh]);\n",
    "ax_split1.set_title('ensemble models', fontsize=10);\n",
    "\n",
    "sbn.violinplot(x=x_value, y='network', data=table_split.query('network==\"group_2\"'), color=split_colors[1], \n",
    "            ax=ax_split2, linewidth=lw);\n",
    "ax_split2.set_ylabel('')\n",
    "ax_split2.set_xlabel('')\n",
    "ax_split2.set_xlabel('PPV', labelpad=5, fontsize=10)\n",
    "\n",
    "ax_split2.tick_params(axis='x', which='major', labelsize=10)\n",
    "ax_split2.set_xticks((0, 0.5, 1))\n",
    "ax_split2.set_xticklabels((0, 0.5, 1))\n",
    "ax_split2.vlines(0.5, *[-1.5, 1.5], linewidth=lw, color='grey', zorder=0)\n",
    "ax_split2.set_ylim([-1.5, 1.5])\n",
    "ax_split2.set_yticks([])\n",
    "ax_split2.set_xlim([xlow, xhigh]);\n",
    "\n",
    "f.savefig(fig_p / 'violin_ensemble.png', bbox_inches='tight', dpi=dpi, transparent=True, pad_inches=0)\n",
    "f.savefig(fig_p / 'violin_ensemble.pdf', bbox_inches='tight', dpi=dpi, transparent=True, pad_inches=0)"
   ]
  },
  {
   "cell_type": "markdown",
   "metadata": {},
   "source": [
    "## Networks"
   ]
  },
  {
   "cell_type": "code",
   "execution_count": 47,
   "metadata": {
    "execution": {
     "iopub.execute_input": "2025-04-13T01:51:43.137784Z",
     "iopub.status.busy": "2025-04-13T01:51:43.137513Z",
     "iopub.status.idle": "2025-04-13T01:51:43.141716Z",
     "shell.execute_reply": "2025-04-13T01:51:43.140995Z"
    }
   },
   "outputs": [],
   "source": [
    "order = np.array([18,  3,  9,  5, 16,  1, 13,  4, 12,  2,  7, 10, 11,  6, 17,  8, 14,\n",
    "       15])-1"
   ]
  },
  {
   "cell_type": "code",
   "execution_count": 48,
   "metadata": {
    "execution": {
     "iopub.execute_input": "2025-04-13T01:51:43.144122Z",
     "iopub.status.busy": "2025-04-13T01:51:43.143933Z",
     "iopub.status.idle": "2025-04-13T01:51:43.147986Z",
     "shell.execute_reply": "2025-04-13T01:51:43.147403Z"
    }
   },
   "outputs": [],
   "source": [
    "# Manual partition\n",
    "part_dict = {1: [18],\n",
    "             2: [3, 9, 5, 16],\n",
    "             3: [1],\n",
    "             4: [13, 4, 12],\n",
    "             5: [2, 7, 10],\n",
    "             6: [11, 6, 17],\n",
    "             7: [8, 14, 15]\n",
    "            }\n",
    "manual_part = np.array([p for i in order  for p, v in part_dict.items() if i+1 in v])"
   ]
  },
  {
   "cell_type": "code",
   "execution_count": 49,
   "metadata": {
    "execution": {
     "iopub.execute_input": "2025-04-13T01:51:43.150249Z",
     "iopub.status.busy": "2025-04-13T01:51:43.150061Z",
     "iopub.status.idle": "2025-04-13T01:51:43.153631Z",
     "shell.execute_reply": "2025-04-13T01:51:43.152980Z"
    }
   },
   "outputs": [],
   "source": [
    "#cmp = LinearSegmentedColormap.from_list('lala', colors, N=7)\n",
    "cmp_7 = LinearSegmentedColormap.from_list('lala', group_7_colors, N=7)\n",
    "\n",
    "cmp_2 = LinearSegmentedColormap.from_list('lala', ens_colors, N=2)"
   ]
  },
  {
   "cell_type": "code",
   "execution_count": 50,
   "metadata": {
    "execution": {
     "iopub.execute_input": "2025-04-13T01:51:43.156137Z",
     "iopub.status.busy": "2025-04-13T01:51:43.155772Z",
     "iopub.status.idle": "2025-04-13T01:51:43.159858Z",
     "shell.execute_reply": "2025-04-13T01:51:43.159244Z"
    }
   },
   "outputs": [],
   "source": [
    "cmp = LinearSegmentedColormap.from_list('lala', group_18_colors, N=18)"
   ]
  },
  {
   "cell_type": "code",
   "execution_count": 51,
   "metadata": {
    "execution": {
     "iopub.execute_input": "2025-04-13T01:51:43.162261Z",
     "iopub.status.busy": "2025-04-13T01:51:43.161935Z",
     "iopub.status.idle": "2025-04-13T01:51:43.165203Z",
     "shell.execute_reply": "2025-04-13T01:51:43.164586Z"
    }
   },
   "outputs": [],
   "source": [
    "ens_1 = [1, 2, 3, 4]\n",
    "ens_2 = [5, 6, 7]"
   ]
  },
  {
   "cell_type": "code",
   "execution_count": 52,
   "metadata": {
    "execution": {
     "iopub.execute_input": "2025-04-13T01:51:43.167520Z",
     "iopub.status.busy": "2025-04-13T01:51:43.167337Z",
     "iopub.status.idle": "2025-04-13T01:51:43.189700Z",
     "shell.execute_reply": "2025-04-13T01:51:43.188995Z"
    }
   },
   "outputs": [],
   "source": [
    "# Remap atlas numbers to the 7 groups\n",
    "atlas = np.asarray(atlas_i.dataobj).astype(int) \n",
    "atlas_masked = np.zeros(shape=(atlas.shape))\n",
    "atlas_ens1 = np.zeros(shape=(atlas.shape))\n",
    "atlas_ens2 = np.zeros(shape=(atlas.shape))\n",
    "atlas_ens = np.zeros(shape=(atlas.shape))\n",
    "for i in np.arange(1,8):    \n",
    "    for j in part_dict[i]:\n",
    "        # convert j to real j\n",
    "        real_j = network_labels.iloc[j-1].roi\n",
    "        if i <=4:\n",
    "            atlas_ens1[atlas==real_j] = i\n",
    "            atlas_masked[atlas==real_j] = 1\n",
    "        else:\n",
    "            atlas_ens2[atlas==real_j] = i\n",
    "            atlas_masked[atlas==real_j] = 2\n",
    "        atlas_ens[atlas==real_j] = i\n",
    "atlas_masked_i = nib.Nifti1Image(atlas_masked, affine=atlas_i.affine, header=atlas_i.header)\n",
    "atlas_ens_i = nib.Nifti1Image(atlas_ens, affine=atlas_i.affine, header=atlas_i.header)\n",
    "atlas_ens1_i = nib.Nifti1Image(atlas_ens1, affine=atlas_i.affine, header=atlas_i.header)\n",
    "atlas_ens2_i = nib.Nifti1Image(atlas_ens2, affine=atlas_i.affine, header=atlas_i.header)"
   ]
  },
  {
   "cell_type": "code",
   "execution_count": 53,
   "metadata": {
    "execution": {
     "iopub.execute_input": "2025-04-13T01:51:43.192620Z",
     "iopub.status.busy": "2025-04-13T01:51:43.192429Z",
     "iopub.status.idle": "2025-04-13T01:51:43.203887Z",
     "shell.execute_reply": "2025-04-13T01:51:43.203199Z"
    }
   },
   "outputs": [],
   "source": [
    "# Remap atlas numbers to the 18 ordering\n",
    "atlas = np.asarray(atlas_i.dataobj).astype(int) \n",
    "atlas_ens = np.zeros(shape=(atlas.shape))\n",
    "\n",
    "for idx, val in enumerate(order):\n",
    "    real_j = network_labels.iloc[val].roi\n",
    "    atlas_ens[atlas==real_j] = idx+1\n",
    "atlas_ens_i = nib.Nifti1Image(atlas_ens, affine=atlas_i.affine, header=atlas_i.header)"
   ]
  },
  {
   "cell_type": "code",
   "execution_count": 54,
   "metadata": {
    "execution": {
     "iopub.execute_input": "2025-04-13T01:51:43.206983Z",
     "iopub.status.busy": "2025-04-13T01:51:43.206640Z",
     "iopub.status.idle": "2025-04-13T01:51:43.216134Z",
     "shell.execute_reply": "2025-04-13T01:51:43.215488Z"
    }
   },
   "outputs": [],
   "source": [
    "atlas_comb = np.zeros(shape=(atlas.shape))\n",
    "\n",
    "for comb in part_dict.keys():\n",
    "    for val in part_dict[comb]:\n",
    "        real_j = network_labels.iloc[val-1].roi\n",
    "        atlas_comb[atlas==real_j] = comb\n",
    "atlas_comb_i = nib.Nifti1Image(atlas_comb, affine=atlas_i.affine, header=atlas_i.header)"
   ]
  },
  {
   "cell_type": "markdown",
   "metadata": {},
   "source": [
    "## Triple brains"
   ]
  },
  {
   "cell_type": "code",
   "execution_count": 55,
   "metadata": {
    "execution": {
     "iopub.execute_input": "2025-04-13T01:51:43.219172Z",
     "iopub.status.busy": "2025-04-13T01:51:43.218731Z",
     "iopub.status.idle": "2025-04-13T01:51:43.221883Z",
     "shell.execute_reply": "2025-04-13T01:51:43.221288Z"
    }
   },
   "outputs": [],
   "source": [
    "coords = (10,5,0)"
   ]
  },
  {
   "cell_type": "code",
   "execution_count": 56,
   "metadata": {
    "execution": {
     "iopub.execute_input": "2025-04-13T01:51:43.224364Z",
     "iopub.status.busy": "2025-04-13T01:51:43.224031Z",
     "iopub.status.idle": "2025-04-13T01:51:47.187439Z",
     "shell.execute_reply": "2025-04-13T01:51:47.186648Z"
    }
   },
   "outputs": [
    {
     "data": {
      "image/png": "[encoded data removed]",
      "text/plain": [
       "<Figure size 196.85x196.85 with 6 Axes>"
      ]
     },
     "metadata": {},
     "output_type": "display_data"
    }
   ],
   "source": [
    "# Individual brain slices and both networks together\n",
    "dpi=300\n",
    "scale_factor = 1\n",
    "height = 50 * scale_factor\n",
    "width = 50 * scale_factor\n",
    "\n",
    "lw=0.5\n",
    "\n",
    "fig = plt.figure(figsize=(mm2in(width),mm2in(height)), constrained_layout=True)\n",
    "gs = gridspec.GridSpec(ncols=2, nrows=2, hspace=-0.1)\n",
    "\n",
    "ax_sag = fig.add_subplot(gs[0, :])\n",
    "ax_cor = fig.add_subplot(gs[1, 0])\n",
    "ax_ax = fig.add_subplot(gs[1,1])\n",
    "\n",
    "g = nlp.plot_roi(atlas_ens_i, cmap=cmp, cut_coords=(coords[0],), display_mode='x', axes=ax_sag, vmin=1, \n",
    "                 vmax=18, draw_cross=False, annotate=False, black_bg=False);\n",
    "#g.annotate(fontsize=10)\n",
    "g.add_contours(atlas_masked_i, filled=False, alpha=1, levels=[0.5, 1.5], colors='black', linewidths=lw)\n",
    "\n",
    "g = nlp.plot_roi(atlas_ens_i, cmap=cmp, cut_coords=(coords[1],), display_mode='y', axes=ax_cor, vmin=1, vmax=18, draw_cross=False, \n",
    "             annotate=False, black_bg=False);\n",
    "g.add_contours(atlas_masked_i, filled=False, alpha=1, levels=[0.5, 1.5], colors='black', linewidths=lw)\n",
    "#g.annotate(fontsize=10)\n",
    "\n",
    "g = nlp.plot_roi(atlas_ens_i, cmap=cmp, cut_coords=(coords[2],), display_mode='z', axes=ax_ax, vmin=1, vmax=18, \n",
    "             draw_cross=False, annotate=False, black_bg=False);\n",
    "#g.annotate(fontsize=10)\n",
    "g.add_contours(atlas_masked_i, filled=False, alpha=1, levels=[0.5, 1.5], colors='black', linewidths=lw)\n",
    "\n",
    "fig.savefig(fig_p / 'brain_x_individual.png', bbox_inches='tight', dpi=dpi, transparent=True, pad_inches=0)\n",
    "fig.savefig(fig_p / 'brain_x_individual.pdf', bbox_inches='tight', dpi=dpi, transparent=True, pad_inches=0)"
   ]
  },
  {
   "cell_type": "code",
   "execution_count": 57,
   "metadata": {
    "execution": {
     "iopub.execute_input": "2025-04-13T01:51:47.190245Z",
     "iopub.status.busy": "2025-04-13T01:51:47.190014Z",
     "iopub.status.idle": "2025-04-13T01:51:50.369525Z",
     "shell.execute_reply": "2025-04-13T01:51:50.368662Z"
    }
   },
   "outputs": [
    {
     "data": {
      "image/png": "[encoded data removed]",
      "text/plain": [
       "<Figure size 196.85x196.85 with 6 Axes>"
      ]
     },
     "metadata": {},
     "output_type": "display_data"
    }
   ],
   "source": [
    "# combined networks\n",
    "dpi=300\n",
    "scale_factor = 1\n",
    "height = 50 * scale_factor\n",
    "width = 50 * scale_factor\n",
    "\n",
    "lw=0.5\n",
    "\n",
    "fig = plt.figure(figsize=(mm2in(width),mm2in(height)), constrained_layout=True)\n",
    "gs = gridspec.GridSpec(ncols=2, nrows=2, hspace=-0.1)\n",
    "\n",
    "ax_sag = fig.add_subplot(gs[0, :])\n",
    "ax_cor = fig.add_subplot(gs[1, 0])\n",
    "ax_ax = fig.add_subplot(gs[1,1])\n",
    "\n",
    "g = nlp.plot_roi(atlas_comb_i, cmap=cmp_7, cut_coords=(coords[0],), display_mode='x', axes=ax_sag, vmin=1, \n",
    "                 vmax=7, draw_cross=False, annotate=False, black_bg=False);\n",
    "#g.annotate(fontsize=10)\n",
    "g.add_contours(atlas_masked_i, filled=False, alpha=1, levels=[0.5, 1.5], colors='black', linewidths=lw)\n",
    "\n",
    "g = nlp.plot_roi(atlas_comb_i, cmap=cmp_7, cut_coords=(coords[1],), display_mode='y', axes=ax_cor, vmin=1, vmax=7, draw_cross=False, \n",
    "             annotate=False, black_bg=False);\n",
    "g.add_contours(atlas_masked_i, filled=False, alpha=1, levels=[0.5, 1.5], colors='black', linewidths=lw)\n",
    "#g.annotate(fontsize=10)\n",
    "\n",
    "g = nlp.plot_roi(atlas_comb_i, cmap=cmp_7, cut_coords=(coords[2],), display_mode='z', axes=ax_ax, vmin=1, vmax=7, \n",
    "             draw_cross=False, annotate=False, black_bg=False);\n",
    "#g.annotate(fontsize=10)\n",
    "g.add_contours(atlas_masked_i, filled=False, alpha=1, levels=[0.5, 1.5], colors='black', linewidths=lw)\n",
    "\n",
    "fig.savefig(fig_p / 'brain_x_combined.png', bbox_inches='tight', dpi=dpi, transparent=True, pad_inches=0)\n",
    "fig.savefig(fig_p / 'brain_x_combined.pdf', bbox_inches='tight', dpi=dpi, transparent=True, pad_inches=0)"
   ]
  },
  {
   "cell_type": "code",
   "execution_count": 58,
   "metadata": {
    "execution": {
     "iopub.execute_input": "2025-04-13T01:51:50.372117Z",
     "iopub.status.busy": "2025-04-13T01:51:50.371912Z",
     "iopub.status.idle": "2025-04-13T01:51:53.502178Z",
     "shell.execute_reply": "2025-04-13T01:51:53.501630Z"
    }
   },
   "outputs": [
    {
     "data": {
      "image/png": "[encoded data removed]",
      "text/plain": [
       "<Figure size 196.85x196.85 with 6 Axes>"
      ]
     },
     "metadata": {},
     "output_type": "display_data"
    }
   ],
   "source": [
    "# ensemble\n",
    "dpi=300\n",
    "scale_factor = 1\n",
    "height = 50 * scale_factor\n",
    "width = 50 * scale_factor\n",
    "\n",
    "lw=0.5\n",
    "\n",
    "fig = plt.figure(figsize=(mm2in(width),mm2in(height)), constrained_layout=True)\n",
    "gs = gridspec.GridSpec(ncols=2, nrows=2, hspace=-0.1)\n",
    "\n",
    "ax_sag = fig.add_subplot(gs[0, :])\n",
    "ax_cor = fig.add_subplot(gs[1, 0])\n",
    "ax_ax = fig.add_subplot(gs[1,1])\n",
    "\n",
    "g = nlp.plot_roi(atlas_masked_i, cmap=cmp_2, cut_coords=(coords[0],), display_mode='x', axes=ax_sag, vmin=1, \n",
    "                 vmax=2, draw_cross=False, annotate=False, black_bg=False);\n",
    "#g.annotate(fontsize=10)\n",
    "g.add_contours(atlas_masked_i, filled=False, alpha=1, levels=[0.5, 1.5], colors='black', linewidths=lw)\n",
    "\n",
    "g = nlp.plot_roi(atlas_masked_i, cmap=cmp_2, cut_coords=(coords[1],), display_mode='y', axes=ax_cor, vmin=1, vmax=2, draw_cross=False, \n",
    "             annotate=False, black_bg=False);\n",
    "g.add_contours(atlas_masked_i, filled=False, alpha=1, levels=[0.5, 1.5], colors='black', linewidths=lw)\n",
    "#g.annotate(fontsize=10)\n",
    "\n",
    "g = nlp.plot_roi(atlas_masked_i, cmap=cmp_2, cut_coords=(coords[2],), display_mode='z', axes=ax_ax, vmin=1, vmax=2, \n",
    "             draw_cross=False, annotate=False, black_bg=False);\n",
    "#g.annotate(fontsize=10)\n",
    "g.add_contours(atlas_masked_i, filled=False, alpha=1, levels=[0.5, 1.5], colors='black', linewidths=lw)\n",
    "\n",
    "fig.savefig(fig_p / 'brain_x_ensemble.png', bbox_inches='tight', dpi=dpi, transparent=True, pad_inches=0)\n",
    "fig.savefig(fig_p / 'brain_x_ensemble.pdf', bbox_inches='tight', dpi=dpi, transparent=True, pad_inches=0)"
   ]
  },
  {
   "cell_type": "code",
   "execution_count": 59,
   "metadata": {
    "execution": {
     "iopub.execute_input": "2025-04-13T01:51:53.504759Z",
     "iopub.status.busy": "2025-04-13T01:51:53.504569Z",
     "iopub.status.idle": "2025-04-13T01:51:54.573657Z",
     "shell.execute_reply": "2025-04-13T01:51:54.572868Z"
    }
   },
   "outputs": [
    {
     "data": {
      "image/png": "[encoded data removed]",
      "text/plain": [
       "<Figure size 196.85x137.795 with 2 Axes>"
      ]
     },
     "metadata": {},
     "output_type": "display_data"
    }
   ],
   "source": [
    "dpi=300\n",
    "scale_factor = 1\n",
    "height = 35 * scale_factor\n",
    "width = 50 * scale_factor\n",
    "\n",
    "fig = plt.figure(figsize=(mm2in(width),mm2in(height)), constrained_layout=True)\n",
    "ax = fig.add_subplot(111)\n",
    "g = nlp.plot_roi(atlas_comb_i, cmap=cmp_7, cut_coords=(coords[0],), display_mode='x', axes=ax, vmin=1, \n",
    "                 vmax=7, draw_cross=False, annotate=False, black_bg=False);\n",
    "g.annotate(size=10)\n",
    "g.add_contours(atlas_masked_i, filled=False, alpha=1, levels=[0.5, 1.5], colors='black', linewidths=1)"
   ]
  },
  {
   "cell_type": "code",
   "execution_count": 60,
   "metadata": {
    "execution": {
     "iopub.execute_input": "2025-04-13T01:51:54.575713Z",
     "iopub.status.busy": "2025-04-13T01:51:54.575529Z",
     "iopub.status.idle": "2025-04-13T01:51:54.580016Z",
     "shell.execute_reply": "2025-04-13T01:51:54.579365Z"
    }
   },
   "outputs": [
    {
     "data": {
      "text/plain": [
       "['#FFB647', '#FE2908', '#BF7400', '#FED908', '#52DD07', '#1258A6', '#5E12AC']"
      ]
     },
     "execution_count": 60,
     "metadata": {},
     "output_type": "execute_result"
    }
   ],
   "source": [
    "group_7_colors"
   ]
  },
  {
   "cell_type": "code",
   "execution_count": 61,
   "metadata": {
    "execution": {
     "iopub.execute_input": "2025-04-13T01:51:54.581890Z",
     "iopub.status.busy": "2025-04-13T01:51:54.581712Z",
     "iopub.status.idle": "2025-04-13T01:51:55.713385Z",
     "shell.execute_reply": "2025-04-13T01:51:55.712595Z"
    }
   },
   "outputs": [
    {
     "data": {
      "image/png": "[encoded data removed]",
      "text/plain": [
       "<Figure size 196.85x137.795 with 2 Axes>"
      ]
     },
     "metadata": {},
     "output_type": "display_data"
    }
   ],
   "source": [
    "# Individual brain slices and both networks together\n",
    "dpi=300\n",
    "scale_factor = 1\n",
    "height = 35 * scale_factor\n",
    "width = 50 * scale_factor\n",
    "\n",
    "fig = plt.figure(figsize=(mm2in(width),mm2in(height)), constrained_layout=True)\n",
    "ax = fig.add_subplot(111)\n",
    "g = nlp.plot_roi(atlas_ens_i, cmap=cmp, cut_coords=(coords[0],), display_mode='x', axes=ax, vmin=1, \n",
    "                 vmax=18, draw_cross=False, annotate=False, black_bg=False);\n",
    "g.annotate(size=10)\n",
    "g.add_contours(atlas_masked_i, filled=False, alpha=1, levels=[0.5, 1.5], colors='black', linewidths=1)\n",
    "\n",
    "fig.savefig(fig_p / 'brain_x.png', bbox_inches='tight', dpi=dpi, transparent=True, pad_inches=0)\n",
    "fig.savefig(fig_p / 'brain_x.pdf', bbox_inches='tight', dpi=dpi, transparent=True, pad_inches=0)"
   ]
  },
  {
   "cell_type": "code",
   "execution_count": 62,
   "metadata": {
    "execution": {
     "iopub.execute_input": "2025-04-13T01:51:55.715445Z",
     "iopub.status.busy": "2025-04-13T01:51:55.715262Z",
     "iopub.status.idle": "2025-04-13T01:51:56.832926Z",
     "shell.execute_reply": "2025-04-13T01:51:56.832145Z"
    }
   },
   "outputs": [
    {
     "data": {
      "image/png": "[encoded data removed]",
      "text/plain": [
       "<Figure size 196.85x137.795 with 2 Axes>"
      ]
     },
     "metadata": {},
     "output_type": "display_data"
    }
   ],
   "source": [
    "# Individual brain slices and both networks together\n",
    "dpi=300\n",
    "scale_factor = 1\n",
    "height = 35 * scale_factor\n",
    "width = 50 * scale_factor\n",
    "\n",
    "fig = plt.figure(figsize=(mm2in(width),mm2in(height)), constrained_layout=True)\n",
    "ax = fig.add_subplot(111)\n",
    "g = nlp.plot_roi(atlas_ens_i, cmap=cmp, cut_coords=(coords[1],), display_mode='y', axes=ax, vmin=1, vmax=18, draw_cross=False, \n",
    "             annotate=False, black_bg=False);\n",
    "g.annotate(size=10)\n",
    "g.add_contours(atlas_masked_i, filled=False, alpha=1, levels=[0.5, 1.5], colors='black', linewidths=1)\n",
    "fig.savefig(fig_p / 'brain_y.png', bbox_inches='tight', dpi=dpi, transparent=True, pad_inches=0)\n",
    "fig.savefig(fig_p / 'brain_y.pdf', bbox_inches='tight', dpi=dpi, transparent=True, pad_inches=0)"
   ]
  },
  {
   "cell_type": "code",
   "execution_count": 63,
   "metadata": {
    "execution": {
     "iopub.execute_input": "2025-04-13T01:51:56.835087Z",
     "iopub.status.busy": "2025-04-13T01:51:56.834838Z",
     "iopub.status.idle": "2025-04-13T01:51:57.959095Z",
     "shell.execute_reply": "2025-04-13T01:51:57.958427Z"
    }
   },
   "outputs": [
    {
     "data": {
      "image/png": "[encoded data removed]",
      "text/plain": [
       "<Figure size 196.85x137.795 with 2 Axes>"
      ]
     },
     "metadata": {},
     "output_type": "display_data"
    }
   ],
   "source": [
    "# Individual brain slices and both networks together\n",
    "dpi=300\n",
    "scale_factor = 1\n",
    "height = 35 * scale_factor\n",
    "width = 50 * scale_factor\n",
    "\n",
    "fig = plt.figure(figsize=(mm2in(width),mm2in(height)), constrained_layout=True)\n",
    "ax = fig.add_subplot(111)\n",
    "g = nlp.plot_roi(atlas_ens_i, cmap=cmp, cut_coords=(coords[2],), display_mode='z', axes=ax, vmin=1, vmax=18, \n",
    "             draw_cross=False, annotate=False, black_bg=False);\n",
    "g.annotate(size=10)\n",
    "g.add_contours(atlas_masked_i, filled=False, alpha=1, levels=[0.5, 1.5], colors='black', linewidths=1)\n",
    "fig.savefig(fig_p / 'brain_z.png', bbox_inches='tight', dpi=dpi, transparent=True, pad_inches=0)\n",
    "fig.savefig(fig_p / 'brain_z.pdf', bbox_inches='tight', dpi=dpi, transparent=True, pad_inches=0)"
   ]
  }
 ],
 "metadata": {
  "kernelspec": {
   "display_name": "Python 3 (ipykernel)",
   "language": "python",
   "name": "python3"
  },
  "language_info": {
   "codemirror_mode": {
    "name": "ipython",
    "version": 3
   },
   "file_extension": ".py",
   "mimetype": "text/x-python",
   "name": "python",
   "nbconvert_exporter": "python",
   "pygments_lexer": "ipython3",
   "version": "3.10.11"
  }
 },
 "nbformat": 4,
 "nbformat_minor": 4
}
