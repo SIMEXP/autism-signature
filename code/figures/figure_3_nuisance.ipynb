{
 "cells": [
  {
   "cell_type": "markdown",
   "metadata": {},
   "source": [
    "# Discovery association with noise\n",
    "Goals:\n",
    "- association between conformal scores of individual networks and ADOS and other behaviour\n",
    "- computed by rank correlation\n",
    "- repeated for the combinated ratings of these networks as well\n",
    "- visualized"
   ]
  },
  {
   "cell_type": "code",
   "execution_count": 1,
   "metadata": {
    "execution": {
     "iopub.execute_input": "2025-04-13T01:52:36.930657Z",
     "iopub.status.busy": "2025-04-13T01:52:36.930198Z",
     "iopub.status.idle": "2025-04-13T01:52:37.353571Z",
     "shell.execute_reply": "2025-04-13T01:52:37.352899Z"
    }
   },
   "outputs": [],
   "source": [
    "%matplotlib inline"
   ]
  },
  {
   "cell_type": "code",
   "execution_count": 2,
   "metadata": {
    "execution": {
     "iopub.execute_input": "2025-04-13T01:52:37.356398Z",
     "iopub.status.busy": "2025-04-13T01:52:37.356158Z",
     "iopub.status.idle": "2025-04-13T01:52:38.173490Z",
     "shell.execute_reply": "2025-04-13T01:52:38.172665Z"
    }
   },
   "outputs": [],
   "source": [
    "import numpy as np\n",
    "import pandas as pd\n",
    "import patsy as pat\n",
    "import pathlib as pal\n",
    "import seaborn as sbn\n",
    "import statsmodels.api as sm\n",
    "from scipy import stats as spss\n",
    "from matplotlib import gridspec\n",
    "from matplotlib import pyplot as plt"
   ]
  },
  {
   "cell_type": "code",
   "execution_count": 3,
   "metadata": {
    "execution": {
     "iopub.execute_input": "2025-04-13T01:52:38.176475Z",
     "iopub.status.busy": "2025-04-13T01:52:38.176191Z",
     "iopub.status.idle": "2025-04-13T01:52:38.180781Z",
     "shell.execute_reply": "2025-04-13T01:52:38.180085Z"
    }
   },
   "outputs": [],
   "source": [
    "import pathlib as pal\n",
    "\n",
    "# 📁 Base path = where this notebook lives\n",
    "root_p = pal.Path().resolve()\n",
    "\n",
    "# 📂 Input paths (Zenodo-style casing)\n",
    "discovery_p = root_p / '../../output_data/Results/Discovery'\n",
    "data_t = discovery_p / 'Results_Instance_{}_Network_{}.csv'\n",
    "pheno_p = root_p / '../../source_data/Data/ABIDE_1_Pheno_PSM_matched_ados.tsv'\n",
    "labels_p = root_p / '../../source_data/ATLAS/MIST/Parcel_Information/MIST_20_nocereb.csv'\n",
    "\n",
    "# 📈 Output path (modern lowercase convention)\n",
    "fig_p = root_p / '../../output_data/Figures/figure_3_nuisance'\n",
    "fig_p.mkdir(parents=True, exist_ok=True)"
   ]
  },
  {
   "cell_type": "code",
   "execution_count": 4,
   "metadata": {
    "execution": {
     "iopub.execute_input": "2025-04-13T01:52:38.183504Z",
     "iopub.status.busy": "2025-04-13T01:52:38.182999Z",
     "iopub.status.idle": "2025-04-13T01:52:38.188351Z",
     "shell.execute_reply": "2025-04-13T01:52:38.187612Z"
    }
   },
   "outputs": [],
   "source": [
    "def make_assoc_pearson(data, pheno, cov_name, boot_order):\n",
    "    n_iter, n_sub, n_ensemble = data.shape\n",
    "    array_out = np.zeros((n_iter, n_ensemble))\n",
    "\n",
    "    for iteration in range(n_iter):\n",
    "        for net in range(n_ensemble):\n",
    "            boot_idx = boot_order[iteration, :].astype(int)\n",
    "            mask = (~pheno.iloc[boot_idx][cov_name].isnull()).values.astype(bool)\n",
    "            p1_prob = data[iteration, mask, net]\n",
    "            p1_norm_prob = spss.norm.ppf(p1_prob)\n",
    "            exog = pheno.iloc[boot_idx[mask]][cov_name].values\n",
    "            r, p = spss.pearsonr(exog, p1_prob)\n",
    "            array_out[iteration, net] = r\n",
    "\n",
    "    return array_out"
   ]
  },
  {
   "cell_type": "code",
   "execution_count": 5,
   "metadata": {
    "execution": {
     "iopub.execute_input": "2025-04-13T01:52:38.190990Z",
     "iopub.status.busy": "2025-04-13T01:52:38.190522Z",
     "iopub.status.idle": "2025-04-13T01:52:38.194528Z",
     "shell.execute_reply": "2025-04-13T01:52:38.193787Z"
    }
   },
   "outputs": [],
   "source": [
    "def make_tab(array):\n",
    "    n_net = array.shape[1]\n",
    "    tab = pd.DataFrame(data=array, columns=[f'net_{i+1}' for i in range(n_net)]).unstack().reset_index()\n",
    "    tab.rename(columns={'level_0': 'network', 'level_1': 'iteration', 0: 'beta'}, inplace=True)\n",
    "    return tab"
   ]
  },
  {
   "cell_type": "code",
   "execution_count": 6,
   "metadata": {
    "execution": {
     "iopub.execute_input": "2025-04-13T01:52:38.197082Z",
     "iopub.status.busy": "2025-04-13T01:52:38.196902Z",
     "iopub.status.idle": "2025-04-13T01:52:38.209567Z",
     "shell.execute_reply": "2025-04-13T01:52:38.208757Z"
    }
   },
   "outputs": [],
   "source": [
    "pheno = pd.read_csv(pheno_p, sep='\\t')\n",
    "network_labels = pd.read_csv(labels_p, sep=';')"
   ]
  },
  {
   "cell_type": "code",
   "execution_count": 7,
   "metadata": {
    "execution": {
     "iopub.execute_input": "2025-04-13T01:52:38.212208Z",
     "iopub.status.busy": "2025-04-13T01:52:38.212005Z",
     "iopub.status.idle": "2025-04-13T01:52:39.703122Z",
     "shell.execute_reply": "2025-04-13T01:52:39.702065Z"
    }
   },
   "outputs": [],
   "source": [
    "# Load and stack data\n",
    "two = np.stack([\n",
    "    pd.read_csv(discovery_p / f'split_net_{i+1}_p1.tsv', sep='\\t').values.T\n",
    "    for i in range(2)\n",
    "], axis=-1)\n",
    "\n",
    "results_array = np.stack([[pd.read_csv(str(data_t).format(instance+1, net+1)).values[:, 1:] \n",
    "                           for instance in range(100)] \n",
    "                          for net in range(18)], -1)"
   ]
  },
  {
   "cell_type": "code",
   "execution_count": 8,
   "metadata": {
    "execution": {
     "iopub.execute_input": "2025-04-13T01:52:39.706165Z",
     "iopub.status.busy": "2025-04-13T01:52:39.705949Z",
     "iopub.status.idle": "2025-04-13T01:52:39.711358Z",
     "shell.execute_reply": "2025-04-13T01:52:39.710559Z"
    }
   },
   "outputs": [],
   "source": [
    "boot_order = results_array[:, :, 1, 0].astype(int) - 1 \n",
    "individual = results_array[:, :, 2, :] \n",
    "n_sub = boot_order.shape[1]"
   ]
  },
  {
   "cell_type": "markdown",
   "metadata": {},
   "source": [
    "## Age"
   ]
  },
  {
   "cell_type": "code",
   "execution_count": 9,
   "metadata": {
    "execution": {
     "iopub.execute_input": "2025-04-13T01:52:39.714063Z",
     "iopub.status.busy": "2025-04-13T01:52:39.713810Z",
     "iopub.status.idle": "2025-04-13T01:52:41.318550Z",
     "shell.execute_reply": "2025-04-13T01:52:41.317557Z"
    }
   },
   "outputs": [
    {
     "data": {
      "text/plain": [
       "count    1800.000000\n",
       "mean       -0.000313\n",
       "std         0.113904\n",
       "min        -0.403979\n",
       "25%        -0.074687\n",
       "50%         0.003718\n",
       "75%         0.077101\n",
       "max         0.400713\n",
       "Name: beta, dtype: float64"
      ]
     },
     "execution_count": 9,
     "metadata": {},
     "output_type": "execute_result"
    }
   ],
   "source": [
    "age_individual = make_assoc_pearson(individual, pheno, 'AGE_AT_SCAN', boot_order)\n",
    "age_ind_tab = make_tab(age_individual)\n",
    "age_ind_tab['beta'].describe()"
   ]
  },
  {
   "cell_type": "code",
   "execution_count": 10,
   "metadata": {
    "execution": {
     "iopub.execute_input": "2025-04-13T01:52:41.372646Z",
     "iopub.status.busy": "2025-04-13T01:52:41.372305Z",
     "iopub.status.idle": "2025-04-13T01:52:41.589048Z",
     "shell.execute_reply": "2025-04-13T01:52:41.588262Z"
    }
   },
   "outputs": [
    {
     "data": {
      "text/html": [
       "<div>\n",
       "<style scoped>\n",
       "    .dataframe tbody tr th:only-of-type {\n",
       "        vertical-align: middle;\n",
       "    }\n",
       "\n",
       "    .dataframe tbody tr th {\n",
       "        vertical-align: top;\n",
       "    }\n",
       "\n",
       "    .dataframe thead th {\n",
       "        text-align: right;\n",
       "    }\n",
       "</style>\n",
       "<table border=\"1\" class=\"dataframe\">\n",
       "  <thead>\n",
       "    <tr style=\"text-align: right;\">\n",
       "      <th></th>\n",
       "      <th>count</th>\n",
       "      <th>mean</th>\n",
       "      <th>std</th>\n",
       "      <th>min</th>\n",
       "      <th>25%</th>\n",
       "      <th>50%</th>\n",
       "      <th>75%</th>\n",
       "      <th>max</th>\n",
       "    </tr>\n",
       "    <tr>\n",
       "      <th>network</th>\n",
       "      <th></th>\n",
       "      <th></th>\n",
       "      <th></th>\n",
       "      <th></th>\n",
       "      <th></th>\n",
       "      <th></th>\n",
       "      <th></th>\n",
       "      <th></th>\n",
       "    </tr>\n",
       "  </thead>\n",
       "  <tbody>\n",
       "    <tr>\n",
       "      <th>net_1</th>\n",
       "      <td>100.0</td>\n",
       "      <td>-0.000839</td>\n",
       "      <td>0.156896</td>\n",
       "      <td>-0.413595</td>\n",
       "      <td>-0.092769</td>\n",
       "      <td>0.001299</td>\n",
       "      <td>0.132303</td>\n",
       "      <td>0.358115</td>\n",
       "    </tr>\n",
       "    <tr>\n",
       "      <th>net_2</th>\n",
       "      <td>100.0</td>\n",
       "      <td>-0.002658</td>\n",
       "      <td>0.130787</td>\n",
       "      <td>-0.315898</td>\n",
       "      <td>-0.094751</td>\n",
       "      <td>0.003290</td>\n",
       "      <td>0.084714</td>\n",
       "      <td>0.275583</td>\n",
       "    </tr>\n",
       "  </tbody>\n",
       "</table>\n",
       "</div>"
      ],
      "text/plain": [
       "         count      mean       std       min       25%       50%       75%  \\\n",
       "network                                                                      \n",
       "net_1    100.0 -0.000839  0.156896 -0.413595 -0.092769  0.001299  0.132303   \n",
       "net_2    100.0 -0.002658  0.130787 -0.315898 -0.094751  0.003290  0.084714   \n",
       "\n",
       "              max  \n",
       "network            \n",
       "net_1    0.358115  \n",
       "net_2    0.275583  "
      ]
     },
     "execution_count": 10,
     "metadata": {},
     "output_type": "execute_result"
    }
   ],
   "source": [
    "age_two = make_assoc_pearson(two, pheno, 'AGE_AT_SCAN', boot_order)\n",
    "age_two_tab = make_tab(age_two)\n",
    "age_two_tab.groupby('network')['beta'].describe()"
   ]
  },
  {
   "cell_type": "markdown",
   "metadata": {},
   "source": [
    "## FD"
   ]
  },
  {
   "cell_type": "code",
   "execution_count": 11,
   "metadata": {
    "execution": {
     "iopub.execute_input": "2025-04-13T01:52:41.591341Z",
     "iopub.status.busy": "2025-04-13T01:52:41.590955Z",
     "iopub.status.idle": "2025-04-13T01:52:43.156291Z",
     "shell.execute_reply": "2025-04-13T01:52:43.155446Z"
    }
   },
   "outputs": [
    {
     "data": {
      "text/plain": [
       "count    1800.000000\n",
       "mean       -0.007477\n",
       "std         0.117158\n",
       "min        -0.431972\n",
       "25%        -0.079355\n",
       "50%        -0.003652\n",
       "75%         0.068431\n",
       "max         0.466805\n",
       "Name: beta, dtype: float64"
      ]
     },
     "execution_count": 11,
     "metadata": {},
     "output_type": "execute_result"
    }
   ],
   "source": [
    "fd_individual = make_assoc_pearson(individual, pheno, 'fd_scrubbed', boot_order)\n",
    "fd_ind_tab = make_tab(fd_individual)\n",
    "fd_ind_tab['beta'].describe()"
   ]
  },
  {
   "cell_type": "code",
   "execution_count": 12,
   "metadata": {
    "execution": {
     "iopub.execute_input": "2025-04-13T01:52:43.158823Z",
     "iopub.status.busy": "2025-04-13T01:52:43.158626Z",
     "iopub.status.idle": "2025-04-13T01:52:43.368860Z",
     "shell.execute_reply": "2025-04-13T01:52:43.368017Z"
    }
   },
   "outputs": [
    {
     "data": {
      "text/html": [
       "<div>\n",
       "<style scoped>\n",
       "    .dataframe tbody tr th:only-of-type {\n",
       "        vertical-align: middle;\n",
       "    }\n",
       "\n",
       "    .dataframe tbody tr th {\n",
       "        vertical-align: top;\n",
       "    }\n",
       "\n",
       "    .dataframe thead th {\n",
       "        text-align: right;\n",
       "    }\n",
       "</style>\n",
       "<table border=\"1\" class=\"dataframe\">\n",
       "  <thead>\n",
       "    <tr style=\"text-align: right;\">\n",
       "      <th></th>\n",
       "      <th>count</th>\n",
       "      <th>mean</th>\n",
       "      <th>std</th>\n",
       "      <th>min</th>\n",
       "      <th>25%</th>\n",
       "      <th>50%</th>\n",
       "      <th>75%</th>\n",
       "      <th>max</th>\n",
       "    </tr>\n",
       "    <tr>\n",
       "      <th>network</th>\n",
       "      <th></th>\n",
       "      <th></th>\n",
       "      <th></th>\n",
       "      <th></th>\n",
       "      <th></th>\n",
       "      <th></th>\n",
       "      <th></th>\n",
       "      <th></th>\n",
       "    </tr>\n",
       "  </thead>\n",
       "  <tbody>\n",
       "    <tr>\n",
       "      <th>net_1</th>\n",
       "      <td>100.0</td>\n",
       "      <td>-0.015174</td>\n",
       "      <td>0.168381</td>\n",
       "      <td>-0.480128</td>\n",
       "      <td>-0.121019</td>\n",
       "      <td>-0.029194</td>\n",
       "      <td>0.106906</td>\n",
       "      <td>0.399708</td>\n",
       "    </tr>\n",
       "    <tr>\n",
       "      <th>net_2</th>\n",
       "      <td>100.0</td>\n",
       "      <td>-0.013174</td>\n",
       "      <td>0.136971</td>\n",
       "      <td>-0.437886</td>\n",
       "      <td>-0.095569</td>\n",
       "      <td>0.002377</td>\n",
       "      <td>0.065650</td>\n",
       "      <td>0.282635</td>\n",
       "    </tr>\n",
       "  </tbody>\n",
       "</table>\n",
       "</div>"
      ],
      "text/plain": [
       "         count      mean       std       min       25%       50%       75%  \\\n",
       "network                                                                      \n",
       "net_1    100.0 -0.015174  0.168381 -0.480128 -0.121019 -0.029194  0.106906   \n",
       "net_2    100.0 -0.013174  0.136971 -0.437886 -0.095569  0.002377  0.065650   \n",
       "\n",
       "              max  \n",
       "network            \n",
       "net_1    0.399708  \n",
       "net_2    0.282635  "
      ]
     },
     "execution_count": 12,
     "metadata": {},
     "output_type": "execute_result"
    }
   ],
   "source": [
    "fd_two = make_assoc_pearson(two, pheno, 'fd_scrubbed', boot_order)\n",
    "fd_two_tab = make_tab(fd_two)\n",
    "fd_two_tab.groupby('network')['beta'].describe()"
   ]
  },
  {
   "cell_type": "markdown",
   "metadata": {},
   "source": [
    "## Make a figure"
   ]
  },
  {
   "cell_type": "code",
   "execution_count": 13,
   "metadata": {
    "execution": {
     "iopub.execute_input": "2025-04-13T01:52:43.371015Z",
     "iopub.status.busy": "2025-04-13T01:52:43.370764Z",
     "iopub.status.idle": "2025-04-13T01:52:43.377851Z",
     "shell.execute_reply": "2025-04-13T01:52:43.377136Z"
    }
   },
   "outputs": [
    {
     "data": {
      "text/html": [
       "<div>\n",
       "<style scoped>\n",
       "    .dataframe tbody tr th:only-of-type {\n",
       "        vertical-align: middle;\n",
       "    }\n",
       "\n",
       "    .dataframe tbody tr th {\n",
       "        vertical-align: top;\n",
       "    }\n",
       "\n",
       "    .dataframe thead th {\n",
       "        text-align: right;\n",
       "    }\n",
       "</style>\n",
       "<table border=\"1\" class=\"dataframe\">\n",
       "  <thead>\n",
       "    <tr style=\"text-align: right;\">\n",
       "      <th></th>\n",
       "      <th>network</th>\n",
       "      <th>iteration</th>\n",
       "      <th>beta</th>\n",
       "    </tr>\n",
       "  </thead>\n",
       "  <tbody>\n",
       "    <tr>\n",
       "      <th>0</th>\n",
       "      <td>net_1</td>\n",
       "      <td>0</td>\n",
       "      <td>0.014239</td>\n",
       "    </tr>\n",
       "    <tr>\n",
       "      <th>1</th>\n",
       "      <td>net_1</td>\n",
       "      <td>1</td>\n",
       "      <td>0.189650</td>\n",
       "    </tr>\n",
       "    <tr>\n",
       "      <th>2</th>\n",
       "      <td>net_1</td>\n",
       "      <td>2</td>\n",
       "      <td>0.189613</td>\n",
       "    </tr>\n",
       "    <tr>\n",
       "      <th>3</th>\n",
       "      <td>net_1</td>\n",
       "      <td>3</td>\n",
       "      <td>-0.061077</td>\n",
       "    </tr>\n",
       "    <tr>\n",
       "      <th>4</th>\n",
       "      <td>net_1</td>\n",
       "      <td>4</td>\n",
       "      <td>-0.160421</td>\n",
       "    </tr>\n",
       "  </tbody>\n",
       "</table>\n",
       "</div>"
      ],
      "text/plain": [
       "  network  iteration      beta\n",
       "0   net_1          0  0.014239\n",
       "1   net_1          1  0.189650\n",
       "2   net_1          2  0.189613\n",
       "3   net_1          3 -0.061077\n",
       "4   net_1          4 -0.160421"
      ]
     },
     "execution_count": 13,
     "metadata": {},
     "output_type": "execute_result"
    }
   ],
   "source": [
    "age_ind_tab.head()"
   ]
  },
  {
   "cell_type": "code",
   "execution_count": 14,
   "metadata": {
    "execution": {
     "iopub.execute_input": "2025-04-13T01:52:43.379801Z",
     "iopub.status.busy": "2025-04-13T01:52:43.379619Z",
     "iopub.status.idle": "2025-04-13T01:52:43.386538Z",
     "shell.execute_reply": "2025-04-13T01:52:43.385769Z"
    }
   },
   "outputs": [
    {
     "data": {
      "text/html": [
       "<div>\n",
       "<style scoped>\n",
       "    .dataframe tbody tr th:only-of-type {\n",
       "        vertical-align: middle;\n",
       "    }\n",
       "\n",
       "    .dataframe tbody tr th {\n",
       "        vertical-align: top;\n",
       "    }\n",
       "\n",
       "    .dataframe thead th {\n",
       "        text-align: right;\n",
       "    }\n",
       "</style>\n",
       "<table border=\"1\" class=\"dataframe\">\n",
       "  <thead>\n",
       "    <tr style=\"text-align: right;\">\n",
       "      <th></th>\n",
       "      <th>network</th>\n",
       "      <th>iteration</th>\n",
       "      <th>beta</th>\n",
       "    </tr>\n",
       "  </thead>\n",
       "  <tbody>\n",
       "    <tr>\n",
       "      <th>0</th>\n",
       "      <td>net_1</td>\n",
       "      <td>0</td>\n",
       "      <td>-0.039917</td>\n",
       "    </tr>\n",
       "    <tr>\n",
       "      <th>1</th>\n",
       "      <td>net_1</td>\n",
       "      <td>1</td>\n",
       "      <td>-0.091612</td>\n",
       "    </tr>\n",
       "    <tr>\n",
       "      <th>2</th>\n",
       "      <td>net_1</td>\n",
       "      <td>2</td>\n",
       "      <td>0.218783</td>\n",
       "    </tr>\n",
       "    <tr>\n",
       "      <th>3</th>\n",
       "      <td>net_1</td>\n",
       "      <td>3</td>\n",
       "      <td>0.138893</td>\n",
       "    </tr>\n",
       "    <tr>\n",
       "      <th>4</th>\n",
       "      <td>net_1</td>\n",
       "      <td>4</td>\n",
       "      <td>-0.060594</td>\n",
       "    </tr>\n",
       "  </tbody>\n",
       "</table>\n",
       "</div>"
      ],
      "text/plain": [
       "  network  iteration      beta\n",
       "0   net_1          0 -0.039917\n",
       "1   net_1          1 -0.091612\n",
       "2   net_1          2  0.218783\n",
       "3   net_1          3  0.138893\n",
       "4   net_1          4 -0.060594"
      ]
     },
     "execution_count": 14,
     "metadata": {},
     "output_type": "execute_result"
    }
   ],
   "source": [
    "age_two_tab.head()"
   ]
  },
  {
   "cell_type": "code",
   "execution_count": 15,
   "metadata": {
    "execution": {
     "iopub.execute_input": "2025-04-13T01:52:43.388471Z",
     "iopub.status.busy": "2025-04-13T01:52:43.388291Z",
     "iopub.status.idle": "2025-04-13T01:52:43.392809Z",
     "shell.execute_reply": "2025-04-13T01:52:43.392136Z"
    }
   },
   "outputs": [],
   "source": [
    "age_two_tab['type'] = 'Age'\n",
    "fd_two_tab['type'] = 'Head Motion'\n",
    "joint = pd.concat([fd_two_tab, age_two_tab])"
   ]
  },
  {
   "cell_type": "code",
   "execution_count": 16,
   "metadata": {
    "execution": {
     "iopub.execute_input": "2025-04-13T01:52:43.394897Z",
     "iopub.status.busy": "2025-04-13T01:52:43.394720Z",
     "iopub.status.idle": "2025-04-13T01:52:43.397964Z",
     "shell.execute_reply": "2025-04-13T01:52:43.397311Z"
    }
   },
   "outputs": [],
   "source": [
    "def mm2in(mm):\n",
    "    return mm/25.4"
   ]
  },
  {
   "cell_type": "code",
   "execution_count": 17,
   "metadata": {
    "execution": {
     "iopub.execute_input": "2025-04-13T01:52:43.399937Z",
     "iopub.status.busy": "2025-04-13T01:52:43.399754Z",
     "iopub.status.idle": "2025-04-13T01:52:44.397895Z",
     "shell.execute_reply": "2025-04-13T01:52:44.397132Z"
    }
   },
   "outputs": [
    {
     "name": "stderr",
     "output_type": "stream",
     "text": [
      "/tmp/ipykernel_371/656387512.py:76: UserWarning: constrained_layout not applied because axes sizes collapsed to zero.  Try making figure larger or Axes decorations smaller.\n",
      "  fig.savefig(fig_p / 'fig3_nuisance.png', bbox_inches='tight', dpi=dpi, transparent=True, pad_inches=0)\n"
     ]
    },
    {
     "name": "stderr",
     "output_type": "stream",
     "text": [
      "/tmp/ipykernel_371/656387512.py:77: UserWarning: constrained_layout not applied because axes sizes collapsed to zero.  Try making figure larger or Axes decorations smaller.\n",
      "  fig.savefig(fig_p / 'fig3_nuisance.pdf', bbox_inches='tight', dpi=dpi, transparent=True, pad_inches=0)\n"
     ]
    },
    {
     "name": "stderr",
     "output_type": "stream",
     "text": [
      "/opt/conda/lib/python3.10/site-packages/IPython/core/events.py:82: UserWarning: constrained_layout not applied because axes sizes collapsed to zero.  Try making figure larger or Axes decorations smaller.\n",
      "  func(*args, **kwargs)\n",
      "/opt/conda/lib/python3.10/site-packages/IPython/core/pylabtools.py:170: UserWarning: constrained_layout not applied because axes sizes collapsed to zero.  Try making figure larger or Axes decorations smaller.\n",
      "  fig.canvas.print_figure(bytes_io, **kw)\n"
     ]
    },
    {
     "data": {
      "image/png": "[encoded data removed]",
      "text/plain": [
       "<Figure size 551.181x157.48 with 2 Axes>"
      ]
     },
     "metadata": {},
     "output_type": "display_data"
    }
   ],
   "source": [
    "ci = 90\n",
    "ci_step = (100-ci)/2\n",
    "q_age_ind = np.stack([np.percentile(age_individual, quantile, axis=0) \n",
    "                          for quantile in [ci_step, 25, 50, 75, 100-ci_step]])\n",
    "q_fd_ind = np.stack([np.percentile(fd_individual, quantile, axis=0) \n",
    "                          for quantile in [ci_step, 25, 50, 75, 100-ci_step]])\n",
    "n_groups = q_age_ind.shape[1]\n",
    "stack_x = np.tile(np.arange(n_groups), (2, 1))\n",
    "\n",
    "\n",
    "q_age_ens = np.stack([np.percentile(age_two, quantile, axis=0) \n",
    "                          for quantile in [ci_step, 25, 50, 75, 100-ci_step]])\n",
    "q_fd_ens = np.stack([np.percentile(fd_two, quantile, axis=0) \n",
    "                          for quantile in [ci_step, 25, 50, 75, 100-ci_step]])\n",
    "n_groups_ens = q_age_ens.shape[1]\n",
    "stack_x_ens = np.tile(np.arange(n_groups_ens), (2, 1))\n",
    "\n",
    "dpi=300\n",
    "scale_factor = 1\n",
    "height = 40 * scale_factor\n",
    "width = 140 * scale_factor\n",
    "\n",
    "fig = plt.figure(figsize=(mm2in(width),mm2in(height)), constrained_layout=True)\n",
    "gs = gridspec.GridSpec(nrows=1, ncols=24, hspace=0.2, figure=fig)\n",
    "ax = fig.add_subplot(gs[:18])\n",
    "ax_ens = fig.add_subplot(gs[20:])\n",
    "ax.hlines(0, -.5, n_groups-0.5, zorder=0, color='black')\n",
    "ax_ens.hlines(0, -.5, n_groups_ens-0.5, zorder=0, color='black')\n",
    "\n",
    "# Plot ADOS CS\n",
    "adjust = -0.1\n",
    "for adjust, quantiles, color, label in zip([-0.1, 0.1], \n",
    "                                    [q_age_ind, q_fd_ind], \n",
    "                                    ['darkgrey', 'black'], \n",
    "                                    ['Age', 'Head Motion']):\n",
    "    ax.plot(stack_x[0,:]+adjust, quantiles[2, :], color=color, marker='.', linestyle='', label=label)\n",
    "    # Plot the lower CI\n",
    "    ax.plot(stack_x+adjust, quantiles[0:2, :],color=color, linewidth=2)\n",
    "    # Plot the upper CI\n",
    "    ax.plot(stack_x+adjust, quantiles[3:, :], color=color, linewidth=2)\n",
    "\n",
    "for adjust, quantiles, color, label in zip([-0.1, 0.1], \n",
    "                                    [q_age_ens, q_fd_ens], \n",
    "                                    ['darkgrey', 'black'], \n",
    "                                    ['Age', 'Head Motion']):\n",
    "    ax_ens.plot(stack_x_ens[0,:]+adjust, quantiles[2, :], color=color, marker='.', linestyle='', label=label)\n",
    "    # Plot the lower CI\n",
    "    ax_ens.plot(stack_x_ens+adjust, quantiles[0:2, :],color=color, linewidth=2)\n",
    "    # Plot the upper CI\n",
    "    ax_ens.plot(stack_x_ens+adjust, quantiles[3:, :], color=color, linewidth=2)   \n",
    "    \n",
    "lgd = ax_ens.legend(loc='center left', bbox_to_anchor=(1, 0.5),\n",
    "          ncol=1, fancybox=False, shadow=False, fontsize=8, title='');\n",
    "ax.set_xticks(list(np.arange(n_groups)));\n",
    "ax.set_xticklabels(network_labels['label'].values, rotation=90, fontsize=10);\n",
    "ax.set_xlim([-0.5, n_groups-0.5])\n",
    "ax.set_ylim([-0.3, 0.3])\n",
    "ax.set_yticks([-0.2, 0, 0.2])\n",
    "#ax.set_yticklabels(['negative association', 'no association', 'positive association']);\n",
    "ax.set_yticklabels([-0.2, 0, 0.2]);\n",
    "ax.set_ylabel('Pearson correlation', fontsize=10)\n",
    "ax.set_title('Networks', fontsize=10)\n",
    "\n",
    "ax_ens.set_xticks(list(np.arange(n_groups_ens)));\n",
    "ax_ens.set_xticklabels(['Ensemble 1', 'Ensemble 2'], rotation=90, fontsize=10);\n",
    "ax_ens.set_xlim([-0.5, n_groups_ens-0.5])\n",
    "ax_ens.set_ylim([-0.3, 0.3])\n",
    "ax_ens.set_yticks([-0.2, 0, 0.2])\n",
    "#ax.set_yticklabels(['negative association', 'no association', 'positive association']);\n",
    "ax_ens.set_yticklabels([]);\n",
    "#ax.set_ylabel('Pearson correlation')\n",
    "ax_ens.set_title('Ensembles', fontsize=10)\n",
    "\n",
    "ax.tick_params(axis='y', which='major', pad=15)\n",
    "\n",
    "fig.savefig(fig_p / 'fig3_nuisance.png', bbox_inches='tight', dpi=dpi, transparent=True, pad_inches=0)\n",
    "fig.savefig(fig_p / 'fig3_nuisance.pdf', bbox_inches='tight', dpi=dpi, transparent=True, pad_inches=0)"
   ]
  },
  {
   "cell_type": "code",
   "execution_count": null,
   "metadata": {},
   "outputs": [],
   "source": []
  }
 ],
 "metadata": {
  "kernelspec": {
   "display_name": "Python 3 (ipykernel)",
   "language": "python",
   "name": "python3"
  },
  "language_info": {
   "codemirror_mode": {
    "name": "ipython",
    "version": 3
   },
   "file_extension": ".py",
   "mimetype": "text/x-python",
   "name": "python",
   "nbconvert_exporter": "python",
   "pygments_lexer": "ipython3",
   "version": "3.10.11"
  }
 },
 "nbformat": 4,
 "nbformat_minor": 4
}
