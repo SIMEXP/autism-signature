{
 "cells": [
  {
   "cell_type": "code",
   "execution_count": 1,
   "id": "2be10229",
   "metadata": {
    "execution": {
     "iopub.execute_input": "2025-05-08T00:18:41.294161Z",
     "iopub.status.busy": "2025-05-08T00:18:41.293869Z",
     "iopub.status.idle": "2025-05-08T00:18:42.322807Z",
     "shell.execute_reply": "2025-05-08T00:18:42.321998Z"
    }
   },
   "outputs": [],
   "source": [
    "import pandas as pd\n",
    "import numpy as np\n",
    "import scipy.stats as stats\n",
    "import matplotlib.pyplot as plt\n",
    "import seaborn as sns\n",
    "\n",
    "from pathlib import Path"
   ]
  },
  {
   "cell_type": "code",
   "execution_count": 2,
   "id": "49b84696",
   "metadata": {
    "execution": {
     "iopub.execute_input": "2025-05-08T00:18:42.325804Z",
     "iopub.status.busy": "2025-05-08T00:18:42.325576Z",
     "iopub.status.idle": "2025-05-08T00:18:42.329456Z",
     "shell.execute_reply": "2025-05-08T00:18:42.328825Z"
    }
   },
   "outputs": [],
   "source": [
    "\n",
    "# 📁 Base path = where this notebook lives\n",
    "root_p = Path().resolve()\n",
    "\n",
    "# 📂 Input paths\n",
    "validation_p = root_p / '../../output_data/Results/Validation'\n",
    "data_p = root_p / '../../source_data/Data'\n",
    "\n",
    "model1_p = validation_p / 'validation_net_split_1_model_1_combined_p_values.tsv'\n",
    "pheno_valid_p = data_p / 'ABIDE_2_Pheno_PSM_matched_ados.tsv'\n",
    "\n",
    "# 📂 Output paths\n",
    "fig_p = root_p / '../../output_data/Supplemental/correlate_severity'\n",
    "fig_p.mkdir(parents=True, exist_ok=True)"
   ]
  },
  {
   "cell_type": "markdown",
   "id": "af17f7d3",
   "metadata": {},
   "source": [
    "## Load and preparation"
   ]
  },
  {
   "cell_type": "code",
   "execution_count": 3,
   "id": "fa38986e",
   "metadata": {
    "execution": {
     "iopub.execute_input": "2025-05-08T00:18:42.331602Z",
     "iopub.status.busy": "2025-05-08T00:18:42.331442Z",
     "iopub.status.idle": "2025-05-08T00:18:42.354550Z",
     "shell.execute_reply": "2025-05-08T00:18:42.353909Z"
    }
   },
   "outputs": [],
   "source": [
    "pheno_valid = pd.read_csv(pheno_valid_p, sep='\\t')\n",
    "model1 = pd.read_csv(model1_p, sep='\\t')\n",
    "model1.rename(columns={'V1': 'p_ASD', 'V2': 'p_TDC'}, inplace=True)"
   ]
  },
  {
   "cell_type": "code",
   "execution_count": 4,
   "id": "695eae74",
   "metadata": {
    "execution": {
     "iopub.execute_input": "2025-05-08T00:18:42.356996Z",
     "iopub.status.busy": "2025-05-08T00:18:42.356832Z",
     "iopub.status.idle": "2025-05-08T00:18:42.361716Z",
     "shell.execute_reply": "2025-05-08T00:18:42.361150Z"
    }
   },
   "outputs": [],
   "source": [
    "pheno_valid.loc[:, 'is_hps'] = ((model1.p_ASD>0.2) & (model1.p_TDC<=0.2)).values\n",
    "pheno_valid.loc[:, 'p_ASD'] = model1.loc[:, 'p_ASD'].values\n",
    "pheno_valid.loc[:, 'p_TDC'] = model1.loc[:, 'p_TDC'].values"
   ]
  },
  {
   "cell_type": "code",
   "execution_count": 5,
   "id": "cef39026",
   "metadata": {
    "execution": {
     "iopub.execute_input": "2025-05-08T00:18:42.363800Z",
     "iopub.status.busy": "2025-05-08T00:18:42.363640Z",
     "iopub.status.idle": "2025-05-08T00:18:42.367717Z",
     "shell.execute_reply": "2025-05-08T00:18:42.367153Z"
    }
   },
   "outputs": [],
   "source": [
    "# Compute actual indices to avoid trusting the DF indices\n",
    "hps_idx = np.where(pheno_valid.is_hps)[0]\n",
    "non_hps_idx = np.where(~pheno_valid.is_hps)\n",
    "hps_asd_idx = np.where((pheno_valid.is_hps) & (pheno_valid.DX_GROUP=='Autism'))[0]\n",
    "non_hps_asd_idx = np.where((~pheno_valid.is_hps) & (pheno_valid.DX_GROUP=='Autism'))[0]"
   ]
  },
  {
   "cell_type": "markdown",
   "id": "9e732fd3",
   "metadata": {},
   "source": [
    "## Drop rows with missing data"
   ]
  },
  {
   "cell_type": "code",
   "execution_count": 6,
   "id": "83f09539",
   "metadata": {
    "execution": {
     "iopub.execute_input": "2025-05-08T00:18:42.369941Z",
     "iopub.status.busy": "2025-05-08T00:18:42.369781Z",
     "iopub.status.idle": "2025-05-08T00:18:42.373994Z",
     "shell.execute_reply": "2025-05-08T00:18:42.373346Z"
    }
   },
   "outputs": [],
   "source": [
    "pheno_valid_clean = pheno_valid.dropna(subset=['ADOS_CSS_proxy_fully', 'p_ASD'])"
   ]
  },
  {
   "cell_type": "markdown",
   "id": "2195e7db",
   "metadata": {},
   "source": [
    "## Plot data"
   ]
  },
  {
   "cell_type": "code",
   "execution_count": 7,
   "id": "ce0e5c21",
   "metadata": {
    "execution": {
     "iopub.execute_input": "2025-05-08T00:18:42.376269Z",
     "iopub.status.busy": "2025-05-08T00:18:42.376100Z",
     "iopub.status.idle": "2025-05-08T00:18:42.483973Z",
     "shell.execute_reply": "2025-05-08T00:18:42.483262Z"
    }
   },
   "outputs": [
    {
     "data": {
      "image/png": "[encoded data removed]",
      "text/plain": [
       "<Figure size 800x600 with 1 Axes>"
      ]
     },
     "metadata": {},
     "output_type": "display_data"
    }
   ],
   "source": [
    "plt.figure(figsize=(8, 6))\n",
    "sns.scatterplot(x=pheno_valid_clean['p_ASD'], y=pheno_valid_clean['ADOS_CSS_proxy_fully'], alpha=0.6)\n",
    "plt.show()"
   ]
  },
  {
   "cell_type": "markdown",
   "id": "ef9dd7a4-e2c9-4baf-b809-87da15196dcc",
   "metadata": {},
   "source": [
    "# Save the figure"
   ]
  },
  {
   "cell_type": "code",
   "execution_count": 8,
   "id": "8e18effe-6c5d-4e88-b15e-7f1f02de8c2a",
   "metadata": {
    "execution": {
     "iopub.execute_input": "2025-05-08T00:18:42.486842Z",
     "iopub.status.busy": "2025-05-08T00:18:42.486553Z",
     "iopub.status.idle": "2025-05-08T00:18:42.594621Z",
     "shell.execute_reply": "2025-05-08T00:18:42.593978Z"
    }
   },
   "outputs": [
    {
     "name": "stdout",
     "output_type": "stream",
     "text": [
      "💾 Saved supplemental figure: /home/lune/git/autism-signature/code/supplemental/../../output_data/Supplemental/correlate_severity/figure_2_scatter.png\n"
     ]
    },
    {
     "data": {
      "text/plain": [
       "<Figure size 640x480 with 0 Axes>"
      ]
     },
     "metadata": {},
     "output_type": "display_data"
    }
   ],
   "source": [
    "# 🖼️ Save figure\n",
    "fig_out_p = fig_p / 'figure_2_scatter.png'\n",
    "plt.savefig(fig_out_p, dpi=300, bbox_inches='tight')\n",
    "print(f\"💾 Saved supplemental figure: {fig_out_p}\")"
   ]
  },
  {
   "cell_type": "markdown",
   "id": "9e7bfe9a",
   "metadata": {},
   "source": [
    "## Compute Pearson correlation"
   ]
  },
  {
   "cell_type": "code",
   "execution_count": 9,
   "id": "46ecc326",
   "metadata": {
    "execution": {
     "iopub.execute_input": "2025-05-08T00:18:42.597166Z",
     "iopub.status.busy": "2025-05-08T00:18:42.596992Z",
     "iopub.status.idle": "2025-05-08T00:18:42.601212Z",
     "shell.execute_reply": "2025-05-08T00:18:42.600573Z"
    }
   },
   "outputs": [
    {
     "name": "stdout",
     "output_type": "stream",
     "text": [
      "Pearson Correlation: 0.186, p-value: 0.005\n"
     ]
    }
   ],
   "source": [
    "pearson_corr, pearson_p = stats.pearsonr(pheno_valid_clean['ADOS_CSS_proxy_fully'], pheno_valid_clean['p_ASD'])\n",
    "print(f\"Pearson Correlation: {pearson_corr:.3f}, p-value: {pearson_p:.3f}\")"
   ]
  },
  {
   "cell_type": "code",
   "execution_count": 10,
   "id": "35fa0489",
   "metadata": {
    "execution": {
     "iopub.execute_input": "2025-05-08T00:18:42.603379Z",
     "iopub.status.busy": "2025-05-08T00:18:42.603218Z",
     "iopub.status.idle": "2025-05-08T00:18:42.609225Z",
     "shell.execute_reply": "2025-05-08T00:18:42.608534Z"
    }
   },
   "outputs": [
    {
     "name": "stdout",
     "output_type": "stream",
     "text": [
      "HPS + Autism Pearson Correlation: -0.194, p-value: 0.617\n"
     ]
    }
   ],
   "source": [
    "hps_asd_data = pheno_valid.iloc[hps_asd_idx]\n",
    "hps_asd_data_clean = hps_asd_data.dropna(subset=['ADOS_CSS_proxy_fully', 'p_ASD'])\n",
    "hps_asd_pearson_corr, hps_asd_pearson_p = stats.pearsonr(hps_asd_data_clean['ADOS_CSS_proxy_fully'], hps_asd_data_clean['p_ASD'])\n",
    "print(f\"HPS + Autism Pearson Correlation: {hps_asd_pearson_corr:.3f}, p-value: {hps_asd_pearson_p:.3f}\")"
   ]
  },
  {
   "cell_type": "code",
   "execution_count": null,
   "id": "5b7bae36",
   "metadata": {},
   "outputs": [],
   "source": []
  }
 ],
 "metadata": {
  "kernelspec": {
   "display_name": "Python 3 (ipykernel)",
   "language": "python",
   "name": "python3"
  },
  "language_info": {
   "codemirror_mode": {
    "name": "ipython",
    "version": 3
   },
   "file_extension": ".py",
   "mimetype": "text/x-python",
   "name": "python",
   "nbconvert_exporter": "python",
   "pygments_lexer": "ipython3",
   "version": "3.12.3"
  }
 },
 "nbformat": 4,
 "nbformat_minor": 5
}
