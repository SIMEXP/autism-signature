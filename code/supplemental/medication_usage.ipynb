{
 "cells": [
  {
   "cell_type": "markdown",
   "metadata": {},
   "source": [
    "# Investigate medication usage"
   ]
  },
  {
   "cell_type": "code",
   "execution_count": 1,
   "metadata": {
    "execution": {
     "iopub.execute_input": "2025-05-08T00:18:45.261256Z",
     "iopub.status.busy": "2025-05-08T00:18:45.260953Z",
     "iopub.status.idle": "2025-05-08T00:18:45.910681Z",
     "shell.execute_reply": "2025-05-08T00:18:45.909895Z"
    }
   },
   "outputs": [],
   "source": [
    "import pandas as pd\n",
    "import numpy as np\n",
    "import scipy.stats as stats\n",
    "\n",
    "from pathlib import Path"
   ]
  },
  {
   "cell_type": "code",
   "execution_count": 2,
   "metadata": {
    "execution": {
     "iopub.execute_input": "2025-05-08T00:18:45.913624Z",
     "iopub.status.busy": "2025-05-08T00:18:45.913380Z",
     "iopub.status.idle": "2025-05-08T00:18:45.917297Z",
     "shell.execute_reply": "2025-05-08T00:18:45.916661Z"
    }
   },
   "outputs": [],
   "source": [
    "# 📁 Base path = where this notebook lives\n",
    "root_p = Path().resolve()\n",
    "\n",
    "# 📂 Input paths\n",
    "validation_p = root_p / '../../output_data/Results/Validation'\n",
    "data_p = root_p / '../../source_data/Data'\n",
    "\n",
    "model1_p = validation_p / 'validation_net_split_1_model_1_combined_p_values.tsv'\n",
    "pheno_valid_p = data_p / 'ABIDE_2_Pheno_PSM_matched_ados.tsv'\n",
    "\n",
    "# 📂 Output paths\n",
    "fig_p = root_p / '../../output_data/Supplemental/medication_usage'\n",
    "fig_p.mkdir(parents=True, exist_ok=True)"
   ]
  },
  {
   "cell_type": "markdown",
   "metadata": {},
   "source": [
    "## Load and preparation"
   ]
  },
  {
   "cell_type": "code",
   "execution_count": 3,
   "metadata": {
    "execution": {
     "iopub.execute_input": "2025-05-08T00:18:45.919653Z",
     "iopub.status.busy": "2025-05-08T00:18:45.919492Z",
     "iopub.status.idle": "2025-05-08T00:18:45.945357Z",
     "shell.execute_reply": "2025-05-08T00:18:45.944645Z"
    }
   },
   "outputs": [],
   "source": [
    "pheno_valid = pd.read_csv(pheno_valid_p, sep='\\t')\n",
    "model1 = pd.read_csv(model1_p, sep='\\t')\n",
    "model1.rename(columns={'V1': 'p_ASD', 'V2': 'p_TDC'}, inplace=True)"
   ]
  },
  {
   "cell_type": "code",
   "execution_count": 4,
   "metadata": {
    "execution": {
     "iopub.execute_input": "2025-05-08T00:18:45.947842Z",
     "iopub.status.busy": "2025-05-08T00:18:45.947670Z",
     "iopub.status.idle": "2025-05-08T00:18:45.952637Z",
     "shell.execute_reply": "2025-05-08T00:18:45.951999Z"
    }
   },
   "outputs": [],
   "source": [
    "pheno_valid.loc[:, 'is_hps'] = ((model1.p_ASD>0.2) & (model1.p_TDC<=0.2)).values\n",
    "pheno_valid.loc[:, 'p_ASD'] = model1.loc[:, 'p_ASD'].values\n",
    "pheno_valid.loc[:, 'p_TDC'] = model1.loc[:, 'p_TDC'].values"
   ]
  },
  {
   "cell_type": "code",
   "execution_count": 5,
   "metadata": {
    "execution": {
     "iopub.execute_input": "2025-05-08T00:18:45.954874Z",
     "iopub.status.busy": "2025-05-08T00:18:45.954518Z",
     "iopub.status.idle": "2025-05-08T00:18:45.958894Z",
     "shell.execute_reply": "2025-05-08T00:18:45.958258Z"
    }
   },
   "outputs": [],
   "source": [
    "# Compute actual indices to avoid trusting the DF indices\n",
    "hps_idx = np.where(pheno_valid.is_hps)[0]\n",
    "non_hps_idx = np.where(~pheno_valid.is_hps)\n",
    "hps_asd_idx = np.where((pheno_valid.is_hps) & (pheno_valid.DX_GROUP=='Autism'))[0]\n",
    "non_hps_asd_idx = np.where((~pheno_valid.is_hps) & (pheno_valid.DX_GROUP=='Autism'))[0]"
   ]
  },
  {
   "cell_type": "markdown",
   "metadata": {},
   "source": [
    "## Calculate proportion of ASD taking medication, for those identified by HRS and those not"
   ]
  },
  {
   "cell_type": "code",
   "execution_count": 6,
   "metadata": {
    "execution": {
     "iopub.execute_input": "2025-05-08T00:18:45.961189Z",
     "iopub.status.busy": "2025-05-08T00:18:45.961020Z",
     "iopub.status.idle": "2025-05-08T00:18:45.967496Z",
     "shell.execute_reply": "2025-05-08T00:18:45.966848Z"
    }
   },
   "outputs": [
    {
     "data": {
      "text/plain": [
       "9"
      ]
     },
     "execution_count": 6,
     "metadata": {},
     "output_type": "execute_result"
    }
   ],
   "source": [
    "hps_asd_df = pheno_valid.iloc[hps_asd_idx]\n",
    "len(hps_asd_df)"
   ]
  },
  {
   "cell_type": "code",
   "execution_count": 7,
   "metadata": {
    "execution": {
     "iopub.execute_input": "2025-05-08T00:18:46.023684Z",
     "iopub.status.busy": "2025-05-08T00:18:46.023514Z",
     "iopub.status.idle": "2025-05-08T00:18:46.029215Z",
     "shell.execute_reply": "2025-05-08T00:18:46.028524Z"
    }
   },
   "outputs": [
    {
     "data": {
      "text/plain": [
       "54                      ibuprofen; naproxen\n",
       "322    dextroamphetamine; divalproex sodium\n",
       "330                sertraline; lansoprazole\n",
       "363                         methylphenidate\n",
       "Name: CURRENT_MEDICATION_NAME, dtype: object"
      ]
     },
     "execution_count": 7,
     "metadata": {},
     "output_type": "execute_result"
    }
   ],
   "source": [
    "hps_asd_df[hps_asd_df.CURRENT_MED_STATUS == 'taking medication']['CURRENT_MEDICATION_NAME']"
   ]
  },
  {
   "cell_type": "code",
   "execution_count": 8,
   "metadata": {
    "execution": {
     "iopub.execute_input": "2025-05-08T00:18:46.031401Z",
     "iopub.status.busy": "2025-05-08T00:18:46.030936Z",
     "iopub.status.idle": "2025-05-08T00:18:46.036391Z",
     "shell.execute_reply": "2025-05-08T00:18:46.035788Z"
    }
   },
   "outputs": [
    {
     "data": {
      "text/plain": [
       "203"
      ]
     },
     "execution_count": 8,
     "metadata": {},
     "output_type": "execute_result"
    }
   ],
   "source": [
    "non_hps_asd_df = pheno_valid.iloc[non_hps_asd_idx]\n",
    "len(non_hps_asd_df)"
   ]
  },
  {
   "cell_type": "code",
   "execution_count": 9,
   "metadata": {
    "execution": {
     "iopub.execute_input": "2025-05-08T00:18:46.038427Z",
     "iopub.status.busy": "2025-05-08T00:18:46.038173Z",
     "iopub.status.idle": "2025-05-08T00:18:46.045314Z",
     "shell.execute_reply": "2025-05-08T00:18:46.044709Z"
    }
   },
   "outputs": [
    {
     "data": {
      "text/plain": [
       "2                            aripiprazole; clomipramine \n",
       "4      aripiprazole; methylphenidate; lorazepam; meth...\n",
       "31               methyphenidate; multivitamins; omega 3 \n",
       "32                           lisdexamfetamine dimesylate\n",
       "34                               atomoxetine; loratadine\n",
       "35                      methylphenidate extended release\n",
       "41                                           atomoxetine\n",
       "44                               somatropin; atomoxetine\n",
       "50                      methylphenidate extended release\n",
       "55           cetirizine hydrochlorid; montelukast sodium\n",
       "57     fluoxetine; iron supplement; multivitamin; flu...\n",
       "58                                fluticasone propionate\n",
       "59                      multivitamin; omega 3 supplement\n",
       "62                      methylphenidate extended release\n",
       "64     methylphenidate extended release; multivitamin...\n",
       "77     methylphenidate hydrochloride; citalopram hydr...\n",
       "79     amphetamine and dextroamphetamine salts; sertr...\n",
       "80                                           simvastatin\n",
       "83             ziprasidone; guanfacine extended release \n",
       "86               lisdexamfetamine dimesylate; guanfacine\n",
       "95     valproic acid; methylphenidate extended releas...\n",
       "102                                         escitalopram\n",
       "105    amphetamine and dextroamphetamine mixed salt e...\n",
       "122                                   dexmethylphenidate\n",
       "146                                           citalopram\n",
       "148                           buproprion; valproic acid \n",
       "150                                           buproprion\n",
       "154                                          citalopram \n",
       "211                                   dexmethylphenidate\n",
       "222                                           melatonin \n",
       "226                       dexmethylphenidate; guanfacine\n",
       "231                                            bupropion\n",
       "237    clonidine; guanfacine; fluoxetine; buspirone; ...\n",
       "267                                          risperidone\n",
       "268                                         aripiprazole\n",
       "269                               sertraline; sertraline\n",
       "270                                          fluoxetine \n",
       "272                    methylphenidate extended release \n",
       "295                                   dexmehtylphenidate\n",
       "297    dextroamphetamine; amphetamine and dextroamphe...\n",
       "303    methylphenidate; methylphenidate extended rele...\n",
       "324                                           mesalamine\n",
       "326                                            trazodone\n",
       "327                           diphenhydramine; melatonin\n",
       "331    fluoxetine; cetirizine HCL; diphenhydramine; m...\n",
       "366                                           guanfacine\n",
       "368                     methylphenidate extended release\n",
       "370    guanfacine; atomoxetine; oxcarbazepine; aripip...\n",
       "378                    bupropion; topiramate; citalopram\n",
       "379                                          atomoxetine\n",
       "388                                            melatonin\n",
       "398                                  ibuprofen; fluoride\n",
       "400                     sertraline; buspirone; lorazepam\n",
       "Name: CURRENT_MEDICATION_NAME, dtype: object"
      ]
     },
     "execution_count": 9,
     "metadata": {},
     "output_type": "execute_result"
    }
   ],
   "source": [
    "non_hps_asd_df[non_hps_asd_df.CURRENT_MED_STATUS == 'taking medication']['CURRENT_MEDICATION_NAME']"
   ]
  },
  {
   "cell_type": "markdown",
   "metadata": {},
   "source": [
    "## Conduct Fisher's exact test to compare proportions between groups"
   ]
  },
  {
   "cell_type": "code",
   "execution_count": 10,
   "metadata": {
    "execution": {
     "iopub.execute_input": "2025-05-08T00:18:46.047468Z",
     "iopub.status.busy": "2025-05-08T00:18:46.047027Z",
     "iopub.status.idle": "2025-05-08T00:18:46.051141Z",
     "shell.execute_reply": "2025-05-08T00:18:46.050539Z"
    }
   },
   "outputs": [],
   "source": [
    "# Count individuals taking medication\n",
    "n_hps_asd_med = np.where(hps_asd_df['CURRENT_MED_STATUS'] == 'taking medication')[0].size\n",
    "n_non_hps_asd_med = np.where(non_hps_asd_df['CURRENT_MED_STATUS'] == 'taking medication')[0].size"
   ]
  },
  {
   "cell_type": "code",
   "execution_count": 11,
   "metadata": {
    "execution": {
     "iopub.execute_input": "2025-05-08T00:18:46.053344Z",
     "iopub.status.busy": "2025-05-08T00:18:46.052858Z",
     "iopub.status.idle": "2025-05-08T00:18:46.056396Z",
     "shell.execute_reply": "2025-05-08T00:18:46.055700Z"
    }
   },
   "outputs": [],
   "source": [
    "# Count individuals not taking medication\n",
    "n_hps_asd_no_med = len(hps_asd_df) - n_hps_asd_med\n",
    "n_non_hps_asd_no_med = len(non_hps_asd_df) - n_non_hps_asd_med"
   ]
  },
  {
   "cell_type": "code",
   "execution_count": 12,
   "metadata": {
    "execution": {
     "iopub.execute_input": "2025-05-08T00:18:46.058477Z",
     "iopub.status.busy": "2025-05-08T00:18:46.058231Z",
     "iopub.status.idle": "2025-05-08T00:18:46.061652Z",
     "shell.execute_reply": "2025-05-08T00:18:46.061042Z"
    }
   },
   "outputs": [],
   "source": [
    "# Construct the contingency table\n",
    "contingency_table = np.array([[n_hps_asd_med, n_hps_asd_no_med],\n",
    "                              [n_non_hps_asd_med, n_non_hps_asd_no_med]])"
   ]
  },
  {
   "cell_type": "code",
   "execution_count": 13,
   "metadata": {
    "execution": {
     "iopub.execute_input": "2025-05-08T00:18:46.063930Z",
     "iopub.status.busy": "2025-05-08T00:18:46.063474Z",
     "iopub.status.idle": "2025-05-08T00:18:46.068256Z",
     "shell.execute_reply": "2025-05-08T00:18:46.067623Z"
    }
   },
   "outputs": [
    {
     "data": {
      "text/plain": [
       "array([[  4,   5],\n",
       "       [ 53, 150]])"
      ]
     },
     "execution_count": 13,
     "metadata": {},
     "output_type": "execute_result"
    }
   ],
   "source": [
    "contingency_table"
   ]
  },
  {
   "cell_type": "code",
   "execution_count": 14,
   "metadata": {
    "execution": {
     "iopub.execute_input": "2025-05-08T00:18:46.070440Z",
     "iopub.status.busy": "2025-05-08T00:18:46.070195Z",
     "iopub.status.idle": "2025-05-08T00:18:46.075114Z",
     "shell.execute_reply": "2025-05-08T00:18:46.074490Z"
    }
   },
   "outputs": [],
   "source": [
    "result = stats.fisher_exact(contingency_table)"
   ]
  },
  {
   "cell_type": "code",
   "execution_count": 15,
   "metadata": {
    "execution": {
     "iopub.execute_input": "2025-05-08T00:18:46.077335Z",
     "iopub.status.busy": "2025-05-08T00:18:46.076884Z",
     "iopub.status.idle": "2025-05-08T00:18:46.081596Z",
     "shell.execute_reply": "2025-05-08T00:18:46.080959Z"
    }
   },
   "outputs": [
    {
     "data": {
      "text/plain": [
       "np.float64(0.2544348696197456)"
      ]
     },
     "execution_count": 15,
     "metadata": {},
     "output_type": "execute_result"
    }
   ],
   "source": [
    "result.pvalue"
   ]
  }
 ],
 "metadata": {
  "kernelspec": {
   "display_name": "Python 3 (ipykernel)",
   "language": "python",
   "name": "python3"
  },
  "language_info": {
   "codemirror_mode": {
    "name": "ipython",
    "version": 3
   },
   "file_extension": ".py",
   "mimetype": "text/x-python",
   "name": "python",
   "nbconvert_exporter": "python",
   "pygments_lexer": "ipython3",
   "version": "3.12.3"
  }
 },
 "nbformat": 4,
 "nbformat_minor": 4
}
