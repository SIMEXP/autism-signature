{
 "cells": [
  {
   "cell_type": "markdown",
   "metadata": {},
   "source": [
    "# Convert calibrated ADOS severity scores\n",
    "\n",
    "1. Encode the conversion tables \n",
    "2. Convert the total, social-affect, and repetitive behavior severity estimates"
   ]
  },
  {
   "cell_type": "code",
   "execution_count": 1,
   "metadata": {
    "execution": {
     "iopub.execute_input": "2025-05-08T00:18:34.462703Z",
     "iopub.status.busy": "2025-05-08T00:18:34.462542Z",
     "iopub.status.idle": "2025-05-08T00:18:35.078984Z",
     "shell.execute_reply": "2025-05-08T00:18:35.078284Z"
    }
   },
   "outputs": [],
   "source": [
    "import numpy as np\n",
    "import pandas as pd\n",
    "import pathlib as pal\n",
    "\n",
    "from scipy.stats import pearsonr"
   ]
  },
  {
   "cell_type": "code",
   "execution_count": 2,
   "metadata": {
    "execution": {
     "iopub.execute_input": "2025-05-08T00:18:35.081747Z",
     "iopub.status.busy": "2025-05-08T00:18:35.081523Z",
     "iopub.status.idle": "2025-05-08T00:18:35.085625Z",
     "shell.execute_reply": "2025-05-08T00:18:35.085061Z"
    }
   },
   "outputs": [],
   "source": [
    "# 📁 Base path = where this notebook lives\n",
    "root_p = pal.Path().resolve()\n",
    "\n",
    "# 📂 Input paths\n",
    "data_p = root_p / '../../source_data/Data'\n",
    "pheno_1_p = data_p / 'ABIDE1_Pheno_PSM_matched.tsv'\n",
    "pheno_2_p = data_p / 'ABIDE2_Pheno_PSM_matched.tsv'\n",
    "sev_css_p = data_p / 'Severity_LUT.txt'\n",
    "sa_css_p = data_p / 'SA_CSS_LUT.txt'\n",
    "rbb_css_p = data_p / 'RRB_CSS_LUT.txt'\n",
    "\n",
    "# 📂 Output paths\n",
    "fig_p = root_p / '../../output_data/Supplemental/convert_ados'\n",
    "fig_p.mkdir(parents=True, exist_ok=True)\n",
    "pheno_1_out_p = fig_p / 'ABIDE_1_Pheno_PSM_matched_ados.tsv'\n",
    "pheno_2_out_p = fig_p / 'ABIDE_2_Pheno_PSM_matched_ados.tsv'"
   ]
  },
  {
   "cell_type": "code",
   "execution_count": 3,
   "metadata": {
    "execution": {
     "iopub.execute_input": "2025-05-08T00:18:35.087728Z",
     "iopub.status.busy": "2025-05-08T00:18:35.087568Z",
     "iopub.status.idle": "2025-05-08T00:18:35.127575Z",
     "shell.execute_reply": "2025-05-08T00:18:35.126875Z"
    }
   },
   "outputs": [],
   "source": [
    "pheno_1 = pd.read_csv(pheno_1_p, sep='\\t')\n",
    "pheno_2 = pd.read_csv(pheno_2_p, sep='\\t')\n",
    "\n",
    "sev = pd.read_csv(sev_css_p, sep='\\t', header=None)\n",
    "sev.rename(columns={0:'css', 1:'module'}, inplace=True)\n",
    "sev[['age_min', 'age_max']] = sev[2].str.split(':', n=1, expand=True)\n",
    "sev[['val_min', 'val_max']] = sev[3].str.split(':', n=1, expand=True)\n",
    "sev = sev[['css', 'module', 'age_min', 'age_max', 'val_min', 'val_max']]\n",
    "\n",
    "sa = pd.read_csv(sa_css_p, sep='\\t', header=None)\n",
    "sa.rename(columns={0:'css', 1:'module'}, inplace=True)\n",
    "sa[['age_min', 'age_max']] = sa[2].str.split(':', n=1, expand=True)\n",
    "sa[['val_min', 'val_max']] = sa[3].str.split(':', n=1, expand=True)\n",
    "sa = sa[['css', 'module', 'age_min', 'age_max', 'val_min', 'val_max']]\n",
    "\n",
    "rbb = pd.read_csv(rbb_css_p, sep='\\t', header=None)\n",
    "rbb.rename(columns={0:'css', 1:'module'}, inplace=True)\n",
    "rbb[['age_min', 'age_max']] = rbb[2].str.split(':', n=1, expand=True)\n",
    "rbb[['val_min', 'val_max']] = rbb[3].str.split(':', n=1, expand=True)\n",
    "rbb = rbb[['css', 'module', 'age_min', 'age_max', 'val_min', 'val_max']]"
   ]
  },
  {
   "cell_type": "code",
   "execution_count": 4,
   "metadata": {
    "execution": {
     "iopub.execute_input": "2025-05-08T00:18:35.129798Z",
     "iopub.status.busy": "2025-05-08T00:18:35.129632Z",
     "iopub.status.idle": "2025-05-08T00:18:35.133666Z",
     "shell.execute_reply": "2025-05-08T00:18:35.132986Z"
    }
   },
   "outputs": [],
   "source": [
    "# Get an approximate SA score by adding Social and communicative together\n",
    "pheno_1['ADOS_SA_approximated'] = pheno_1['ADOS_SOCIAL'] + pheno_1['ADOS_COMM']\n",
    "pheno_2['ADOS_SA_approximated'] = pheno_2['ADOS_G_SOCIAL'] + pheno_2['ADOS_G_COMM']"
   ]
  },
  {
   "cell_type": "code",
   "execution_count": 5,
   "metadata": {
    "execution": {
     "iopub.execute_input": "2025-05-08T00:18:35.135946Z",
     "iopub.status.busy": "2025-05-08T00:18:35.135756Z",
     "iopub.status.idle": "2025-05-08T00:18:35.142449Z",
     "shell.execute_reply": "2025-05-08T00:18:35.141594Z"
    }
   },
   "outputs": [],
   "source": [
    "def lookup(pheno, table, col='ADOS_TOTAL', col_alt=None):\n",
    "    css = list()\n",
    "    use_col = col\n",
    "    for rid, row in pheno.iterrows():\n",
    "        # Make a switch to use the alternative column if the first fails\n",
    "        if col_alt is not None:\n",
    "            if np.isnan(row[col]) and not np.isnan(row[col_alt]):\n",
    "                use_col = col_alt\n",
    "            else:\n",
    "                use_col = col\n",
    "        if not np.isnan(row[use_col]) and not np.isnan(row['ADOS_MODULE']):\n",
    "            # Look up the score\n",
    "            age = np.round(row['AGE_AT_SCAN'])\n",
    "            module = row['ADOS_MODULE']\n",
    "            value = row[use_col]\n",
    "            # Check if the age is appropriate for the module\n",
    "            ind_module = (table['module']==module).values\n",
    "            age_max = np.max(table[ind_module]['age_max'].astype(float).values)\n",
    "            age_min = np.min(table[ind_module]['age_min'].astype(float).values)\n",
    "            if age>age_max:\n",
    "                # This person got the wrong module\n",
    "                # See if it is module 4\n",
    "                if module==4:\n",
    "                    # Fine, just take whatever is the max age, they are old anyway\n",
    "                    #print('{} >>>> {} in module {}'.format(age, age_max, module))\n",
    "                    age = age_max\n",
    "                # Otherwise see if it is within 2 years of the max\n",
    "                elif age-age_max < 3:\n",
    "                    #print('{} >>>> {} in module {}'.format(age, age_max, module))\n",
    "                    age = age_max\n",
    "                else:\n",
    "                    # Do nothing\n",
    "                    pass\n",
    "            elif age<age_min:\n",
    "                print('!!!!!oh oh!!!!')\n",
    "            # Find the correct element\n",
    "            ind = ((table['module']==module).values & \n",
    "                   (table['age_min'].astype(float)<= age).values & \n",
    "                   (table['age_max'].astype(float)>= age).values &\n",
    "                   (table['val_min'].astype(float)<= value).values &\n",
    "                   (table['val_max'].astype(float)>= value).values)\n",
    "            val = table[ind]['css'].values\n",
    "            # See if we actually found anything\n",
    "            if val.size == 0:\n",
    "                #print('    Out with you!')\n",
    "                #print('   ', age, age_max, module, value)\n",
    "                css.append(None)\n",
    "            else:\n",
    "                css.append(val[0])\n",
    "        else:\n",
    "            css.append(None)\n",
    "    return css"
   ]
  },
  {
   "cell_type": "markdown",
   "metadata": {},
   "source": [
    "## Availability"
   ]
  },
  {
   "cell_type": "code",
   "execution_count": 6,
   "metadata": {
    "execution": {
     "iopub.execute_input": "2025-05-08T00:18:35.145283Z",
     "iopub.status.busy": "2025-05-08T00:18:35.144815Z",
     "iopub.status.idle": "2025-05-08T00:18:35.161974Z",
     "shell.execute_reply": "2025-05-08T00:18:35.161314Z"
    }
   },
   "outputs": [
    {
     "data": {
      "text/plain": [
       "DX_GROUP\n",
       "Autism     196\n",
       "Control     32\n",
       "Name: count, dtype: int64"
      ]
     },
     "execution_count": 6,
     "metadata": {},
     "output_type": "execute_result"
    }
   ],
   "source": [
    "pheno_1.query('not ADOS_TOTAL.isnull() or not ADOS_GOTHAM_TOTAL.isnull()')['DX_GROUP'].value_counts()"
   ]
  },
  {
   "cell_type": "code",
   "execution_count": 7,
   "metadata": {
    "execution": {
     "iopub.execute_input": "2025-05-08T00:18:35.214517Z",
     "iopub.status.busy": "2025-05-08T00:18:35.214248Z",
     "iopub.status.idle": "2025-05-08T00:18:35.229257Z",
     "shell.execute_reply": "2025-05-08T00:18:35.228646Z"
    }
   },
   "outputs": [
    {
     "data": {
      "text/plain": [
       "DX_GROUP\n",
       "Autism     91\n",
       "Control    16\n",
       "Name: count, dtype: int64"
      ]
     },
     "execution_count": 7,
     "metadata": {},
     "output_type": "execute_result"
    }
   ],
   "source": [
    "pheno_1.query('not ADOS_GOTHAM_SEVERITY.isnull()')['DX_GROUP'].value_counts()"
   ]
  },
  {
   "cell_type": "code",
   "execution_count": 8,
   "metadata": {
    "execution": {
     "iopub.execute_input": "2025-05-08T00:18:35.231061Z",
     "iopub.status.busy": "2025-05-08T00:18:35.230611Z",
     "iopub.status.idle": "2025-05-08T00:18:35.273564Z",
     "shell.execute_reply": "2025-05-08T00:18:35.272833Z"
    }
   },
   "outputs": [
    {
     "data": {
      "text/plain": [
       "DX_GROUP\n",
       "Autism     209\n",
       "Control     17\n",
       "Name: count, dtype: int64"
      ]
     },
     "execution_count": 8,
     "metadata": {},
     "output_type": "execute_result"
    }
   ],
   "source": [
    "pheno_2.query('not ADOS_G_TOTAL.isnull() or not ADOS_2_TOTAL.isnull()')['DX_GROUP'].value_counts()"
   ]
  },
  {
   "cell_type": "code",
   "execution_count": 9,
   "metadata": {
    "execution": {
     "iopub.execute_input": "2025-05-08T00:18:35.275690Z",
     "iopub.status.busy": "2025-05-08T00:18:35.275529Z",
     "iopub.status.idle": "2025-05-08T00:18:35.317311Z",
     "shell.execute_reply": "2025-05-08T00:18:35.316681Z"
    }
   },
   "outputs": [
    {
     "data": {
      "text/plain": [
       "DX_GROUP\n",
       "Autism    115\n",
       "Name: count, dtype: int64"
      ]
     },
     "execution_count": 9,
     "metadata": {},
     "output_type": "execute_result"
    }
   ],
   "source": [
    "pheno_2.query('not ADOS_2_SEVERITY_TOTAL.isnull()')['DX_GROUP'].value_counts()"
   ]
  },
  {
   "cell_type": "markdown",
   "metadata": {},
   "source": [
    "## Total scores"
   ]
  },
  {
   "cell_type": "code",
   "execution_count": 10,
   "metadata": {
    "execution": {
     "iopub.execute_input": "2025-05-08T00:18:35.319577Z",
     "iopub.status.busy": "2025-05-08T00:18:35.319409Z",
     "iopub.status.idle": "2025-05-08T00:18:36.347804Z",
     "shell.execute_reply": "2025-05-08T00:18:36.347174Z"
    }
   },
   "outputs": [],
   "source": [
    "pheno_1['ADOS_CSS_proxy'] = lookup(pheno_1, sev, col='ADOS_TOTAL')\n",
    "pheno_1['ADOS_CSS_proxy_fully'] = lookup(pheno_1, sev, col='ADOS_TOTAL', col_alt='ADOS_GOTHAM_TOTAL')\n",
    "pheno_2['ADOS_CSS_proxy'] = lookup(pheno_2, sev, col='ADOS_G_TOTAL')\n",
    "pheno_2['ADOS_CSS_proxy_fully'] = lookup(pheno_2, sev, col='ADOS_G_TOTAL', col_alt='ADOS_2_TOTAL')"
   ]
  },
  {
   "cell_type": "code",
   "execution_count": 11,
   "metadata": {
    "execution": {
     "iopub.execute_input": "2025-05-08T00:18:36.350370Z",
     "iopub.status.busy": "2025-05-08T00:18:36.350182Z",
     "iopub.status.idle": "2025-05-08T00:18:36.365426Z",
     "shell.execute_reply": "2025-05-08T00:18:36.364817Z"
    }
   },
   "outputs": [
    {
     "data": {
      "text/plain": [
       "DX_GROUP\n",
       "Autism     190\n",
       "Control     31\n",
       "Name: count, dtype: int64"
      ]
     },
     "execution_count": 11,
     "metadata": {},
     "output_type": "execute_result"
    }
   ],
   "source": [
    "pheno_1.query('not ADOS_CSS_proxy_fully.isnull()')['DX_GROUP'].value_counts()"
   ]
  },
  {
   "cell_type": "code",
   "execution_count": 12,
   "metadata": {
    "execution": {
     "iopub.execute_input": "2025-05-08T00:18:36.367431Z",
     "iopub.status.busy": "2025-05-08T00:18:36.367267Z",
     "iopub.status.idle": "2025-05-08T00:18:36.409352Z",
     "shell.execute_reply": "2025-05-08T00:18:36.408747Z"
    }
   },
   "outputs": [
    {
     "data": {
      "text/plain": [
       "DX_GROUP\n",
       "Autism     207\n",
       "Control     16\n",
       "Name: count, dtype: int64"
      ]
     },
     "execution_count": 12,
     "metadata": {},
     "output_type": "execute_result"
    }
   ],
   "source": [
    "pheno_2.query('not ADOS_CSS_proxy_fully.isnull()')['DX_GROUP'].value_counts()"
   ]
  },
  {
   "cell_type": "code",
   "execution_count": 13,
   "metadata": {
    "execution": {
     "iopub.execute_input": "2025-05-08T00:18:36.411491Z",
     "iopub.status.busy": "2025-05-08T00:18:36.411323Z",
     "iopub.status.idle": "2025-05-08T00:18:36.429139Z",
     "shell.execute_reply": "2025-05-08T00:18:36.428514Z"
    }
   },
   "outputs": [
    {
     "data": {
      "text/html": [
       "<div>\n",
       "<style scoped>\n",
       "    .dataframe tbody tr th:only-of-type {\n",
       "        vertical-align: middle;\n",
       "    }\n",
       "\n",
       "    .dataframe tbody tr th {\n",
       "        vertical-align: top;\n",
       "    }\n",
       "\n",
       "    .dataframe thead th {\n",
       "        text-align: right;\n",
       "    }\n",
       "</style>\n",
       "<table border=\"1\" class=\"dataframe\">\n",
       "  <thead>\n",
       "    <tr style=\"text-align: right;\">\n",
       "      <th></th>\n",
       "      <th>ADOS_TOTAL</th>\n",
       "      <th>ADOS_GOTHAM_TOTAL</th>\n",
       "    </tr>\n",
       "  </thead>\n",
       "  <tbody>\n",
       "    <tr>\n",
       "      <th>ADOS_TOTAL</th>\n",
       "      <td>1.000000</td>\n",
       "      <td>0.919886</td>\n",
       "    </tr>\n",
       "    <tr>\n",
       "      <th>ADOS_GOTHAM_TOTAL</th>\n",
       "      <td>0.919886</td>\n",
       "      <td>1.000000</td>\n",
       "    </tr>\n",
       "  </tbody>\n",
       "</table>\n",
       "</div>"
      ],
      "text/plain": [
       "                   ADOS_TOTAL  ADOS_GOTHAM_TOTAL\n",
       "ADOS_TOTAL           1.000000           0.919886\n",
       "ADOS_GOTHAM_TOTAL    0.919886           1.000000"
      ]
     },
     "execution_count": 13,
     "metadata": {},
     "output_type": "execute_result"
    }
   ],
   "source": [
    "pheno_1.query('not ADOS_TOTAL.isnull() and not ADOS_GOTHAM_TOTAL.isnull()')[['ADOS_TOTAL', 'ADOS_GOTHAM_TOTAL']].corr()"
   ]
  },
  {
   "cell_type": "code",
   "execution_count": 14,
   "metadata": {
    "execution": {
     "iopub.execute_input": "2025-05-08T00:18:36.430806Z",
     "iopub.status.busy": "2025-05-08T00:18:36.430650Z",
     "iopub.status.idle": "2025-05-08T00:18:36.473976Z",
     "shell.execute_reply": "2025-05-08T00:18:36.473371Z"
    }
   },
   "outputs": [
    {
     "data": {
      "text/html": [
       "<div>\n",
       "<style scoped>\n",
       "    .dataframe tbody tr th:only-of-type {\n",
       "        vertical-align: middle;\n",
       "    }\n",
       "\n",
       "    .dataframe tbody tr th {\n",
       "        vertical-align: top;\n",
       "    }\n",
       "\n",
       "    .dataframe thead th {\n",
       "        text-align: right;\n",
       "    }\n",
       "</style>\n",
       "<table border=\"1\" class=\"dataframe\">\n",
       "  <thead>\n",
       "    <tr style=\"text-align: right;\">\n",
       "      <th></th>\n",
       "      <th>ADOS_G_TOTAL</th>\n",
       "      <th>ADOS_2_TOTAL</th>\n",
       "    </tr>\n",
       "  </thead>\n",
       "  <tbody>\n",
       "    <tr>\n",
       "      <th>ADOS_G_TOTAL</th>\n",
       "      <td>1.000000</td>\n",
       "      <td>0.890681</td>\n",
       "    </tr>\n",
       "    <tr>\n",
       "      <th>ADOS_2_TOTAL</th>\n",
       "      <td>0.890681</td>\n",
       "      <td>1.000000</td>\n",
       "    </tr>\n",
       "  </tbody>\n",
       "</table>\n",
       "</div>"
      ],
      "text/plain": [
       "              ADOS_G_TOTAL  ADOS_2_TOTAL\n",
       "ADOS_G_TOTAL      1.000000      0.890681\n",
       "ADOS_2_TOTAL      0.890681      1.000000"
      ]
     },
     "execution_count": 14,
     "metadata": {},
     "output_type": "execute_result"
    }
   ],
   "source": [
    "pheno_2.query('not ADOS_G_TOTAL.isnull() and not ADOS_2_TOTAL.isnull()')[['ADOS_G_TOTAL', 'ADOS_2_TOTAL']].corr()"
   ]
  },
  {
   "cell_type": "code",
   "execution_count": 15,
   "metadata": {
    "execution": {
     "iopub.execute_input": "2025-05-08T00:18:36.475585Z",
     "iopub.status.busy": "2025-05-08T00:18:36.475431Z",
     "iopub.status.idle": "2025-05-08T00:18:36.545895Z",
     "shell.execute_reply": "2025-05-08T00:18:36.545322Z"
    }
   },
   "outputs": [
    {
     "data": {
      "text/html": [
       "<div>\n",
       "<style scoped>\n",
       "    .dataframe tbody tr th:only-of-type {\n",
       "        vertical-align: middle;\n",
       "    }\n",
       "\n",
       "    .dataframe tbody tr th {\n",
       "        vertical-align: top;\n",
       "    }\n",
       "\n",
       "    .dataframe thead th {\n",
       "        text-align: right;\n",
       "    }\n",
       "</style>\n",
       "<table border=\"1\" class=\"dataframe\">\n",
       "  <thead>\n",
       "    <tr style=\"text-align: right;\">\n",
       "      <th></th>\n",
       "      <th>ADOS_CSS_proxy_fully</th>\n",
       "      <th>ADOS_GOTHAM_SEVERITY</th>\n",
       "    </tr>\n",
       "  </thead>\n",
       "  <tbody>\n",
       "    <tr>\n",
       "      <th>ADOS_CSS_proxy_fully</th>\n",
       "      <td>1.00000</td>\n",
       "      <td>0.90092</td>\n",
       "    </tr>\n",
       "    <tr>\n",
       "      <th>ADOS_GOTHAM_SEVERITY</th>\n",
       "      <td>0.90092</td>\n",
       "      <td>1.00000</td>\n",
       "    </tr>\n",
       "  </tbody>\n",
       "</table>\n",
       "</div>"
      ],
      "text/plain": [
       "                      ADOS_CSS_proxy_fully  ADOS_GOTHAM_SEVERITY\n",
       "ADOS_CSS_proxy_fully               1.00000               0.90092\n",
       "ADOS_GOTHAM_SEVERITY               0.90092               1.00000"
      ]
     },
     "execution_count": 15,
     "metadata": {},
     "output_type": "execute_result"
    }
   ],
   "source": [
    "pheno_1.query('not ADOS_CSS_proxy_fully.isnull() and not ADOS_GOTHAM_SEVERITY.isnull()')[['ADOS_CSS_proxy_fully', 'ADOS_GOTHAM_SEVERITY']].corr()"
   ]
  },
  {
   "cell_type": "code",
   "execution_count": 16,
   "metadata": {
    "execution": {
     "iopub.execute_input": "2025-05-08T00:18:36.548009Z",
     "iopub.status.busy": "2025-05-08T00:18:36.547847Z",
     "iopub.status.idle": "2025-05-08T00:18:36.562518Z",
     "shell.execute_reply": "2025-05-08T00:18:36.561583Z"
    }
   },
   "outputs": [
    {
     "name": "stdout",
     "output_type": "stream",
     "text": [
      "P-value: 0.000\n"
     ]
    }
   ],
   "source": [
    "df = pheno_1.query('not ADOS_CSS_proxy_fully.isnull() and not ADOS_GOTHAM_SEVERITY.isnull()')\n",
    "corr, p_value = pearsonr(df['ADOS_CSS_proxy_fully'], df['ADOS_GOTHAM_SEVERITY'])\n",
    "print(f\"P-value: {p_value:.3f}\")"
   ]
  },
  {
   "cell_type": "code",
   "execution_count": 17,
   "metadata": {
    "execution": {
     "iopub.execute_input": "2025-05-08T00:18:36.564833Z",
     "iopub.status.busy": "2025-05-08T00:18:36.564675Z",
     "iopub.status.idle": "2025-05-08T00:18:36.608076Z",
     "shell.execute_reply": "2025-05-08T00:18:36.607511Z"
    }
   },
   "outputs": [
    {
     "data": {
      "text/html": [
       "<div>\n",
       "<style scoped>\n",
       "    .dataframe tbody tr th:only-of-type {\n",
       "        vertical-align: middle;\n",
       "    }\n",
       "\n",
       "    .dataframe tbody tr th {\n",
       "        vertical-align: top;\n",
       "    }\n",
       "\n",
       "    .dataframe thead th {\n",
       "        text-align: right;\n",
       "    }\n",
       "</style>\n",
       "<table border=\"1\" class=\"dataframe\">\n",
       "  <thead>\n",
       "    <tr style=\"text-align: right;\">\n",
       "      <th></th>\n",
       "      <th>ADOS_CSS_proxy_fully</th>\n",
       "      <th>ADOS_2_SEVERITY_TOTAL</th>\n",
       "    </tr>\n",
       "  </thead>\n",
       "  <tbody>\n",
       "    <tr>\n",
       "      <th>ADOS_CSS_proxy_fully</th>\n",
       "      <td>1.000000</td>\n",
       "      <td>0.939199</td>\n",
       "    </tr>\n",
       "    <tr>\n",
       "      <th>ADOS_2_SEVERITY_TOTAL</th>\n",
       "      <td>0.939199</td>\n",
       "      <td>1.000000</td>\n",
       "    </tr>\n",
       "  </tbody>\n",
       "</table>\n",
       "</div>"
      ],
      "text/plain": [
       "                       ADOS_CSS_proxy_fully  ADOS_2_SEVERITY_TOTAL\n",
       "ADOS_CSS_proxy_fully               1.000000               0.939199\n",
       "ADOS_2_SEVERITY_TOTAL              0.939199               1.000000"
      ]
     },
     "execution_count": 17,
     "metadata": {},
     "output_type": "execute_result"
    }
   ],
   "source": [
    "pheno_2.query('not ADOS_CSS_proxy_fully.isnull() and not ADOS_2_SEVERITY_TOTAL.isnull()')[['ADOS_CSS_proxy_fully', 'ADOS_2_SEVERITY_TOTAL']].corr()"
   ]
  },
  {
   "cell_type": "code",
   "execution_count": 18,
   "metadata": {
    "execution": {
     "iopub.execute_input": "2025-05-08T00:18:36.610074Z",
     "iopub.status.busy": "2025-05-08T00:18:36.609916Z",
     "iopub.status.idle": "2025-05-08T00:18:36.651422Z",
     "shell.execute_reply": "2025-05-08T00:18:36.650736Z"
    }
   },
   "outputs": [
    {
     "name": "stdout",
     "output_type": "stream",
     "text": [
      "P-value: 0.000\n"
     ]
    }
   ],
   "source": [
    "df = pheno_2.query('not ADOS_CSS_proxy_fully.isnull() and not ADOS_2_SEVERITY_TOTAL.isnull()')\n",
    "corr, p_value = pearsonr(df['ADOS_CSS_proxy_fully'], df['ADOS_2_SEVERITY_TOTAL'])\n",
    "print(f\"P-value: {p_value:.3f}\")"
   ]
  },
  {
   "cell_type": "code",
   "execution_count": 19,
   "metadata": {
    "execution": {
     "iopub.execute_input": "2025-05-08T00:18:36.653478Z",
     "iopub.status.busy": "2025-05-08T00:18:36.653317Z",
     "iopub.status.idle": "2025-05-08T00:18:36.657822Z",
     "shell.execute_reply": "2025-05-08T00:18:36.657257Z"
    }
   },
   "outputs": [],
   "source": [
    "# Combine the raw totals that were used to compute the CSS\n",
    "pheno_1['ADOS_RAW_TOTAL_combined'] = pheno_1['ADOS_TOTAL']\n",
    "pheno_1['ADOS_RAW_TOTAL_combined'] = pheno_1['ADOS_TOTAL'].fillna(pheno_1['ADOS_GOTHAM_TOTAL'])\n",
    "\n",
    "pheno_2['ADOS_RAW_TOTAL_combined'] = pheno_2['ADOS_G_TOTAL']\n",
    "pheno_2['ADOS_RAW_TOTAL_combined'] = pheno_2['ADOS_G_TOTAL'].fillna(pheno_2['ADOS_2_TOTAL'])"
   ]
  },
  {
   "cell_type": "markdown",
   "metadata": {},
   "source": [
    "## Social scores"
   ]
  },
  {
   "cell_type": "code",
   "execution_count": 20,
   "metadata": {
    "execution": {
     "iopub.execute_input": "2025-05-08T00:18:36.660149Z",
     "iopub.status.busy": "2025-05-08T00:18:36.659980Z",
     "iopub.status.idle": "2025-05-08T00:18:36.675783Z",
     "shell.execute_reply": "2025-05-08T00:18:36.675214Z"
    }
   },
   "outputs": [
    {
     "data": {
      "text/html": [
       "<div>\n",
       "<style scoped>\n",
       "    .dataframe tbody tr th:only-of-type {\n",
       "        vertical-align: middle;\n",
       "    }\n",
       "\n",
       "    .dataframe tbody tr th {\n",
       "        vertical-align: top;\n",
       "    }\n",
       "\n",
       "    .dataframe thead th {\n",
       "        text-align: right;\n",
       "    }\n",
       "</style>\n",
       "<table border=\"1\" class=\"dataframe\">\n",
       "  <thead>\n",
       "    <tr style=\"text-align: right;\">\n",
       "      <th></th>\n",
       "      <th>ADOS_SA_approximated</th>\n",
       "      <th>ADOS_GOTHAM_SOCAFFECT</th>\n",
       "    </tr>\n",
       "  </thead>\n",
       "  <tbody>\n",
       "    <tr>\n",
       "      <th>ADOS_SA_approximated</th>\n",
       "      <td>1.000000</td>\n",
       "      <td>0.931774</td>\n",
       "    </tr>\n",
       "    <tr>\n",
       "      <th>ADOS_GOTHAM_SOCAFFECT</th>\n",
       "      <td>0.931774</td>\n",
       "      <td>1.000000</td>\n",
       "    </tr>\n",
       "  </tbody>\n",
       "</table>\n",
       "</div>"
      ],
      "text/plain": [
       "                       ADOS_SA_approximated  ADOS_GOTHAM_SOCAFFECT\n",
       "ADOS_SA_approximated               1.000000               0.931774\n",
       "ADOS_GOTHAM_SOCAFFECT              0.931774               1.000000"
      ]
     },
     "execution_count": 20,
     "metadata": {},
     "output_type": "execute_result"
    }
   ],
   "source": [
    "pheno_1.query('not ADOS_SA_approximated.isnull() and not ADOS_GOTHAM_SOCAFFECT.isnull()')[['ADOS_SA_approximated', 'ADOS_GOTHAM_SOCAFFECT']].corr()"
   ]
  },
  {
   "cell_type": "code",
   "execution_count": 21,
   "metadata": {
    "execution": {
     "iopub.execute_input": "2025-05-08T00:18:36.677905Z",
     "iopub.status.busy": "2025-05-08T00:18:36.677743Z",
     "iopub.status.idle": "2025-05-08T00:18:36.720813Z",
     "shell.execute_reply": "2025-05-08T00:18:36.720237Z"
    }
   },
   "outputs": [
    {
     "data": {
      "text/html": [
       "<div>\n",
       "<style scoped>\n",
       "    .dataframe tbody tr th:only-of-type {\n",
       "        vertical-align: middle;\n",
       "    }\n",
       "\n",
       "    .dataframe tbody tr th {\n",
       "        vertical-align: top;\n",
       "    }\n",
       "\n",
       "    .dataframe thead th {\n",
       "        text-align: right;\n",
       "    }\n",
       "</style>\n",
       "<table border=\"1\" class=\"dataframe\">\n",
       "  <thead>\n",
       "    <tr style=\"text-align: right;\">\n",
       "      <th></th>\n",
       "      <th>ADOS_SA_approximated</th>\n",
       "      <th>ADOS_2_SOCAFFECT</th>\n",
       "    </tr>\n",
       "  </thead>\n",
       "  <tbody>\n",
       "    <tr>\n",
       "      <th>ADOS_SA_approximated</th>\n",
       "      <td>1.000000</td>\n",
       "      <td>0.949779</td>\n",
       "    </tr>\n",
       "    <tr>\n",
       "      <th>ADOS_2_SOCAFFECT</th>\n",
       "      <td>0.949779</td>\n",
       "      <td>1.000000</td>\n",
       "    </tr>\n",
       "  </tbody>\n",
       "</table>\n",
       "</div>"
      ],
      "text/plain": [
       "                      ADOS_SA_approximated  ADOS_2_SOCAFFECT\n",
       "ADOS_SA_approximated              1.000000          0.949779\n",
       "ADOS_2_SOCAFFECT                  0.949779          1.000000"
      ]
     },
     "execution_count": 21,
     "metadata": {},
     "output_type": "execute_result"
    }
   ],
   "source": [
    "pheno_2.query('not ADOS_SA_approximated.isnull() and not ADOS_2_SOCAFFECT.isnull()')[['ADOS_SA_approximated', 'ADOS_2_SOCAFFECT']].corr()"
   ]
  },
  {
   "cell_type": "code",
   "execution_count": 22,
   "metadata": {
    "execution": {
     "iopub.execute_input": "2025-05-08T00:18:36.722655Z",
     "iopub.status.busy": "2025-05-08T00:18:36.722498Z",
     "iopub.status.idle": "2025-05-08T00:18:37.695290Z",
     "shell.execute_reply": "2025-05-08T00:18:37.694592Z"
    }
   },
   "outputs": [],
   "source": [
    "pheno_1['ADOS_CSS_SA_proxy'] = lookup(pheno_1, sev, col='ADOS_SA_approximated')\n",
    "pheno_1['ADOS_CSS_SA_proxy_fully'] = lookup(pheno_1, sev, col='ADOS_SA_approximated', col_alt='ADOS_GOTHAM_SOCAFFECT')\n",
    "pheno_2['ADOS_CSS_SA_proxy'] = lookup(pheno_2, sev, col='ADOS_SA_approximated')\n",
    "pheno_2['ADOS_CSS_SA_proxy_fully'] = lookup(pheno_2, sev, col='ADOS_SA_approximated', col_alt='ADOS_2_SOCAFFECT')"
   ]
  },
  {
   "cell_type": "code",
   "execution_count": 23,
   "metadata": {
    "execution": {
     "iopub.execute_input": "2025-05-08T00:18:37.697386Z",
     "iopub.status.busy": "2025-05-08T00:18:37.697222Z",
     "iopub.status.idle": "2025-05-08T00:18:37.702016Z",
     "shell.execute_reply": "2025-05-08T00:18:37.701493Z"
    }
   },
   "outputs": [],
   "source": [
    "# Combine the raw totals that were used to compute the CSS SA\n",
    "pheno_1['ADOS_RAW_SA_combined'] = pheno_1['ADOS_SA_approximated']\n",
    "pheno_1['ADOS_RAW_SA_combined'] = pheno_1['ADOS_RAW_SA_combined'].fillna(pheno_1['ADOS_GOTHAM_SOCAFFECT'])\n",
    "\n",
    "pheno_2['ADOS_RAW_SA_combined'] = pheno_2['ADOS_SA_approximated']\n",
    "pheno_2['ADOS_RAW_SA_combined'] = pheno_2['ADOS_RAW_SA_combined'].fillna(pheno_2['ADOS_2_SOCAFFECT'])"
   ]
  },
  {
   "cell_type": "markdown",
   "metadata": {},
   "source": [
    "## RRB scores"
   ]
  },
  {
   "cell_type": "code",
   "execution_count": 24,
   "metadata": {
    "execution": {
     "iopub.execute_input": "2025-05-08T00:18:37.704380Z",
     "iopub.status.busy": "2025-05-08T00:18:37.704214Z",
     "iopub.status.idle": "2025-05-08T00:18:37.721283Z",
     "shell.execute_reply": "2025-05-08T00:18:37.720618Z"
    }
   },
   "outputs": [
    {
     "data": {
      "text/html": [
       "<div>\n",
       "<style scoped>\n",
       "    .dataframe tbody tr th:only-of-type {\n",
       "        vertical-align: middle;\n",
       "    }\n",
       "\n",
       "    .dataframe tbody tr th {\n",
       "        vertical-align: top;\n",
       "    }\n",
       "\n",
       "    .dataframe thead th {\n",
       "        text-align: right;\n",
       "    }\n",
       "</style>\n",
       "<table border=\"1\" class=\"dataframe\">\n",
       "  <thead>\n",
       "    <tr style=\"text-align: right;\">\n",
       "      <th></th>\n",
       "      <th>ADOS_STEREO_BEHAV</th>\n",
       "      <th>ADOS_GOTHAM_RRB</th>\n",
       "    </tr>\n",
       "  </thead>\n",
       "  <tbody>\n",
       "    <tr>\n",
       "      <th>ADOS_STEREO_BEHAV</th>\n",
       "      <td>1.000000</td>\n",
       "      <td>0.775084</td>\n",
       "    </tr>\n",
       "    <tr>\n",
       "      <th>ADOS_GOTHAM_RRB</th>\n",
       "      <td>0.775084</td>\n",
       "      <td>1.000000</td>\n",
       "    </tr>\n",
       "  </tbody>\n",
       "</table>\n",
       "</div>"
      ],
      "text/plain": [
       "                   ADOS_STEREO_BEHAV  ADOS_GOTHAM_RRB\n",
       "ADOS_STEREO_BEHAV           1.000000         0.775084\n",
       "ADOS_GOTHAM_RRB             0.775084         1.000000"
      ]
     },
     "execution_count": 24,
     "metadata": {},
     "output_type": "execute_result"
    }
   ],
   "source": [
    "pheno_1.query('not ADOS_STEREO_BEHAV.isnull() and not ADOS_GOTHAM_RRB.isnull()')[['ADOS_STEREO_BEHAV', 'ADOS_GOTHAM_RRB']].corr()"
   ]
  },
  {
   "cell_type": "code",
   "execution_count": 25,
   "metadata": {
    "execution": {
     "iopub.execute_input": "2025-05-08T00:18:37.723787Z",
     "iopub.status.busy": "2025-05-08T00:18:37.723625Z",
     "iopub.status.idle": "2025-05-08T00:18:37.768581Z",
     "shell.execute_reply": "2025-05-08T00:18:37.767541Z"
    }
   },
   "outputs": [
    {
     "data": {
      "text/html": [
       "<div>\n",
       "<style scoped>\n",
       "    .dataframe tbody tr th:only-of-type {\n",
       "        vertical-align: middle;\n",
       "    }\n",
       "\n",
       "    .dataframe tbody tr th {\n",
       "        vertical-align: top;\n",
       "    }\n",
       "\n",
       "    .dataframe thead th {\n",
       "        text-align: right;\n",
       "    }\n",
       "</style>\n",
       "<table border=\"1\" class=\"dataframe\">\n",
       "  <thead>\n",
       "    <tr style=\"text-align: right;\">\n",
       "      <th></th>\n",
       "      <th>ADOS_G_STEREO_BEHAV</th>\n",
       "      <th>ADOS_2_RRB</th>\n",
       "    </tr>\n",
       "  </thead>\n",
       "  <tbody>\n",
       "    <tr>\n",
       "      <th>ADOS_G_STEREO_BEHAV</th>\n",
       "      <td>1.000000</td>\n",
       "      <td>0.870761</td>\n",
       "    </tr>\n",
       "    <tr>\n",
       "      <th>ADOS_2_RRB</th>\n",
       "      <td>0.870761</td>\n",
       "      <td>1.000000</td>\n",
       "    </tr>\n",
       "  </tbody>\n",
       "</table>\n",
       "</div>"
      ],
      "text/plain": [
       "                     ADOS_G_STEREO_BEHAV  ADOS_2_RRB\n",
       "ADOS_G_STEREO_BEHAV             1.000000    0.870761\n",
       "ADOS_2_RRB                      0.870761    1.000000"
      ]
     },
     "execution_count": 25,
     "metadata": {},
     "output_type": "execute_result"
    }
   ],
   "source": [
    "pheno_2.query('not ADOS_G_STEREO_BEHAV.isnull() and not ADOS_2_RRB.isnull()')[['ADOS_G_STEREO_BEHAV', 'ADOS_2_RRB']].corr()"
   ]
  },
  {
   "cell_type": "code",
   "execution_count": 26,
   "metadata": {
    "execution": {
     "iopub.execute_input": "2025-05-08T00:18:37.771053Z",
     "iopub.status.busy": "2025-05-08T00:18:37.770881Z",
     "iopub.status.idle": "2025-05-08T00:18:38.717520Z",
     "shell.execute_reply": "2025-05-08T00:18:38.716537Z"
    }
   },
   "outputs": [],
   "source": [
    "pheno_1['ADOS_CSS_RRB_proxy'] = lookup(pheno_1, sev, col='ADOS_STEREO_BEHAV')\n",
    "pheno_1['ADOS_CSS_RRB_proxy_fully'] = lookup(pheno_1, sev, col='ADOS_STEREO_BEHAV', col_alt='ADOS_GOTHAM_RRB')\n",
    "pheno_2['ADOS_CSS_RRB_proxy'] = lookup(pheno_2, sev, col='ADOS_G_STEREO_BEHAV')\n",
    "pheno_2['ADOS_CSS_RRB_proxy_fully'] = lookup(pheno_2, sev, col='ADOS_G_STEREO_BEHAV', col_alt='ADOS_2_RRB')"
   ]
  },
  {
   "cell_type": "code",
   "execution_count": 27,
   "metadata": {
    "execution": {
     "iopub.execute_input": "2025-05-08T00:18:38.720053Z",
     "iopub.status.busy": "2025-05-08T00:18:38.719814Z",
     "iopub.status.idle": "2025-05-08T00:18:38.724952Z",
     "shell.execute_reply": "2025-05-08T00:18:38.724423Z"
    }
   },
   "outputs": [],
   "source": [
    "# Combine the raw totals that were used to compute the CSS RRB\n",
    "pheno_1['ADOS_RAW_RRB_combined'] = pheno_1['ADOS_STEREO_BEHAV']\n",
    "pheno_1['ADOS_RAW_RRB_combined'] = pheno_1['ADOS_RAW_RRB_combined'].fillna(pheno_1['ADOS_GOTHAM_RRB'])\n",
    "\n",
    "pheno_2['ADOS_RAW_RRB_combined'] = pheno_2['ADOS_G_STEREO_BEHAV']\n",
    "pheno_2['ADOS_RAW_RRB_combined'] = pheno_2['ADOS_RAW_RRB_combined'].fillna(pheno_2['ADOS_2_RRB'])"
   ]
  },
  {
   "cell_type": "code",
   "execution_count": 28,
   "metadata": {
    "execution": {
     "iopub.execute_input": "2025-05-08T00:18:38.726749Z",
     "iopub.status.busy": "2025-05-08T00:18:38.726587Z",
     "iopub.status.idle": "2025-05-08T00:18:38.729981Z",
     "shell.execute_reply": "2025-05-08T00:18:38.729485Z"
    }
   },
   "outputs": [
    {
     "name": "stdout",
     "output_type": "stream",
     "text": [
      "Next wont run unless converted to code\n"
     ]
    }
   ],
   "source": [
    "print('Next wont run unless converted to code')"
   ]
  },
  {
   "cell_type": "code",
   "execution_count": 29,
   "metadata": {
    "execution": {
     "iopub.execute_input": "2025-05-08T00:18:38.732038Z",
     "iopub.status.busy": "2025-05-08T00:18:38.731879Z",
     "iopub.status.idle": "2025-05-08T00:18:38.810741Z",
     "shell.execute_reply": "2025-05-08T00:18:38.810153Z"
    }
   },
   "outputs": [],
   "source": [
    "pheno_1.to_csv(pheno_1_out_p, sep='\\t', index=False)\n",
    "pheno_2.to_csv(pheno_2_out_p, sep='\\t', index=False)"
   ]
  },
  {
   "cell_type": "code",
   "execution_count": null,
   "metadata": {},
   "outputs": [],
   "source": []
  }
 ],
 "metadata": {
  "kernelspec": {
   "display_name": "Python 3 (ipykernel)",
   "language": "python",
   "name": "python3"
  },
  "language_info": {
   "codemirror_mode": {
    "name": "ipython",
    "version": 3
   },
   "file_extension": ".py",
   "mimetype": "text/x-python",
   "name": "python",
   "nbconvert_exporter": "python",
   "pygments_lexer": "ipython3",
   "version": "3.12.3"
  }
 },
 "nbformat": 4,
 "nbformat_minor": 4
}
