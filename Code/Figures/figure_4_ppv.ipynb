{
 "cells": [
  {
   "cell_type": "code",
   "execution_count": 1,
   "metadata": {},
   "outputs": [],
   "source": [
    "%matplotlib inline"
   ]
  },
  {
   "cell_type": "code",
   "execution_count": 2,
   "metadata": {},
   "outputs": [],
   "source": [
    "import pandas as pd\n",
    "import numpy as np\n",
    "\n",
    "from matplotlib import pyplot as plt\n",
    "from pathlib import Path"
   ]
  },
  {
   "cell_type": "code",
   "execution_count": 3,
   "metadata": {},
   "outputs": [],
   "source": [
    "root_p = Path('/home/neuromod/ASD_project_clean')\n",
    "pheno_validation_p = root_p / 'Data/ABIDE_2_Pheno_PSM_matched_ados.tsv'\n",
    "pheno_boot_p = root_p / 'Data/ABIDE_1_Pheno_PSM_matched_ados.tsv'\n",
    "model_1_valid_p = root_p / 'Results/Validation/validation_net_split_1_model_1_combined_p_values.tsv'\n",
    "model_2_valid_p = root_p / 'Results/Validation/validation_net_split_1_model_2_combined_p_values.tsv'\n",
    "p0_boot_p = root_p / 'Results/Discovery/split_net_1_p0.tsv'\n",
    "p1_boot_p = root_p / 'Results/Discovery/split_net_1_p1.tsv'\n",
    "boot_id_p = root_p / 'Results/Discovery/boot_subject_ids.tsv'\n",
    "\n",
    "fig_p = root_p / 'Figures/fig4'\n",
    "fig_p.mkdir(parents=True, exist_ok=True) "
   ]
  },
  {
   "cell_type": "code",
   "execution_count": 4,
   "metadata": {},
   "outputs": [],
   "source": [
    "pheno_valid = pd.read_csv(pheno_validation_p, sep='\\t')\n",
    "pheno_boot = pd.read_csv(pheno_boot_p, sep='\\t')\n",
    "model1_valid = pd.read_csv(model_1_valid_p, sep='\\t')\n",
    "model2_valid = pd.read_csv(model_2_valid_p, sep='\\t')\n",
    "p0_boot = pd.read_csv(p0_boot_p, sep='\\t')\n",
    "p1_boot = pd.read_csv(p1_boot_p, sep='\\t')\n",
    "boot_id = pd.read_csv(boot_id_p, sep='\\t', header=None)"
   ]
  },
  {
   "cell_type": "code",
   "execution_count": 5,
   "metadata": {},
   "outputs": [],
   "source": [
    "classes_validation = (pheno_valid.DX_GROUP=='Autism').values.astype(int)\n",
    "classes_boot = (pheno_boot.DX_GROUP=='Autism').values.astype(int)"
   ]
  },
  {
   "cell_type": "code",
   "execution_count": 6,
   "metadata": {},
   "outputs": [],
   "source": [
    "base_rate = 1/90"
   ]
  },
  {
   "cell_type": "code",
   "execution_count": 7,
   "metadata": {},
   "outputs": [],
   "source": [
    "# Compute for known Genes\n",
    "# 16pDEL11.2\n",
    "cnv16p_del = [0.0001, 0.22]\n",
    "cnv16p_dup = [0.0003, 0.26]\n",
    "cnv_22q_del = [1/4000, 0.3]\n",
    "\n",
    "snp_rs910805 = [0.76, 0.01278454541]\n",
    "snp_rs10099100 = [0.6872, 0.01263397433]\n",
    "snp_rs201910565 = [0.689, 0.01254695107]\n",
    "snp_rs71190156 = [0.481, 0.01255934664]\n",
    "snp_rs111931861 = [0.966, 0.0123910774] # 0.0143910774]\n",
    "\n",
    "gene_FMR1 = [1.4/10000, 0.4339622642] # Fragile X\n",
    "gene_TSC2 = [1/25000, 0.4965277778] # Tuberous sclerosis complex\n",
    "gene_DHCR7 = [1/60000, 0.6774193548] # Smith-Lemli-Opitz Syndrome\n",
    "gene_UBE3A = [1/20000, 0.6585365854] # Angelman syndrome"
   ]
  },
  {
   "cell_type": "markdown",
   "metadata": {},
   "source": [
    "### Validated HCS"
   ]
  },
  {
   "cell_type": "code",
   "execution_count": 8,
   "metadata": {},
   "outputs": [
    {
     "name": "stderr",
     "output_type": "stream",
     "text": [
      "/tmp/ipykernel_1286228/1501850102.py:27: RuntimeWarning: invalid value encountered in scalar divide\n",
      "  pop_ppv = pop_tp / (pop_tp + pop_fp)\n"
     ]
    }
   ],
   "source": [
    "base_rate = 1/90\n",
    "thr = 0.2\n",
    "l_or = list()\n",
    "l_prevalence = list()\n",
    "for i in range(100):\n",
    "    ind_idx = (boot_id.iloc[:, i]-1).values\n",
    "    boot_sample_classes = classes_boot[ind_idx]\n",
    "    p1 = p1_boot.iloc[:, i].values\n",
    "    p0 = p0_boot.iloc[:, i].values\n",
    "    predict_asd = ((p1>thr) & (p0<=thr)).astype(int)\n",
    "    p = sum(boot_sample_classes==1)\n",
    "    n = sum(boot_sample_classes==0)\n",
    "    tp = sum((boot_sample_classes==1) & (predict_asd==1))\n",
    "    fp = sum((boot_sample_classes==0) & (predict_asd==1))\n",
    "    fn = sum((boot_sample_classes==1) & (predict_asd==0))\n",
    "    tn = sum((boot_sample_classes==0) & (predict_asd==0))\n",
    "\n",
    "    sens = tp / p\n",
    "    spec = tn / n\n",
    "    # Estimate population parameters off the baserate\n",
    "    pop_p = base_rate\n",
    "    pop_n = (1-base_rate)\n",
    "    pop_tp = pop_p*sens\n",
    "    pop_tn = pop_n*spec\n",
    "    pop_fp = pop_n-pop_tn\n",
    "    pop_fn = pop_p-pop_tp\n",
    "    pop_ppv = pop_tp / (pop_tp + pop_fp)\n",
    "    pop_or = pop_ppv / base_rate\n",
    "    pop_labeled = (pop_tp + pop_fp) / 1.0\n",
    "    pop_jacc = pop_tp / ((base_rate + pop_labeled) - pop_tp)\n",
    "    #l_prevalence.append(np.log10(pop_labeled))\n",
    "    l_or.append(pop_ppv)\n",
    "    l_prevalence.append(pop_labeled)\n",
    "    #l_prevalence.append(sens)\n",
    "data = pd.DataFrame({'Odds': l_or, 'Prevalence':l_prevalence})"
   ]
  },
  {
   "cell_type": "code",
   "execution_count": 9,
   "metadata": {},
   "outputs": [],
   "source": [
    "base_rate = 1/90"
   ]
  },
  {
   "cell_type": "code",
   "execution_count": 10,
   "metadata": {},
   "outputs": [
    {
     "name": "stdout",
     "output_type": "stream",
     "text": [
      "Ensemble 2 sensitivity = 0.07075471698113207, specificity = 0.9575471698113207, PPV = 0.625, population PPV = 0.018382352941176464\n"
     ]
    }
   ],
   "source": [
    "thr = 0.2\n",
    "# Validated model (model 2)\n",
    "predict_asd_validation = ((model2_valid.iloc[:, 0].values>thr) & (model2_valid.iloc[:,1].values<=thr)).astype(int)\n",
    "classes_validation\n",
    "\n",
    "p = sum(classes_validation==1)\n",
    "n = sum(classes_validation==0)\n",
    "tp = sum((classes_validation==1) & (predict_asd_validation==1))\n",
    "fp = sum((classes_validation==0) & (predict_asd_validation==1))\n",
    "fn = sum((classes_validation==1) & (predict_asd_validation==0))\n",
    "tn = sum((classes_validation==0) & (predict_asd_validation==0))\n",
    "\n",
    "sens = tp / p\n",
    "spec = tn / n\n",
    "ppv = tp / (tp + fp)\n",
    "# Estimate population parameters off the baserate\n",
    "pop_p = base_rate\n",
    "pop_n = (1-base_rate)\n",
    "pop_tp = pop_p*sens\n",
    "pop_tn = pop_n*spec\n",
    "pop_fp = pop_n-pop_tn\n",
    "pop_fn = pop_p-pop_tp\n",
    "pop_ppv = pop_tp / (pop_tp + pop_fp)\n",
    "pop_or = pop_ppv / base_rate\n",
    "pop_labeled = (pop_tp + pop_fp) / 1.0\n",
    "pop_jacc = pop_tp / ((base_rate + pop_labeled) - pop_tp)\n",
    "validated_hcp = [pop_labeled, pop_ppv]\n",
    "print(f\"Ensemble 2 sensitivity = {sens}, specificity = {spec}, population PPV = {pop_ppv}\")"
   ]
  },
  {
   "cell_type": "code",
   "execution_count": 11,
   "metadata": {},
   "outputs": [
    {
     "name": "stdout",
     "output_type": "stream",
     "text": [
      "Ensemble 1 sensitivity = 0.04245283018867924, specificity = 0.9952830188679245, PPV = 0.9, population PPV = 0.09183673469387575\n",
      "TP = 0.0004716981132075472, FP = 0.004664570230608067\n"
     ]
    }
   ],
   "source": [
    "thr = 0.2\n",
    "# Validated model (model 1)\n",
    "predict_asd_validation = ((model1_valid.iloc[:, 0].values>thr) & (model1_valid.iloc[:,1].values<=thr)).astype(int)\n",
    "classes_validation\n",
    "\n",
    "p = sum(classes_validation==1)\n",
    "n = sum(classes_validation==0)\n",
    "tp = sum((classes_validation==1) & (predict_asd_validation==1))\n",
    "fp = sum((classes_validation==0) & (predict_asd_validation==1))\n",
    "fn = sum((classes_validation==1) & (predict_asd_validation==0))\n",
    "tn = sum((classes_validation==0) & (predict_asd_validation==0))\n",
    "\n",
    "sens = tp / p\n",
    "spec = tn / n\n",
    "ppv = tp / (tp + fp)\n",
    "# Estimate population parameters off the baserate\n",
    "pop_p = base_rate\n",
    "pop_n = (1-base_rate)\n",
    "pop_tp = pop_p*sens\n",
    "pop_tn = pop_n*spec\n",
    "pop_fp = pop_n-pop_tn\n",
    "pop_fn = pop_p-pop_tp\n",
    "pop_ppv = pop_tp / (pop_tp + pop_fp)\n",
    "pop_or = pop_ppv / base_rate\n",
    "pop_labeled = (pop_tp + pop_fp) / 1.0\n",
    "pop_jacc = pop_tp / ((base_rate + pop_labeled) - pop_tp)\n",
    "validated_hcp = [pop_labeled, pop_ppv]\n",
    "print(f\"Ensemble 1 sensitivity = {sens}, specificity = {spec}, population PPV = {pop_ppv}\")\n",
    "print(f\"TP = {pop_tp}, FP = {pop_fp}\")"
   ]
  },
  {
   "cell_type": "code",
   "execution_count": 12,
   "metadata": {},
   "outputs": [],
   "source": [
    "# Compute this for Abraham\n",
    "sens = 0.61\n",
    "spec = 0.723\n",
    "# Estimate population parameters off the baserate\n",
    "pop_p = base_rate\n",
    "pop_n = (1-base_rate)\n",
    "pop_tp = pop_p*sens\n",
    "pop_tn = pop_n*spec\n",
    "pop_fp = pop_n-pop_tn\n",
    "pop_fn = pop_p-pop_tp\n",
    "pop_ppv = pop_tp / (pop_tp + pop_fp)\n",
    "pop_or = pop_ppv / base_rate\n",
    "pop_labeled = (pop_tp + pop_fp) / 1.0\n",
    "pop_jacc = pop_tp / ((base_rate + pop_labeled) - pop_tp)\n",
    "abraham = [pop_labeled, pop_ppv]"
   ]
  },
  {
   "cell_type": "code",
   "execution_count": 13,
   "metadata": {},
   "outputs": [],
   "source": [
    "# Compute this for Craddock\n",
    "sens = 0.74\n",
    "spec = 0.63\n",
    "# Estimate population parameters off the baserate\n",
    "pop_p = base_rate\n",
    "pop_n = (1-base_rate)\n",
    "pop_tp = pop_p*sens\n",
    "pop_tn = pop_n*spec\n",
    "pop_fp = pop_n-pop_tn\n",
    "pop_fn = pop_p-pop_tp\n",
    "pop_ppv = pop_tp / (pop_tp + pop_fp)\n",
    "pop_or = pop_ppv / base_rate\n",
    "pop_labeled = (pop_tp + pop_fp)\n",
    "pop_jacc = pop_tp / ((base_rate + pop_labeled) - pop_tp)\n",
    "craddock = [pop_labeled, pop_ppv]"
   ]
  },
  {
   "cell_type": "code",
   "execution_count": 14,
   "metadata": {},
   "outputs": [],
   "source": [
    "# Compute this for Traut\n",
    "tpr = 0.254\n",
    "fpr = 0.03\n",
    "\n",
    "sens = tpr\n",
    "spec = 1-fpr\n",
    "# Estimate population parameters off the baserate\n",
    "pop_p = base_rate\n",
    "pop_n = (1-base_rate)\n",
    "pop_tp = pop_p*sens\n",
    "pop_tn = pop_n*spec\n",
    "pop_fp = pop_n-pop_tn\n",
    "pop_fn = pop_p-pop_tp\n",
    "pop_ppv = pop_tp / (pop_tp + pop_fp)\n",
    "pop_or = pop_ppv / base_rate\n",
    "pop_labeled = (pop_tp + pop_fp)\n",
    "pop_jacc = pop_tp / ((base_rate + pop_labeled) - pop_tp)\n",
    "traut = [pop_labeled, pop_ppv]"
   ]
  },
  {
   "cell_type": "code",
   "execution_count": 15,
   "metadata": {},
   "outputs": [],
   "source": [
    "def mm2in(mm):\n",
    "    return mm/25.4"
   ]
  },
  {
   "cell_type": "code",
   "execution_count": 16,
   "metadata": {},
   "outputs": [],
   "source": [
    "def jacc(x, base_rate=1/90):\n",
    "    return (x[0]*x[1]) / ((base_rate + x[0]) - x[0]*x[1])"
   ]
  },
  {
   "cell_type": "code",
   "execution_count": 17,
   "metadata": {},
   "outputs": [
    {
     "data": {
      "image/png": "[encoded data removed]",
      "text/plain": [
       "<Figure size 314.961x314.961 with 1 Axes>"
      ]
     },
     "metadata": {},
     "output_type": "display_data"
    }
   ],
   "source": [
    "dpi=300\n",
    "scale_factor = 1\n",
    "height = 80 * scale_factor\n",
    "width = 80 * scale_factor\n",
    "\n",
    "fs = 9\n",
    "\n",
    "f = plt.figure(figsize=(mm2in(width),mm2in(height)), constrained_layout=False)\n",
    "\n",
    "ax = f.add_subplot(111)\n",
    "ax.plot(validated_hcp[0], validated_hcp[1], marker='o', markersize=10, markerfacecolor='#FE9D08',\n",
    "             markeredgewidth=1.5, markeredgecolor='black', linestyle = 'None', label='High Risk Signature (replicated)')\n",
    "ax.scatter(data.Prevalence, data.Odds, c='#FE9D08', alpha=0.5, s=30, linewidth=1, marker=\"+\", linestyle = 'None', label='High Risk Signature (bootstrap)')\n",
    "# fMRI\n",
    "ax.plot(craddock[0], craddock[1], marker='o', markersize=5, color=\"firebrick\", linestyle = 'None', label='Heinsfeld (2018)')\n",
    "ax.plot(abraham[0], abraham[1], marker='o', markersize=5, color=\"lightcoral\", linestyle = 'None', label='Abraham (2017)')\n",
    "ax.plot(traut[0], traut[1], marker='o', markersize=5, color=\"red\", linestyle = 'None', label='Traut (2022)')\n",
    "# CNV\n",
    "ax.plot(cnv16p_del[0], cnv16p_del[1], marker='^', markersize=5, color=\"deeppink\", linestyle = 'None', label='CNV16p11.2 DEL')\n",
    "ax.plot(cnv16p_dup[0], cnv16p_dup[1], marker='^', markersize=5, color=\"magenta\", linestyle = 'None', label='CNV16p11.2 DUP')\n",
    "ax.plot(cnv_22q_del[0], cnv_22q_del[1], marker='^', markersize=5, color=\"orchid\", linestyle = 'None', label='CNV22q11.2 DEL')\n",
    "# SNP\n",
    "ax.plot(snp_rs910805[0], snp_rs910805[1], marker='v', markersize=5, color=\"gold\", linestyle = 'None', label='SNP rs910805')\n",
    "ax.plot(snp_rs10099100[0], snp_rs10099100[1], marker='v', markersize=5, color=\"khaki\", linestyle = 'None', label='SNP rs10099100')\n",
    "ax.plot(snp_rs201910565[0], snp_rs201910565[1], marker='v', markersize=5, color=\"y\", linestyle = 'None', label='SNP rs201910565')\n",
    "ax.plot(snp_rs71190156[0], snp_rs71190156[1], marker='v', markersize=5, color=\"gold\", linestyle = 'None', label='SNP rs71190156')\n",
    "ax.plot(snp_rs111931861[0], snp_rs111931861[1], marker='v', markersize=5, color=\"khaki\", linestyle = 'None', label='SNP rs111931861')\n",
    "# Genes\n",
    "ax.plot(gene_FMR1[0], gene_FMR1[1], marker='D', markersize=5, color=\"yellowgreen\", linestyle = 'None', label='FMR1 (Fragile X)')\n",
    "ax.plot(gene_TSC2[0], gene_TSC2[1], marker='D', markersize=5, color=\"olive\", linestyle = 'None', label='TSC2 (Tuberous sclerosis complex)')\n",
    "ax.plot(gene_DHCR7[0], gene_DHCR7[1], marker='D', markersize=5, color=\"forestgreen\", linestyle = 'None', label='DHCR7 (Smith-Lemli-Opitz Syndrome)')\n",
    "ax.plot(gene_UBE3A[0], gene_UBE3A[1], marker='D', markersize=5, color=\"limegreen\", linestyle = 'None', label='UBE3A (Angelman syndrome)')\n",
    "\n",
    "\n",
    "ax.set_xlim([10e-6, 1])\n",
    "\n",
    "ax.set(xscale=\"log\")\n",
    "ax.set(yscale=\"log\")\n",
    "#ax.set_ylim([0, 1])\n",
    "ax.set_xlabel('Prevalence in the General Population', fontsize=fs, labelpad=10)\n",
    "ax.set_ylabel('Positive Predictive Value\\n(Penetrance)', fontsize=fs)\n",
    "ax.set_yticks([0.01, 0.1, 1])\n",
    "ax.set_yticklabels(['1%', '10%', '100%'], fontsize=fs)\n",
    "ax.set_xticks(np.logspace(-5, 0, 6, base=10))\n",
    "ax.set_xticklabels(['0.001%', '0.01%','0.1%','1%', '10%', '100%'], fontsize=fs, rotation=20, ha='center')\n",
    "ax.xaxis.set_minor_locator(plt.LogLocator(base=10, numticks=5))\n",
    "#ax.set_yticklabels(['1:1', '10:1', '100:1'])\n",
    "\n",
    "#handles, labels = ax.get_legend_handles_labels()\n",
    "\n",
    "# sort both labels and handles by labels\n",
    "#labels.insert(0, labels[-1])\n",
    "#labels.pop(-1)\n",
    "#handles.insert(0, handles[-1])\n",
    "#handles.pop(-1)\n",
    "\n",
    "#lgd = ax.legend(handles, labels, loc='upper center', bbox_to_anchor=(0.5, -0.3),\n",
    "          #ncol=3, fancybox=False, shadow=False, fontsize=10);\n",
    "ax.set_title('Individual risk associated \\nwith different ASD risk markers', fontsize=fs);\n",
    "\n",
    "f.savefig(fig_p / 'fig4_ppv_nolegend.png', dpi=300, transparent=True, bbox_inches='tight')\n",
    "f.savefig(fig_p / 'fig4_ppv_nolegend.svg', dpi=300, transparent=True, bbox_inches='tight')"
   ]
  },
  {
   "cell_type": "code",
   "execution_count": null,
   "metadata": {},
   "outputs": [],
   "source": []
  }
 ],
 "metadata": {
  "kernelspec": {
   "display_name": "Python 3 (ipykernel)",
   "language": "python",
   "name": "python3"
  },
  "language_info": {
   "codemirror_mode": {
    "name": "ipython",
    "version": 3
   },
   "file_extension": ".py",
   "mimetype": "text/x-python",
   "name": "python",
   "nbconvert_exporter": "python",
   "pygments_lexer": "ipython3",
   "version": "3.10.10"
  },
  "toc-autonumbering": true,
  "toc-showcode": false,
  "toc-showmarkdowntxt": false,
  "toc-showtags": false
 },
 "nbformat": 4,
 "nbformat_minor": 4
}
