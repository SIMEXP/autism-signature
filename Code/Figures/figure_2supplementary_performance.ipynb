{
 "cells": [
  {
   "cell_type": "code",
   "execution_count": 1,
   "metadata": {},
   "outputs": [],
   "source": [
    "%matplotlib inline"
   ]
  },
  {
   "cell_type": "code",
   "execution_count": 2,
   "metadata": {},
   "outputs": [],
   "source": [
    "import numpy as np\n",
    "import warnings\n",
    "import pathlib as pal\n",
    "import pandas as pd\n",
    "\n",
    "from matplotlib import pyplot as plt\n",
    "from matplotlib import gridspec\n",
    "from scipy.stats import bootstrap"
   ]
  },
  {
   "cell_type": "code",
   "execution_count": 3,
   "metadata": {},
   "outputs": [],
   "source": [
    "warnings.filterwarnings(\"ignore\", category=UserWarning, message=\"There are no gridspecs with layoutgrids\")"
   ]
  },
  {
   "cell_type": "code",
   "execution_count": 4,
   "metadata": {},
   "outputs": [],
   "source": [
    "def get_ppv(sens, spec, prev):\n",
    "    tp = sens * prev\n",
    "    tn = spec * (1-prev)\n",
    "    fp = (1-spec) * (1-prev)\n",
    "    fn = (1-sens) * prev\n",
    "    ppv = tp/(tp+fp)\n",
    "    return ppv\n",
    "\n",
    "def get_acc(sens, spec, prev):\n",
    "    tp = sens * prev\n",
    "    tn = spec * (1-prev)\n",
    "    fp = (1-spec) * (1-prev)\n",
    "    fn = (1-sens) * prev\n",
    "    acc = (tp+tn)/(tp+fp+tn+fn)\n",
    "    return acc\n",
    "\n",
    "def get_or(sens, spec, prev):\n",
    "    tp = sens * prev\n",
    "    tn = spec * (1-prev)\n",
    "    fp = (1-spec) * (1-prev)\n",
    "    fn = (1-sens) * prev\n",
    "    OR = (tp/fp)/(fn/tn)\n",
    "    return OR\n",
    "\n",
    "def get_rr(sens, spec, prev):\n",
    "    tp = sens * prev\n",
    "    tn = spec * (1-prev)\n",
    "    fp = (1-spec) * (1-prev)\n",
    "    fn = (1-sens) * prev\n",
    "    RR = (tp/(fp+tp))/(fn/(fn+tn))\n",
    "    return RR"
   ]
  },
  {
   "cell_type": "code",
   "execution_count": 5,
   "metadata": {},
   "outputs": [],
   "source": [
    "def calculate_bootstrap_ci(sens_dist, spec_dist, prev_range, metric_func, n_boot=100):\n",
    "    \"\"\"Calculate median and botstrap CI for a given metric, across prevalence range\"\"\"\n",
    "    medians = []\n",
    "    lower = []\n",
    "    upper = []\n",
    "    \n",
    "    for prev in prev_range:\n",
    "        # Calculate metric for all bootstrap samples at this prevalence\n",
    "        metric_dist = [metric_func(sens, spec, prev) \n",
    "                       for sens, spec in zip(sens_dist, spec_dist)]\n",
    "        \n",
    "        # Compute statistics\n",
    "        medians.append(np.median(metric_dist))\n",
    "        ci = bootstrap((metric_dist,), np.median, method='BCa', n_resamples=n_boot).confidence_interval\n",
    "        lower.append(ci.low)\n",
    "        upper.append(ci.high)\n",
    "    \n",
    "    return np.array(medians), np.array(lower), np.array(upper)"
   ]
  },
  {
   "cell_type": "code",
   "execution_count": 16,
   "metadata": {},
   "outputs": [],
   "source": [
    "# Load bootstrap results\n",
    "root_p = pal.Path('/home/neuromod/ASD_project_clean')\n",
    "bootstrap_p = root_p / \"Results/Discovery/table_split.csv\"\n",
    "\n",
    "fig_p = root_p / 'Figures'\n",
    "fig_p.mkdir(parents=True, exist_ok=True) "
   ]
  },
  {
   "cell_type": "code",
   "execution_count": 7,
   "metadata": {},
   "outputs": [],
   "source": [
    "df = pd.read_csv(bootstrap_p)\n",
    "group_1_data = df[df['network'] == 'group_1']"
   ]
  },
  {
   "cell_type": "code",
   "execution_count": 8,
   "metadata": {},
   "outputs": [],
   "source": [
    "prev_range = np.logspace(-2, 0, 100)"
   ]
  },
  {
   "cell_type": "code",
   "execution_count": 9,
   "metadata": {},
   "outputs": [
    {
     "name": "stderr",
     "output_type": "stream",
     "text": [
      "/tmp/ipykernel_1064883/2668870428.py:6: RuntimeWarning: invalid value encountered in scalar divide\n",
      "  ppv = tp/(tp+fp)\n",
      "/home/neuromod/ASD_project_clean/env/lib/python3.10/site-packages/scipy/_lib/_util.py:440: DegenerateDataWarning: The BCa confidence interval cannot be calculated. This problem is known to occur when the distribution is degenerate or the statistic is np.min.\n",
      "  return fun(*args, **kwargs)\n",
      "/tmp/ipykernel_1064883/2668870428.py:30: RuntimeWarning: invalid value encountered in scalar divide\n",
      "  RR = (tp/(fp+tp))/(fn/(fn+tn))\n"
     ]
    }
   ],
   "source": [
    "# Calculate bootstrap CIs for all metrics\n",
    "median_ppv, lower_ppv, upper_ppv = calculate_bootstrap_ci(\n",
    "    group_1_data['sensitivity'], group_1_data['specificity'], prev_range, get_ppv)\n",
    "\n",
    "median_acc, lower_acc, upper_acc = calculate_bootstrap_ci(\n",
    "    group_1_data['sensitivity'], group_1_data['specificity'], prev_range, get_acc)\n",
    "\n",
    "median_rr, lower_rr, upper_rr = calculate_bootstrap_ci(\n",
    "    group_1_data['sensitivity'], group_1_data['specificity'], prev_range, get_rr)"
   ]
  },
  {
   "cell_type": "code",
   "execution_count": 10,
   "metadata": {},
   "outputs": [],
   "source": [
    "# Calculate Traut sensitivity and specificity from figure 2B of their paper, confirmatory approach\n",
    "traut_tpr = 0.254\n",
    "traut_fpr = 0.03\n",
    "\n",
    "traut_sens = traut_tpr\n",
    "traut_spec = 1-traut_fpr"
   ]
  },
  {
   "cell_type": "code",
   "execution_count": 11,
   "metadata": {},
   "outputs": [
    {
     "name": "stdout",
     "output_type": "stream",
     "text": [
      "0.011111111111111112\n"
     ]
    }
   ],
   "source": [
    "# Base rate\n",
    "print(1/90)"
   ]
  },
  {
   "cell_type": "code",
   "execution_count": 12,
   "metadata": {},
   "outputs": [],
   "source": [
    "mod_abraham = (0.61, 0.723) # Abraham model\n",
    "mod_heinsfeld = (0.74, 0.63) # Heinsfeld model\n",
    "mod_traut = (traut_sens, traut_spec) # Traut model"
   ]
  },
  {
   "cell_type": "code",
   "execution_count": 13,
   "metadata": {},
   "outputs": [],
   "source": [
    "def mm2in(mm):\n",
    "    return mm/25.4"
   ]
  },
  {
   "cell_type": "code",
   "execution_count": 14,
   "metadata": {},
   "outputs": [],
   "source": [
    "from matplotlib import rcParams\n",
    "rcParams['font.sans-serif'] = ['Arial']"
   ]
  },
  {
   "cell_type": "code",
   "execution_count": 25,
   "metadata": {},
   "outputs": [
    {
     "data": {
      "image/png": "[encoded data removed]",
      "text/plain": [
       "<Figure size 472.441x118.11 with 3 Axes>"
      ]
     },
     "metadata": {},
     "output_type": "display_data"
    }
   ],
   "source": [
    "dpi=300\n",
    "scale_factor = 1\n",
    "height = 30 * scale_factor\n",
    "width = 120 * scale_factor\n",
    "\n",
    "f = plt.figure(figsize=(mm2in(width),mm2in(height)), constrained_layout=True)\n",
    "gs = gridspec.GridSpec(nrows=1, ncols=3, wspace=0.6)\n",
    "ax1 = f.add_subplot(gs[0])\n",
    "ax2 = f.add_subplot(gs[2])\n",
    "ax3 = f.add_subplot(gs[1])\n",
    "\n",
    "# Plot PPV with bootstrap CI\n",
    "ax1.plot(prev_range, median_ppv, label='HRS model', color='#FE9D08')\n",
    "ax1.fill_between(prev_range, lower_ppv, upper_ppv, color='#FE9D08', alpha=0.2)\n",
    "ax1.plot(prev_range, [get_ppv(*mod_abraham, prev) for prev in prev_range], label='Abraham (2017)', color=\"lightcoral\", alpha=0.5)\n",
    "ax1.plot(prev_range, [get_ppv(*mod_heinsfeld, prev) for prev in prev_range], label='Heinsfeld (2018)', color=\"firebrick\", alpha=0.5)\n",
    "ax1.plot(prev_range, [get_ppv(*mod_traut, prev) for prev in prev_range], label='Traut (2022)', color=\"red\", alpha=0.5)\n",
    "\n",
    "ax1.vlines(0.5, 0, 1, color='black')\n",
    "ax1.vlines(0.011, 0, 1, color='grey')\n",
    "ax1.vlines(0.0169, 0, 1, color='lightgrey')\n",
    "ax1.set_xscale('log')\n",
    "\n",
    "ax1.set_xticks([0.01, 0.1, 0.5, 1])\n",
    "ax1.set_yticks([0, 0.5, 1])\n",
    "\n",
    "ax1.set_xticklabels([])\n",
    "ax1.set_ylabel('PPV', fontsize=8)\n",
    "ax1.set_xticklabels(['1%', '10%', '50%', '100%'], rotation=40, fontsize=8)\n",
    "\n",
    "ax1.set_title('Positive Predictive Value', fontsize=10)\n",
    "ax1.set_ylim(0, 1)\n",
    "\n",
    "# Plot Accuracy with bootstrap CI\n",
    "ax2.plot(prev_range, median_acc, label='HRS model', color='#FE9D08')\n",
    "ax2.fill_between(prev_range, lower_acc, upper_acc, color='#FE9D08', alpha=0.2)\n",
    "ax2.plot(prev_range, [get_acc(*mod_abraham, prev) for prev in prev_range], label='Abraham (2017)', color=\"lightcoral\", alpha=0.5)\n",
    "ax2.plot(prev_range, [get_acc(*mod_heinsfeld, prev) for prev in prev_range], label='Heinsfeld (2018)', color=\"firebrick\", alpha=0.5)\n",
    "ax2.plot(prev_range, [get_acc(*mod_traut, prev) for prev in prev_range], label='Traut (2022)', color=\"red\", alpha=0.5)\n",
    "\n",
    "ax2.vlines(0.5, 0, 1, color='black', label='balanced prevalence')\n",
    "ax2.vlines(0.011, 0, 1, color='grey', label='global prevalence (Bai (2019))')\n",
    "ax2.vlines(0.0169, 0, 1, color='lightgrey', label= 'US prevalence (Baio (2018))')\n",
    "ax2.set_xscale('log')\n",
    "\n",
    "ax2.set_xticks([0.01, 0.1, 0.5, 1])\n",
    "ax2.set_yticks([0, 0.5, 1])\n",
    "ax2.set_xticklabels([])\n",
    "ax2.set_ylabel('Accuracy', fontsize=8)\n",
    "ax2.set_xticklabels(['1%', '10%', '50%', '100%'], rotation=40, fontsize=8)\n",
    "\n",
    "ax2.set_title('Accuracy', fontsize=10)\n",
    "ax2.set_ylim(0, 1)\n",
    "\n",
    "# Plot Risk Ratio with bootstrap CI\n",
    "ax3.plot(prev_range, median_rr, label='HRS model', color='#FE9D08')\n",
    "ax3.fill_between(prev_range, lower_rr, upper_rr, color='#FE9D08', alpha=0.2)\n",
    "ax3.plot(prev_range, [get_rr(*mod_abraham, prev) for prev in prev_range], label='Abraham (2017)', color=\"lightcoral\", alpha=0.5)\n",
    "ax3.plot(prev_range, [get_rr(*mod_heinsfeld, prev) for prev in prev_range], label='Heinsfeld (2018)', color=\"firebrick\", alpha=0.5)\n",
    "ax3.plot(prev_range, [get_rr(*mod_traut, prev) for prev in prev_range], label='Traut (2022)', color=\"red\", alpha=0.5)\n",
    "\n",
    "ax3.vlines(0.5, 0, 10.5, color='black')\n",
    "ax3.vlines(0.011, 0, 10.5, color='grey')\n",
    "ax3.vlines(0.0169, 0, 10.5, color='lightgrey')\n",
    "ax3.set_xscale('log')\n",
    "\n",
    "ax3.set_ylabel('RiskRatio', fontsize=8)\n",
    "ax3.set_xlabel('ASD Prevalence in dataset', fontsize=10)\n",
    "ax3.set_xticks([0.01, 0.1, 0.5, 1])\n",
    "ax3.set_xticklabels(['1%', '10%', '50%', '100%'], rotation=40, fontsize=8)\n",
    "ax3.set_title('Risk Ratio', fontsize=10)\n",
    "ax3.set_ylim(0, 10.5)\n",
    "\n",
    "lgd = ax2.legend(loc='lower left', fontsize=8, bbox_to_anchor=(1.2, -0.2))\n",
    "f.savefig(fig_p / 'fig2_supp_performance.png', bbox_extra_artists=(lgd,), dpi=300, transparent=True, bbox_inches='tight')\n",
    "f.savefig(fig_p / 'fig2_supp_performance.svg', bbox_extra_artists=(lgd,), dpi=300, transparent=True, bbox_inches='tight')"
   ]
  },
  {
   "cell_type": "code",
   "execution_count": null,
   "metadata": {},
   "outputs": [],
   "source": []
  }
 ],
 "metadata": {
  "kernelspec": {
   "display_name": "Python 3 (ipykernel)",
   "language": "python",
   "name": "python3"
  },
  "language_info": {
   "codemirror_mode": {
    "name": "ipython",
    "version": 3
   },
   "file_extension": ".py",
   "mimetype": "text/x-python",
   "name": "python",
   "nbconvert_exporter": "python",
   "pygments_lexer": "ipython3",
   "version": "3.10.10"
  }
 },
 "nbformat": 4,
 "nbformat_minor": 4
}
